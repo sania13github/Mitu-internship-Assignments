{
 "cells": [
  {
   "cell_type": "code",
   "execution_count": 5,
   "id": "b6d97bd1-71c3-48a0-879c-6c79f3872846",
   "metadata": {},
   "outputs": [],
   "source": [
    "f = open('maha.txt' , 'r')"
   ]
  },
  {
   "cell_type": "code",
   "execution_count": 6,
   "id": "32d316d4-c5a7-4786-942d-5cf12cf07160",
   "metadata": {},
   "outputs": [
    {
     "name": "stdout",
     "output_type": "stream",
     "text": [
      "maha.txt\n"
     ]
    }
   ],
   "source": [
    "print (f.name)"
   ]
  },
  {
   "cell_type": "code",
   "execution_count": 9,
   "id": "2d0c92d4-28b6-4252-9ccb-968d3af4c90c",
   "metadata": {},
   "outputs": [
    {
     "name": "stdout",
     "output_type": "stream",
     "text": [
      "Life comprises individuals, living beings, assignable to groups (taxa). Each individual is composed of one or more minimal living units, called cells, and is capable of transformation of carbon-based and other compounds (metabolism), growth, and participation in reproductive acts.\n"
     ]
    }
   ],
   "source": [
    "print(f.read())"
   ]
  },
  {
   "cell_type": "code",
   "execution_count": 10,
   "id": "2937d964-8b93-45a8-a2b8-4bba954496f6",
   "metadata": {},
   "outputs": [
    {
     "name": "stdout",
     "output_type": "stream",
     "text": [
      "r\n"
     ]
    }
   ],
   "source": [
    "print(f.mode)"
   ]
  },
  {
   "cell_type": "code",
   "execution_count": 11,
   "id": "8d78443b-8f69-4332-9a76-0741fd5769f5",
   "metadata": {},
   "outputs": [],
   "source": [
    "f.close()"
   ]
  },
  {
   "cell_type": "code",
   "execution_count": 12,
   "id": "f8171646-1508-4afa-ae86-2d457f61900d",
   "metadata": {},
   "outputs": [
    {
     "data": {
      "text/plain": [
       "True"
      ]
     },
     "execution_count": 12,
     "metadata": {},
     "output_type": "execute_result"
    }
   ],
   "source": [
    "f.closed"
   ]
  },
  {
   "cell_type": "code",
   "execution_count": 13,
   "id": "d3226da9-67d9-4930-b9bd-2178b38386f4",
   "metadata": {},
   "outputs": [],
   "source": [
    "# open with context manager\n",
    "\n",
    "with open('maha.txt' , 'r') as f:\n",
    "    pass"
   ]
  },
  {
   "cell_type": "code",
   "execution_count": 14,
   "id": "a12a7f3b-54f9-475d-b9bf-c4715b8cd064",
   "metadata": {},
   "outputs": [
    {
     "data": {
      "text/plain": [
       "True"
      ]
     },
     "execution_count": 14,
     "metadata": {},
     "output_type": "execute_result"
    }
   ],
   "source": [
    "f.closed"
   ]
  },
  {
   "cell_type": "code",
   "execution_count": 16,
   "id": "3d9df5b4-3819-42aa-a795-263d8820601c",
   "metadata": {},
   "outputs": [
    {
     "name": "stdout",
     "output_type": "stream",
     "text": [
      "Life comprises individuals, living beings, assignable to groups (taxa). Each individual is composed of one or more minimal living units, called cells, and is capable of transformation of carbon-based and other compounds (metabolism), growth, and participation in reproductive acts.\n"
     ]
    }
   ],
   "source": [
    "with open('maha.txt' , 'r') as f:\n",
    "    content = f.read()\n",
    "    print (content)"
   ]
  },
  {
   "cell_type": "code",
   "execution_count": 17,
   "id": "6f68ac6e-de97-42cd-9853-7fa7004696db",
   "metadata": {},
   "outputs": [
    {
     "name": "stdout",
     "output_type": "stream",
     "text": [
      "['Life comprises individuals, living beings, assignable to groups (taxa). Each individual is composed of one or more minimal living units, called cells, and is capable of transformation of carbon-based and other compounds (metabolism), growth, and participation in reproductive acts.']\n"
     ]
    }
   ],
   "source": [
    "with open('maha.txt' , 'r') as f:\n",
    "    content = f.readlines()\n",
    "    print (content)"
   ]
  },
  {
   "cell_type": "code",
   "execution_count": 18,
   "id": "c18cacf8-ab37-4edb-a2ee-7ac00ca130dc",
   "metadata": {},
   "outputs": [
    {
     "name": "stdout",
     "output_type": "stream",
     "text": [
      "['This is first line.\\n', 'This is second line.\\n', 'This is third line.\\n', 'This is fourth line.']\n"
     ]
    }
   ],
   "source": [
    "with open('test1.txt' , 'r') as f:\n",
    "    content = f.readlines()\n",
    "    print (content)"
   ]
  },
  {
   "cell_type": "code",
   "execution_count": 19,
   "id": "b8e32244-58b8-4d13-a285-546323cbdb21",
   "metadata": {},
   "outputs": [
    {
     "name": "stdout",
     "output_type": "stream",
     "text": [
      "This is first line.\n",
      "\n"
     ]
    }
   ],
   "source": [
    "with open('test1.txt' , 'r') as f:\n",
    "    content = f.readline()\n",
    "    print (content)"
   ]
  },
  {
   "cell_type": "code",
   "execution_count": 25,
   "id": "7121ce40-e8ae-49c3-a8c7-0f52794fdd2b",
   "metadata": {},
   "outputs": [
    {
     "name": "stdout",
     "output_type": "stream",
     "text": [
      "This is first line.\n",
      "This is second line.\n",
      "\n"
     ]
    }
   ],
   "source": [
    "with open('test1.txt' , 'r') as f:\n",
    "    content = f.readline()\n",
    "    print (content, end ='')\n",
    "    \n",
    "    content = f.readline()\n",
    "    print (content)"
   ]
  },
  {
   "cell_type": "code",
   "execution_count": 26,
   "id": "bab2d085-94af-4add-a241-70750ec0428e",
   "metadata": {},
   "outputs": [
    {
     "name": "stdout",
     "output_type": "stream",
     "text": [
      "This is first line.\n",
      "This is second line.\n",
      "This is third line.\n",
      "This is fourth line."
     ]
    }
   ],
   "source": [
    "with open('test1.txt' , 'r') as f:\n",
    "    for line in f:\n",
    "        print(line , end = '')"
   ]
  },
  {
   "cell_type": "code",
   "execution_count": 27,
   "id": "c879e78c-efc3-49d6-8947-0f7ffa53f4aa",
   "metadata": {},
   "outputs": [
    {
     "name": "stdout",
     "output_type": "stream",
     "text": [
      "Thi\n"
     ]
    }
   ],
   "source": [
    "# read the 3 character\n",
    "\n",
    "with open('test1.txt' , 'r') as f:\n",
    "    content = f.read(3)\n",
    "    print (content)"
   ]
  },
  {
   "cell_type": "code",
   "execution_count": 33,
   "id": "c72b95a9-7d87-4075-b944-55da9aaf29b0",
   "metadata": {},
   "outputs": [
    {
     "name": "stdout",
     "output_type": "stream",
     "text": [
      "This is first line.\n",
      "This is second line.\n",
      "This is third line.\n",
      "This is fourth line."
     ]
    }
   ],
   "source": [
    "# Use while loop to read entire file...5 characters at a time\n",
    "\n",
    "with open('test1.txt' , 'r') as f:\n",
    "    size = 5\n",
    "\n",
    "    content = f.read(size)\n",
    "    while len(content) > 0:\n",
    "       print(content , end = '')\n",
    "       content = f.read(size)"
   ]
  },
  {
   "cell_type": "code",
   "execution_count": 34,
   "id": "29658e38-d090-4abc-9965-ed3de3758513",
   "metadata": {},
   "outputs": [
    {
     "name": "stdout",
     "output_type": "stream",
     "text": [
      "This *is fi*rst l*ine.\n",
      "*This *is se*cond *line.*\n",
      "This* is t*hird *line.*\n",
      "This* is f*ourth* line*.*"
     ]
    }
   ],
   "source": [
    "with open('test1.txt' , 'r') as f:\n",
    "    size = 5\n",
    "\n",
    "    content = f.read(size)\n",
    "    while len(content) > 0:\n",
    "       print(content , end = '*')\n",
    "       content = f.read(size)"
   ]
  },
  {
   "cell_type": "code",
   "execution_count": 35,
   "id": "c152e88d-4684-4f7d-b66b-56be963c4024",
   "metadata": {},
   "outputs": [
    {
     "name": "stdout",
     "output_type": "stream",
     "text": [
      "This \n",
      "This \n"
     ]
    }
   ],
   "source": [
    "# in the second phase start from start again\n",
    "\n",
    "with open('test1.txt' , 'r') as f:\n",
    "    size = 5\n",
    "    content = f.read(size)\n",
    "    print(content)\n",
    "\n",
    "    f.seek(0)     #will start from the begginig\n",
    "\n",
    "    content = f.read(size)\n",
    "    print(content)"
   ]
  },
  {
   "cell_type": "markdown",
   "id": "4f872a06-38f2-4942-bcf8-468ba56f19f7",
   "metadata": {},
   "source": [
    "### Write"
   ]
  },
  {
   "cell_type": "code",
   "execution_count": 36,
   "id": "7b4e39ff-5a91-4d4e-b72a-68dcc9389979",
   "metadata": {},
   "outputs": [],
   "source": [
    "with open('wite.txt' , 'w') as w:\n",
    "    pass"
   ]
  },
  {
   "cell_type": "code",
   "execution_count": 37,
   "id": "03f29fec-6caf-44f1-8b52-d433468438e4",
   "metadata": {},
   "outputs": [],
   "source": [
    "with open('write.txt' , 'w') as w:\n",
    "    w.write('My name is Sanika')"
   ]
  },
  {
   "cell_type": "code",
   "execution_count": 38,
   "id": "66882af6-bed6-4c4a-8830-a0b7287a4480",
   "metadata": {},
   "outputs": [],
   "source": [
    "with open('write.txt' , 'w') as w:\n",
    "    w.write('My name is Sanika')\n",
    "    w.write('My name is Shrutika')"
   ]
  },
  {
   "cell_type": "code",
   "execution_count": 39,
   "id": "5e188d8c-0f98-4c7d-b38b-9774f7bce37c",
   "metadata": {},
   "outputs": [],
   "source": [
    "with open('write.txt' , 'w') as w:\n",
    "        w.write('My name is Sanika')\n",
    "        w.seek(0)\n",
    "        w.write('AAAAA')"
   ]
  },
  {
   "cell_type": "code",
   "execution_count": 7,
   "id": "0b941db8-f601-4ed2-900a-f0a43d28c093",
   "metadata": {},
   "outputs": [],
   "source": [
    "# create a new file which will be the copy of maha.txt\n",
    "\n",
    "with open('maha.txt' , 'r') as rf:\n",
    "    with open('maha_copy.txt' , 'w') as w:\n",
    "        for line in rf:\n",
    "            w.write(line)"
   ]
  },
  {
   "cell_type": "code",
   "execution_count": 8,
   "id": "896c7ef0-8d5c-431f-933f-19fe87a74dcb",
   "metadata": {},
   "outputs": [
    {
     "ename": "SyntaxError",
     "evalue": "(unicode error) 'unicodeescape' codec can't decode bytes in position 2-3: truncated \\UXXXXXXXX escape (848074542.py, line 3)",
     "output_type": "error",
     "traceback": [
      "\u001b[1;36m  Cell \u001b[1;32mIn[8], line 3\u001b[1;36m\u001b[0m\n\u001b[1;33m    with open('C:\\Users\\Dell\\OneDrive\\Pictures\\13.jpg','rb') as f:\u001b[0m\n\u001b[1;37m                                                      ^\u001b[0m\n\u001b[1;31mSyntaxError\u001b[0m\u001b[1;31m:\u001b[0m (unicode error) 'unicodeescape' codec can't decode bytes in position 2-3: truncated \\UXXXXXXXX escape\n"
     ]
    }
   ],
   "source": [
    "# image\n",
    "\n",
    "with open('C:\\Users\\Dell\\OneDrive\\Pictures\\13.jpg','rb') as f:\n",
    "   with open('wall_copy', 'wb') as w:\n",
    "    for line in f:\n",
    "        w.write(line)"
   ]
  }
 ],
 "metadata": {
  "kernelspec": {
   "display_name": "Python 3 (ipykernel)",
   "language": "python",
   "name": "python3"
  },
  "language_info": {
   "codemirror_mode": {
    "name": "ipython",
    "version": 3
   },
   "file_extension": ".py",
   "mimetype": "text/x-python",
   "name": "python",
   "nbconvert_exporter": "python",
   "pygments_lexer": "ipython3",
   "version": "3.11.7"
  }
 },
 "nbformat": 4,
 "nbformat_minor": 5
}