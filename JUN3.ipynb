{
 "cells": [
  {
   "cell_type": "code",
   "execution_count": 1,
   "id": "301e9aa1-e49c-462b-b756-4b8697f331f2",
   "metadata": {},
   "outputs": [
    {
     "name": "stdout",
     "output_type": "stream",
     "text": [
      "Hello World\n"
     ]
    }
   ],
   "source": [
    "print('Hello World')"
   ]
  },
  {
   "cell_type": "code",
   "execution_count": 2,
   "id": "99734fb6-cb34-4f01-897e-adc0aaf8bb16",
   "metadata": {},
   "outputs": [],
   "source": [
    "num=10"
   ]
  },
  {
   "cell_type": "code",
   "execution_count": 4,
   "id": "df0e467d-2060-458d-ac8c-5b397b6b79ee",
   "metadata": {},
   "outputs": [
    {
     "name": "stdout",
     "output_type": "stream",
     "text": [
      "10\n"
     ]
    }
   ],
   "source": [
    "print(num)\n"
   ]
  },
  {
   "cell_type": "code",
   "execution_count": 6,
   "id": "088413ea-438c-4125-afe2-4a96c41665b8",
   "metadata": {},
   "outputs": [
    {
     "name": "stdout",
     "output_type": "stream",
     "text": [
      "20\n"
     ]
    }
   ],
   "source": [
    "num1=20\n",
    "print(num1)"
   ]
  },
  {
   "cell_type": "code",
   "execution_count": 7,
   "id": "a835c90b-0073-471e-be37-abc67f4ff9d9",
   "metadata": {},
   "outputs": [],
   "source": [
    "pass1=67.32   #pass=> keyword"
   ]
  },
  {
   "cell_type": "code",
   "execution_count": 8,
   "id": "d252439e-ded8-447b-a7c3-67de33c260d3",
   "metadata": {},
   "outputs": [],
   "source": [
    "num=35"
   ]
  },
  {
   "cell_type": "code",
   "execution_count": 9,
   "id": "661bd461-27e8-4a5c-92da-a7981c14fedc",
   "metadata": {},
   "outputs": [
    {
     "data": {
      "text/plain": [
       "50"
      ]
     },
     "execution_count": 9,
     "metadata": {},
     "output_type": "execute_result"
    }
   ],
   "source": [
    "num+15"
   ]
  },
  {
   "cell_type": "code",
   "execution_count": 10,
   "id": "a2e30afc-22ce-4aba-8c59-1bdc44c6813d",
   "metadata": {},
   "outputs": [
    {
     "data": {
      "text/plain": [
       "35"
      ]
     },
     "execution_count": 10,
     "metadata": {},
     "output_type": "execute_result"
    }
   ],
   "source": [
    "num"
   ]
  },
  {
   "cell_type": "code",
   "execution_count": 12,
   "id": "da6c1d5c-a030-4626-be6d-556cdd594912",
   "metadata": {},
   "outputs": [
    {
     "name": "stdout",
     "output_type": "stream",
     "text": [
      "50\n"
     ]
    }
   ],
   "source": [
    "result=num+15\n",
    "print(result)"
   ]
  },
  {
   "cell_type": "code",
   "execution_count": 13,
   "id": "20060da4-de34-4e8e-96a2-cdcf15b4e646",
   "metadata": {},
   "outputs": [],
   "source": [
    "num=2345556738839393030030039*1234567788473838"
   ]
  },
  {
   "cell_type": "code",
   "execution_count": 14,
   "id": "be885534-0e3e-43e3-9170-ccff04e570b7",
   "metadata": {},
   "outputs": [
    {
     "data": {
      "text/plain": [
       "2895748795808857054364983136347105619682"
      ]
     },
     "execution_count": 14,
     "metadata": {},
     "output_type": "execute_result"
    }
   ],
   "source": [
    "num"
   ]
  },
  {
   "cell_type": "markdown",
   "id": "a7c67028-1a2d-4068-b70d-bdbf92c6fcf0",
   "metadata": {},
   "source": [
    "# float datatype"
   ]
  },
  {
   "cell_type": "code",
   "execution_count": 15,
   "id": "05ecbd95-14c1-411c-95d1-33c11b2439ca",
   "metadata": {},
   "outputs": [],
   "source": [
    "num=67.12"
   ]
  },
  {
   "cell_type": "code",
   "execution_count": 17,
   "id": "18546112-6b0c-4472-9897-e76c30562e55",
   "metadata": {},
   "outputs": [],
   "source": [
    "result=num * 11.22"
   ]
  },
  {
   "cell_type": "code",
   "execution_count": 18,
   "id": "284e3431-34bc-4f3e-bf1d-ca9cd166da74",
   "metadata": {},
   "outputs": [
    {
     "data": {
      "text/plain": [
       "753.0864000000001"
      ]
     },
     "execution_count": 18,
     "metadata": {},
     "output_type": "execute_result"
    }
   ],
   "source": [
    "result"
   ]
  },
  {
   "cell_type": "code",
   "execution_count": 19,
   "id": "e34518c0-a49e-44d8-ab68-de20f00f209d",
   "metadata": {},
   "outputs": [],
   "source": [
    "a=18e4"
   ]
  },
  {
   "cell_type": "code",
   "execution_count": 20,
   "id": "6f3a3999-fc67-4db4-b3b5-532ec8c15d2e",
   "metadata": {},
   "outputs": [
    {
     "data": {
      "text/plain": [
       "180000.0"
      ]
     },
     "execution_count": 20,
     "metadata": {},
     "output_type": "execute_result"
    }
   ],
   "source": [
    "a"
   ]
  },
  {
   "cell_type": "code",
   "execution_count": 22,
   "id": "e76dac35-482d-4eb9-b98a-d35c4daca36b",
   "metadata": {},
   "outputs": [],
   "source": [
    "name='SANIKA'"
   ]
  },
  {
   "cell_type": "code",
   "execution_count": 23,
   "id": "2b4e8867-a19c-4ad6-8200-ef08c3eeb119",
   "metadata": {},
   "outputs": [
    {
     "name": "stdout",
     "output_type": "stream",
     "text": [
      "SANIKA\n"
     ]
    }
   ],
   "source": [
    "print(name)"
   ]
  },
  {
   "cell_type": "code",
   "execution_count": 24,
   "id": "7c7bd4e5-0e38-42fb-a278-ddfb59100dfb",
   "metadata": {},
   "outputs": [
    {
     "name": "stdout",
     "output_type": "stream",
     "text": [
      "name\n"
     ]
    }
   ],
   "source": [
    "print('name')"
   ]
  },
  {
   "cell_type": "code",
   "execution_count": 26,
   "id": "82ae456c-0f4a-4456-9083-42042247eeca",
   "metadata": {},
   "outputs": [],
   "source": [
    "sent='I like Python'"
   ]
  },
  {
   "cell_type": "code",
   "execution_count": 27,
   "id": "d2ffabc6-6d87-4c93-ab81-d6532c955969",
   "metadata": {},
   "outputs": [
    {
     "data": {
      "text/plain": [
       "'I like Python'"
      ]
     },
     "execution_count": 27,
     "metadata": {},
     "output_type": "execute_result"
    }
   ],
   "source": [
    "sent"
   ]
  },
  {
   "cell_type": "code",
   "execution_count": 28,
   "id": "619bf732-6407-476e-b411-e6748636f9ee",
   "metadata": {},
   "outputs": [],
   "source": [
    "sent=\"I like Python\""
   ]
  },
  {
   "cell_type": "code",
   "execution_count": 29,
   "id": "00191336-fc44-4e2b-aaf0-75a363cb556c",
   "metadata": {},
   "outputs": [
    {
     "name": "stdout",
     "output_type": "stream",
     "text": [
      "I like Python\n"
     ]
    }
   ],
   "source": [
    "print(sent)"
   ]
  },
  {
   "cell_type": "code",
   "execution_count": 30,
   "id": "1dc06fee-46ef-4392-95e0-11ed756dd045",
   "metadata": {},
   "outputs": [],
   "source": [
    "sent=\"I Like 'Python' programming\""
   ]
  },
  {
   "cell_type": "code",
   "execution_count": 31,
   "id": "b42564e5-9de9-4b8d-b9e5-a94b922a4616",
   "metadata": {},
   "outputs": [
    {
     "name": "stdout",
     "output_type": "stream",
     "text": [
      "I Like 'Python' programming\n"
     ]
    }
   ],
   "source": [
    "print(sent)"
   ]
  },
  {
   "cell_type": "code",
   "execution_count": 33,
   "id": "e3a90cd1-f477-4a03-bbca-44c1c6482688",
   "metadata": {},
   "outputs": [
    {
     "data": {
      "text/plain": [
       "'ssANIKA'"
      ]
     },
     "execution_count": 33,
     "metadata": {},
     "output_type": "execute_result"
    }
   ],
   "source": [
    "name.replace('S','ss')"
   ]
  },
  {
   "cell_type": "code",
   "execution_count": 34,
   "id": "d9d93afb-08a9-4e94-b631-75604731383b",
   "metadata": {},
   "outputs": [
    {
     "data": {
      "text/plain": [
       "'SANIKA'"
      ]
     },
     "execution_count": 34,
     "metadata": {},
     "output_type": "execute_result"
    }
   ],
   "source": [
    "name=name.strip()\n",
    "name"
   ]
  },
  {
   "cell_type": "code",
   "execution_count": 34,
   "id": "079aebdf-c4a9-46ab-b3ed-07b5a810d887",
   "metadata": {},
   "outputs": [
    {
     "data": {
      "text/plain": [
       "'SANIKA'"
      ]
     },
     "execution_count": 34,
     "metadata": {},
     "output_type": "execute_result"
    }
   ],
   "source": [
    "name=name.strip()\n",
    "name"
   ]
  },
  {
   "cell_type": "code",
   "execution_count": 36,
   "id": "bda9ee4e-b5e1-46f1-8876-dbb42a41e208",
   "metadata": {},
   "outputs": [
    {
     "data": {
      "text/plain": [
       "3"
      ]
     },
     "execution_count": 36,
     "metadata": {},
     "output_type": "execute_result"
    }
   ],
   "source": [
    "name.find('I')"
   ]
  },
  {
   "cell_type": "code",
   "execution_count": 36,
   "id": "046e2db7-4f6c-4ed9-a3ad-1652bb42c0c3",
   "metadata": {},
   "outputs": [
    {
     "data": {
      "text/plain": [
       "3"
      ]
     },
     "execution_count": 36,
     "metadata": {},
     "output_type": "execute_result"
    }
   ],
   "source": [
    "name.find('I')"
   ]
  },
  {
   "cell_type": "code",
   "execution_count": 36,
   "id": "b2091445-c927-4dd2-99ca-b39089d08637",
   "metadata": {},
   "outputs": [
    {
     "data": {
      "text/plain": [
       "3"
      ]
     },
     "execution_count": 36,
     "metadata": {},
     "output_type": "execute_result"
    }
   ],
   "source": [
    "name.find('I')"
   ]
  },
  {
   "cell_type": "code",
   "execution_count": 36,
   "id": "7a7a00d8-6c53-415a-87f5-47a2a95d8416",
   "metadata": {},
   "outputs": [
    {
     "data": {
      "text/plain": [
       "3"
      ]
     },
     "execution_count": 36,
     "metadata": {},
     "output_type": "execute_result"
    }
   ],
   "source": [
    "name.find('I')"
   ]
  },
  {
   "cell_type": "code",
   "execution_count": 36,
   "id": "78df68e7-c4fe-423b-a037-3da771afdc6b",
   "metadata": {},
   "outputs": [
    {
     "data": {
      "text/plain": [
       "3"
      ]
     },
     "execution_count": 36,
     "metadata": {},
     "output_type": "execute_result"
    }
   ],
   "source": [
    "name.find('I')"
   ]
  },
  {
   "cell_type": "code",
   "execution_count": 37,
   "id": "f6203fef-3d1a-4167-8bd4-86de1084d2ef",
   "metadata": {},
   "outputs": [],
   "source": [
    "name='Sanika'"
   ]
  },
  {
   "cell_type": "code",
   "execution_count": 39,
   "id": "1e5511f4-3d0e-468f-834d-2a8255e4f044",
   "metadata": {},
   "outputs": [
    {
     "data": {
      "text/plain": [
       "'sanika'"
      ]
     },
     "execution_count": 39,
     "metadata": {},
     "output_type": "execute_result"
    }
   ],
   "source": [
    "name.lower()"
   ]
  },
  {
   "cell_type": "code",
   "execution_count": 40,
   "id": "090ca489-de4c-42be-afb8-187989997b22",
   "metadata": {},
   "outputs": [
    {
     "data": {
      "text/plain": [
       "'SANIKA'"
      ]
     },
     "execution_count": 40,
     "metadata": {},
     "output_type": "execute_result"
    }
   ],
   "source": [
    "name.upper()"
   ]
  },
  {
   "cell_type": "code",
   "execution_count": 41,
   "id": "93a980f8-0040-4020-8ffd-49f895778cc1",
   "metadata": {},
   "outputs": [
    {
     "data": {
      "text/plain": [
       "'sANIKA'"
      ]
     },
     "execution_count": 41,
     "metadata": {},
     "output_type": "execute_result"
    }
   ],
   "source": [
    "name.swapcase()"
   ]
  },
  {
   "cell_type": "code",
   "execution_count": 42,
   "id": "34db2ae0-43a3-4793-a163-9a7768b6e346",
   "metadata": {},
   "outputs": [
    {
     "data": {
      "text/plain": [
       "6"
      ]
     },
     "execution_count": 42,
     "metadata": {},
     "output_type": "execute_result"
    }
   ],
   "source": [
    "len(name)"
   ]
  },
  {
   "cell_type": "code",
   "execution_count": 43,
   "id": "158b1958-944d-47d7-a175-5e0b292a9366",
   "metadata": {},
   "outputs": [
    {
     "data": {
      "text/plain": [
       "False"
      ]
     },
     "execution_count": 43,
     "metadata": {},
     "output_type": "execute_result"
    }
   ],
   "source": [
    "name.islower()"
   ]
  },
  {
   "cell_type": "code",
   "execution_count": 44,
   "id": "a2f30374-99d8-4c2a-8d46-14687e119852",
   "metadata": {},
   "outputs": [
    {
     "data": {
      "text/plain": [
       "False"
      ]
     },
     "execution_count": 44,
     "metadata": {},
     "output_type": "execute_result"
    }
   ],
   "source": [
    "name.isupper()"
   ]
  },
  {
   "cell_type": "code",
   "execution_count": 47,
   "id": "c73290be-ee12-4653-913b-6c5539a271c2",
   "metadata": {},
   "outputs": [
    {
     "data": {
      "text/plain": [
       "'Sanika '"
      ]
     },
     "execution_count": 47,
     "metadata": {},
     "output_type": "execute_result"
    }
   ],
   "source": [
    "name=' Sanika '\n",
    "name.lstrip()"
   ]
  },
  {
   "cell_type": "code",
   "execution_count": 48,
   "id": "7f841770-3cd7-42e3-8d26-596350bcd0d4",
   "metadata": {},
   "outputs": [
    {
     "data": {
      "text/plain": [
       "' Sanika'"
      ]
     },
     "execution_count": 48,
     "metadata": {},
     "output_type": "execute_result"
    }
   ],
   "source": [
    "name.rstrip()"
   ]
  },
  {
   "cell_type": "code",
   "execution_count": 58,
   "id": "d0a3175b-3480-446d-be46-eea0cb7ca74f",
   "metadata": {
    "scrolled": true
   },
   "outputs": [
    {
     "data": {
      "text/plain": [
       "'RIYA'"
      ]
     },
     "execution_count": 58,
     "metadata": {},
     "output_type": "execute_result"
    }
   ],
   "source": [
    "name"
   ]
  },
  {
   "cell_type": "code",
   "execution_count": 59,
   "id": "02423efc-e857-4f1a-b306-c5ce5edbfb4b",
   "metadata": {},
   "outputs": [
    {
     "data": {
      "text/plain": [
       "True"
      ]
     },
     "execution_count": 59,
     "metadata": {},
     "output_type": "execute_result"
    }
   ],
   "source": [
    "name.startswith('R')"
   ]
  },
  {
   "cell_type": "code",
   "execution_count": 61,
   "id": "5a122908-6772-45b1-8d00-73f4a20c3c10",
   "metadata": {},
   "outputs": [
    {
     "data": {
      "text/plain": [
       "True"
      ]
     },
     "execution_count": 61,
     "metadata": {},
     "output_type": "execute_result"
    }
   ],
   "source": [
    "name.endswith('A')"
   ]
  },
  {
   "cell_type": "code",
   "execution_count": 62,
   "id": "0e412c77-80cc-401c-8e24-1b91fd2282ed",
   "metadata": {},
   "outputs": [
    {
     "data": {
      "text/plain": [
       "'RIYaa'"
      ]
     },
     "execution_count": 62,
     "metadata": {},
     "output_type": "execute_result"
    }
   ],
   "source": [
    "name.replace('A','aa')"
   ]
  },
  {
   "cell_type": "code",
   "execution_count": 78,
   "id": "c5e128a7-3076-4098-9ba2-28f0834b571f",
   "metadata": {},
   "outputs": [
    {
     "data": {
      "text/plain": [
       "'RIYA'"
      ]
     },
     "execution_count": 78,
     "metadata": {},
     "output_type": "execute_result"
    }
   ],
   "source": [
    "name = name.strip()\n",
    "name"
   ]
  },
  {
   "cell_type": "code",
   "execution_count": 79,
   "id": "0edcc0ef-cdcf-4562-b280-b6a5f4a4e0ca",
   "metadata": {},
   "outputs": [
    {
     "data": {
      "text/plain": [
       "3"
      ]
     },
     "execution_count": 79,
     "metadata": {},
     "output_type": "execute_result"
    }
   ],
   "source": [
    "name.find('A')"
   ]
  },
  {
   "cell_type": "code",
   "execution_count": 80,
   "id": "29fdec85-16cc-480e-b380-68a95eb32312",
   "metadata": {},
   "outputs": [
    {
     "data": {
      "text/plain": [
       "['__add__',\n",
       " '__class__',\n",
       " '__contains__',\n",
       " '__delattr__',\n",
       " '__dir__',\n",
       " '__doc__',\n",
       " '__eq__',\n",
       " '__format__',\n",
       " '__ge__',\n",
       " '__getattribute__',\n",
       " '__getitem__',\n",
       " '__getnewargs__',\n",
       " '__getstate__',\n",
       " '__gt__',\n",
       " '__hash__',\n",
       " '__init__',\n",
       " '__init_subclass__',\n",
       " '__iter__',\n",
       " '__le__',\n",
       " '__len__',\n",
       " '__lt__',\n",
       " '__mod__',\n",
       " '__mul__',\n",
       " '__ne__',\n",
       " '__new__',\n",
       " '__reduce__',\n",
       " '__reduce_ex__',\n",
       " '__repr__',\n",
       " '__rmod__',\n",
       " '__rmul__',\n",
       " '__setattr__',\n",
       " '__sizeof__',\n",
       " '__str__',\n",
       " '__subclasshook__',\n",
       " 'capitalize',\n",
       " 'casefold',\n",
       " 'center',\n",
       " 'count',\n",
       " 'encode',\n",
       " 'endswith',\n",
       " 'expandtabs',\n",
       " 'find',\n",
       " 'format',\n",
       " 'format_map',\n",
       " 'index',\n",
       " 'isalnum',\n",
       " 'isalpha',\n",
       " 'isascii',\n",
       " 'isdecimal',\n",
       " 'isdigit',\n",
       " 'isidentifier',\n",
       " 'islower',\n",
       " 'isnumeric',\n",
       " 'isprintable',\n",
       " 'isspace',\n",
       " 'istitle',\n",
       " 'isupper',\n",
       " 'join',\n",
       " 'ljust',\n",
       " 'lower',\n",
       " 'lstrip',\n",
       " 'maketrans',\n",
       " 'partition',\n",
       " 'removeprefix',\n",
       " 'removesuffix',\n",
       " 'replace',\n",
       " 'rfind',\n",
       " 'rindex',\n",
       " 'rjust',\n",
       " 'rpartition',\n",
       " 'rsplit',\n",
       " 'rstrip',\n",
       " 'split',\n",
       " 'splitlines',\n",
       " 'startswith',\n",
       " 'strip',\n",
       " 'swapcase',\n",
       " 'title',\n",
       " 'translate',\n",
       " 'upper',\n",
       " 'zfill']"
      ]
     },
     "execution_count": 80,
     "metadata": {},
     "output_type": "execute_result"
    }
   ],
   "source": [
    "dir(name)"
   ]
  },
  {
   "cell_type": "code",
   "execution_count": 81,
   "id": "0c37855c-6ae2-4919-be5a-ab1852a541fc",
   "metadata": {},
   "outputs": [
    {
     "name": "stdout",
     "output_type": "stream",
     "text": [
      "Help on built-in function lower:\n",
      "\n",
      "lower() method of builtins.str instance\n",
      "    Return a copy of the string converted to lowercase.\n",
      "\n"
     ]
    }
   ],
   "source": [
    "help(name.lower)"
   ]
  },
  {
   "cell_type": "code",
   "execution_count": 82,
   "id": "f6daf2bb-d8c1-4c53-bbbb-21891a1243ee",
   "metadata": {},
   "outputs": [
    {
     "data": {
      "text/plain": [
       "'riya'"
      ]
     },
     "execution_count": 82,
     "metadata": {},
     "output_type": "execute_result"
    }
   ],
   "source": [
    "name.lower()"
   ]
  },
  {
   "cell_type": "code",
   "execution_count": 85,
   "id": "1ee650c0-b213-45b7-8e14-289a17a54774",
   "metadata": {},
   "outputs": [
    {
     "data": {
      "text/plain": [
       "'Shrutika0028'"
      ]
     },
     "execution_count": 85,
     "metadata": {},
     "output_type": "execute_result"
    }
   ],
   "source": [
    "name1='Shrutika'\n",
    "name2='0028'\n",
    "result=name1 + name2\n",
    "result"
   ]
  },
  {
   "cell_type": "code",
   "execution_count": 86,
   "id": "f58c1943-0cbe-4c0b-b94c-a2e0c44268da",
   "metadata": {},
   "outputs": [
    {
     "data": {
      "text/plain": [
       "'ShrutikaShrutikaShrutika'"
      ]
     },
     "execution_count": 86,
     "metadata": {},
     "output_type": "execute_result"
    }
   ],
   "source": [
    "name1*3"
   ]
  },
  {
   "cell_type": "code",
   "execution_count": 87,
   "id": "b1b6fbc2-3e7e-4675-b423-13c1c4cdbf4e",
   "metadata": {},
   "outputs": [
    {
     "name": "stdout",
     "output_type": "stream",
     "text": [
      "Hello\n",
      "World\n"
     ]
    }
   ],
   "source": [
    "print(\"Hello\\nWorld\")"
   ]
  },
  {
   "cell_type": "code",
   "execution_count": 89,
   "id": "9f67570a-a84d-4a7b-a8ef-49afce1bb7de",
   "metadata": {},
   "outputs": [
    {
     "name": "stdout",
     "output_type": "stream",
     "text": [
      "Hello\tWorld\n"
     ]
    }
   ],
   "source": [
    "print(\"Hello\\tWorld\")"
   ]
  },
  {
   "cell_type": "code",
   "execution_count": 91,
   "id": "13c5d4c5-0b56-40b7-b218-f2ef869e84d8",
   "metadata": {},
   "outputs": [
    {
     "name": "stdout",
     "output_type": "stream",
     "text": [
      "Hello\\*World\n"
     ]
    }
   ],
   "source": [
    "print(\"Hello\\*World\")"
   ]
  },
  {
   "cell_type": "code",
   "execution_count": 92,
   "id": "22c02e6a-93be-46fe-8f9e-0aeef37126b6",
   "metadata": {},
   "outputs": [
    {
     "name": "stdout",
     "output_type": "stream",
     "text": [
      "This is 1st\n",
      "This is 2nd\n",
      "This is 3rd\n",
      "\n"
     ]
    }
   ],
   "source": [
    "print('''This is 1st\n",
    "This is 2nd\n",
    "This is 3rd\n",
    "''')"
   ]
  },
  {
   "cell_type": "code",
   "execution_count": 93,
   "id": "61197a05-6146-47fd-bb0f-956ecd3cfa1b",
   "metadata": {},
   "outputs": [],
   "source": [
    "#ASCII"
   ]
  },
  {
   "cell_type": "code",
   "execution_count": 94,
   "id": "a10a84ab-9244-4d98-8992-23d055f7e651",
   "metadata": {},
   "outputs": [
    {
     "data": {
      "text/plain": [
       "97"
      ]
     },
     "execution_count": 94,
     "metadata": {},
     "output_type": "execute_result"
    }
   ],
   "source": [
    "ord('a')"
   ]
  },
  {
   "cell_type": "code",
   "execution_count": 96,
   "id": "189a976d-2fe3-4bf7-9418-103879de20ff",
   "metadata": {},
   "outputs": [
    {
     "data": {
      "text/plain": [
       "65"
      ]
     },
     "execution_count": 96,
     "metadata": {},
     "output_type": "execute_result"
    }
   ],
   "source": [
    "ord('A')"
   ]
  },
  {
   "cell_type": "code",
   "execution_count": 97,
   "id": "a6c9a9e9-d397-4785-ae3f-cae89704c2c3",
   "metadata": {},
   "outputs": [
    {
     "data": {
      "text/plain": [
       "'z'"
      ]
     },
     "execution_count": 97,
     "metadata": {},
     "output_type": "execute_result"
    }
   ],
   "source": [
    "chr(122)"
   ]
  },
  {
   "cell_type": "code",
   "execution_count": 98,
   "id": "e79d8371-637b-44bf-ae03-9cc759981dbd",
   "metadata": {},
   "outputs": [],
   "source": [
    "#Print function"
   ]
  },
  {
   "cell_type": "code",
   "execution_count": 110,
   "id": "4c3b6214-1699-4718-b32f-dd2cdd2e90bf",
   "metadata": {},
   "outputs": [],
   "source": [
    "name='riya'\n",
    "marks=81"
   ]
  },
  {
   "cell_type": "code",
   "execution_count": 111,
   "id": "065a4d93-8c70-4611-985e-8f2eafc641bc",
   "metadata": {},
   "outputs": [
    {
     "name": "stdout",
     "output_type": "stream",
     "text": [
      "my name is my marks are 81\n"
     ]
    }
   ],
   "source": [
    "print('my name is',name and 'my marks are' ,marks)   ##"
   ]
  },
  {
   "cell_type": "code",
   "execution_count": 120,
   "id": "91b2bc8f-e49f-4db9-8930-c27b0f3c42ff",
   "metadata": {},
   "outputs": [
    {
     "name": "stdout",
     "output_type": "stream",
     "text": [
      "my name is %s and my marks are %i ('riya', 81)\n"
     ]
    }
   ],
   "source": [
    "print('my name is %s and my marks are %i' , (name,marks))   ##"
   ]
  },
  {
   "cell_type": "code",
   "execution_count": 122,
   "id": "75f3af5c-09b7-4172-a8ff-3a9b576b7d69",
   "metadata": {},
   "outputs": [
    {
     "name": "stdout",
     "output_type": "stream",
     "text": [
      "my name is %s and my marks are %f ('riya', 81)\n"
     ]
    }
   ],
   "source": [
    "print('my name is','%s','and my marks are','%f' , (name,marks))    ##"
   ]
  },
  {
   "cell_type": "code",
   "execution_count": 123,
   "id": "46e59a82-1c5b-4c72-bde9-5c84758ea735",
   "metadata": {},
   "outputs": [],
   "source": [
    "city='Pune'"
   ]
  },
  {
   "cell_type": "code",
   "execution_count": 125,
   "id": "ddbdad2f-ae0b-4767-b716-9129305d227a",
   "metadata": {},
   "outputs": [
    {
     "name": "stdout",
     "output_type": "stream",
     "text": [
      "riya 81 Pune\n"
     ]
    }
   ],
   "source": [
    "print(name,marks,city)"
   ]
  },
  {
   "cell_type": "code",
   "execution_count": 126,
   "id": "fe0acc31-12c0-4001-984b-43da9a60bdd0",
   "metadata": {},
   "outputs": [
    {
     "name": "stdout",
     "output_type": "stream",
     "text": [
      "riya\n",
      "81\n",
      "Pune\n"
     ]
    }
   ],
   "source": [
    "print(name,marks,city,sep='\\n')"
   ]
  },
  {
   "cell_type": "code",
   "execution_count": 128,
   "id": "de5dd3b0-51bd-4956-af35-c078e2c5a63e",
   "metadata": {},
   "outputs": [
    {
     "name": "stdout",
     "output_type": "stream",
     "text": [
      "riya\t81\tPune\n"
     ]
    }
   ],
   "source": [
    "print(name,marks,city,sep='\\t')"
   ]
  },
  {
   "cell_type": "code",
   "execution_count": 133,
   "id": "6f9aa2a8-b7a1-409c-9835-c07df60ee103",
   "metadata": {},
   "outputs": [
    {
     "name": "stdout",
     "output_type": "stream",
     "text": [
      "riya * 81 * Pune\n"
     ]
    }
   ],
   "source": [
    "print(name,marks,city,sep= ' * ')"
   ]
  },
  {
   "cell_type": "code",
   "execution_count": 131,
   "id": "645d1ce0-2320-4cef-af40-afe4a355f470",
   "metadata": {},
   "outputs": [
    {
     "name": "stdout",
     "output_type": "stream",
     "text": [
      "riya 81 Pune*"
     ]
    }
   ],
   "source": [
    "print(name,marks,city,end='*')"
   ]
  },
  {
   "cell_type": "code",
   "execution_count": 134,
   "id": "d042fb70-3fa7-48d1-bfdc-36fb6bcd1025",
   "metadata": {},
   "outputs": [],
   "source": [
    "#Arithematic Operators"
   ]
  },
  {
   "cell_type": "code",
   "execution_count": 135,
   "id": "c39ce51b-de82-4c2d-90a7-4ed7fdb99f0e",
   "metadata": {},
   "outputs": [
    {
     "data": {
      "text/plain": [
       "56.66"
      ]
     },
     "execution_count": 135,
     "metadata": {},
     "output_type": "execute_result"
    }
   ],
   "source": [
    "num1=54.66\n",
    "num2=2\n",
    "num1+num2"
   ]
  },
  {
   "cell_type": "code",
   "execution_count": 137,
   "id": "4131bba9-b756-47f6-9edb-c78be63dff6b",
   "metadata": {},
   "outputs": [
    {
     "data": {
      "text/plain": [
       "52.66"
      ]
     },
     "execution_count": 137,
     "metadata": {},
     "output_type": "execute_result"
    }
   ],
   "source": [
    "num1-num2"
   ]
  },
  {
   "cell_type": "code",
   "execution_count": 139,
   "id": "71f18d2d-3e87-4b0b-82ef-e2affa442929",
   "metadata": {},
   "outputs": [
    {
     "data": {
      "text/plain": [
       "109.32"
      ]
     },
     "execution_count": 139,
     "metadata": {},
     "output_type": "execute_result"
    }
   ],
   "source": [
    "num1*num2"
   ]
  },
  {
   "cell_type": "code",
   "execution_count": 141,
   "id": "6f9ef504-271b-44ee-83fe-0696398779bc",
   "metadata": {},
   "outputs": [
    {
     "data": {
      "text/plain": [
       "2987.7155999999995"
      ]
     },
     "execution_count": 141,
     "metadata": {},
     "output_type": "execute_result"
    }
   ],
   "source": [
    "num1**num2"
   ]
  },
  {
   "cell_type": "code",
   "execution_count": 142,
   "id": "8e06f390-732c-4f2f-9340-bfbca8d7bb41",
   "metadata": {},
   "outputs": [
    {
     "data": {
      "text/plain": [
       "0.6599999999999966"
      ]
     },
     "execution_count": 142,
     "metadata": {},
     "output_type": "execute_result"
    }
   ],
   "source": [
    "num1%num2"
   ]
  },
  {
   "cell_type": "code",
   "execution_count": 143,
   "id": "6e692423-4bd6-4292-952c-86bc00861018",
   "metadata": {},
   "outputs": [
    {
     "data": {
      "text/plain": [
       "27.0"
      ]
     },
     "execution_count": 143,
     "metadata": {},
     "output_type": "execute_result"
    }
   ],
   "source": [
    "num1//num2"
   ]
  },
  {
   "cell_type": "code",
   "execution_count": 144,
   "id": "c00cbed8-f4ca-4188-b3de-7b9aee6f12c5",
   "metadata": {},
   "outputs": [],
   "source": [
    "#Relational Operator"
   ]
  },
  {
   "cell_type": "code",
   "execution_count": 145,
   "id": "451cb73d-1485-471c-921c-5bd31cdfbd17",
   "metadata": {},
   "outputs": [
    {
     "data": {
      "text/plain": [
       "True"
      ]
     },
     "execution_count": 145,
     "metadata": {},
     "output_type": "execute_result"
    }
   ],
   "source": [
    "num1>num2"
   ]
  },
  {
   "cell_type": "code",
   "execution_count": 148,
   "id": "6f6ef44d-6eda-46ee-97f1-5fb8c461c7ef",
   "metadata": {},
   "outputs": [
    {
     "data": {
      "text/plain": [
       "False"
      ]
     },
     "execution_count": 148,
     "metadata": {},
     "output_type": "execute_result"
    }
   ],
   "source": [
    "num1<=num2"
   ]
  },
  {
   "cell_type": "code",
   "execution_count": 149,
   "id": "92046e28-f0d7-4a8a-8ac0-f1f16350de87",
   "metadata": {},
   "outputs": [
    {
     "data": {
      "text/plain": [
       "False"
      ]
     },
     "execution_count": 149,
     "metadata": {},
     "output_type": "execute_result"
    }
   ],
   "source": [
    "num1==num2"
   ]
  },
  {
   "cell_type": "code",
   "execution_count": 150,
   "id": "b585af5f-e38f-49fe-8eb2-1f8590baa1de",
   "metadata": {},
   "outputs": [
    {
     "data": {
      "text/plain": [
       "True"
      ]
     },
     "execution_count": 150,
     "metadata": {},
     "output_type": "execute_result"
    }
   ],
   "source": [
    "num1!=num2"
   ]
  },
  {
   "cell_type": "code",
   "execution_count": 151,
   "id": "e5289cd2-7572-40df-9e4b-27c103027824",
   "metadata": {},
   "outputs": [],
   "source": [
    "#Assignment Operators"
   ]
  },
  {
   "cell_type": "code",
   "execution_count": 152,
   "id": "895f68be-e4f3-4e8e-9023-d08f4aae0280",
   "metadata": {},
   "outputs": [],
   "source": [
    "num1=45\n",
    "num1+=50"
   ]
  },
  {
   "cell_type": "code",
   "execution_count": 153,
   "id": "bad9bc10-84a4-46af-b098-92b9f91c4807",
   "metadata": {},
   "outputs": [
    {
     "data": {
      "text/plain": [
       "95"
      ]
     },
     "execution_count": 153,
     "metadata": {},
     "output_type": "execute_result"
    }
   ],
   "source": [
    "num1"
   ]
  },
  {
   "cell_type": "code",
   "execution_count": 156,
   "id": "8db89276-2c1c-4d32-8e32-448f09592006",
   "metadata": {},
   "outputs": [],
   "source": [
    "num1-=50"
   ]
  },
  {
   "cell_type": "code",
   "execution_count": 157,
   "id": "d0fee8f1-6112-45e4-b41c-c2ea7ffe0691",
   "metadata": {},
   "outputs": [
    {
     "data": {
      "text/plain": [
       "-55"
      ]
     },
     "execution_count": 157,
     "metadata": {},
     "output_type": "execute_result"
    }
   ],
   "source": [
    "num1"
   ]
  },
  {
   "cell_type": "code",
   "execution_count": 158,
   "id": "c00b2c9b-9a4e-4257-9857-0b33d2556c30",
   "metadata": {},
   "outputs": [],
   "source": [
    "#Logical Operators"
   ]
  },
  {
   "cell_type": "code",
   "execution_count": 159,
   "id": "3ab9516d-a8ba-46fb-9134-2c7a61ffa0f0",
   "metadata": {},
   "outputs": [
    {
     "data": {
      "text/plain": [
       "False"
      ]
     },
     "execution_count": 159,
     "metadata": {},
     "output_type": "execute_result"
    }
   ],
   "source": [
    "num1<num2 and num1>0"
   ]
  },
  {
   "cell_type": "code",
   "execution_count": 160,
   "id": "99b3a253-f490-4843-a0ce-200366900c06",
   "metadata": {},
   "outputs": [
    {
     "data": {
      "text/plain": [
       "True"
      ]
     },
     "execution_count": 160,
     "metadata": {},
     "output_type": "execute_result"
    }
   ],
   "source": [
    "num1<num2 or num1>0"
   ]
  },
  {
   "cell_type": "code",
   "execution_count": 161,
   "id": "deecfc33-0bfb-4ffd-8df2-ee622a9c6f63",
   "metadata": {},
   "outputs": [],
   "source": [
    "#Membership Selection"
   ]
  },
  {
   "cell_type": "code",
   "execution_count": 162,
   "id": "0fc42762-e81f-4a71-9bdf-d60d03bf6c5c",
   "metadata": {},
   "outputs": [
    {
     "data": {
      "text/plain": [
       "'riya'"
      ]
     },
     "execution_count": 162,
     "metadata": {},
     "output_type": "execute_result"
    }
   ],
   "source": [
    "name"
   ]
  },
  {
   "cell_type": "code",
   "execution_count": 163,
   "id": "f8706061-8ba4-4997-8ac3-c983773be80f",
   "metadata": {},
   "outputs": [
    {
     "data": {
      "text/plain": [
       "True"
      ]
     },
     "execution_count": 163,
     "metadata": {},
     "output_type": "execute_result"
    }
   ],
   "source": [
    "'i' in name"
   ]
  },
  {
   "cell_type": "code",
   "execution_count": 164,
   "id": "2df66493-9546-4697-bcad-00eabe324d2e",
   "metadata": {},
   "outputs": [
    {
     "data": {
      "text/plain": [
       "False"
      ]
     },
     "execution_count": 164,
     "metadata": {},
     "output_type": "execute_result"
    }
   ],
   "source": [
    "'i' not in name"
   ]
  },
  {
   "cell_type": "code",
   "execution_count": 165,
   "id": "5513ae2d-fee0-47c0-9414-b9fe5042ab90",
   "metadata": {},
   "outputs": [],
   "source": [
    "#Type Casting"
   ]
  },
  {
   "cell_type": "code",
   "execution_count": 166,
   "id": "fdba4016-4584-4a1a-a6fa-796fd85c6729",
   "metadata": {},
   "outputs": [
    {
     "data": {
      "text/plain": [
       "67.12"
      ]
     },
     "execution_count": 166,
     "metadata": {},
     "output_type": "execute_result"
    }
   ],
   "source": [
    "num1=34\n",
    "num2=33.12\n",
    "num1+num2"
   ]
  },
  {
   "cell_type": "code",
   "execution_count": 167,
   "id": "f3aafa78-668a-4dbe-a6cf-a44ae2b55b27",
   "metadata": {},
   "outputs": [
    {
     "data": {
      "text/plain": [
       "67"
      ]
     },
     "execution_count": 167,
     "metadata": {},
     "output_type": "execute_result"
    }
   ],
   "source": [
    "num1+int(num2)"
   ]
  },
  {
   "cell_type": "code",
   "execution_count": 168,
   "id": "a0ff6c56-dd93-4073-bdea-4ebb5e858c14",
   "metadata": {},
   "outputs": [
    {
     "data": {
      "text/plain": [
       "'123451234512345'"
      ]
     },
     "execution_count": 168,
     "metadata": {},
     "output_type": "execute_result"
    }
   ],
   "source": [
    "num3='12345'\n",
    "num3*3"
   ]
  },
  {
   "cell_type": "code",
   "execution_count": 169,
   "id": "bceb1e0b-5373-49a6-bc57-8d6586c8cad2",
   "metadata": {},
   "outputs": [
    {
     "data": {
      "text/plain": [
       "37035"
      ]
     },
     "execution_count": 169,
     "metadata": {},
     "output_type": "execute_result"
    }
   ],
   "source": [
    "int(num3)*3"
   ]
  },
  {
   "cell_type": "code",
   "execution_count": 170,
   "id": "3cca6d90-1441-456a-a0c2-234c55fbbc55",
   "metadata": {},
   "outputs": [
    {
     "data": {
      "text/plain": [
       "'Aman67'"
      ]
     },
     "execution_count": 170,
     "metadata": {},
     "output_type": "execute_result"
    }
   ],
   "source": [
    "name='Aman'\n",
    "num1=67\n",
    "name+str(num1)"
   ]
  },
  {
   "cell_type": "code",
   "execution_count": 171,
   "id": "ebe7bf96-25da-4072-bc9b-75dd2720a151",
   "metadata": {},
   "outputs": [],
   "source": [
    "#user input"
   ]
  },
  {
   "cell_type": "code",
   "execution_count": 172,
   "id": "6f56ade2-95c3-45b0-9c9f-ee5f1457eaaa",
   "metadata": {},
   "outputs": [
    {
     "name": "stdout",
     "output_type": "stream",
     "text": [
      "105\n"
     ]
    }
   ],
   "source": [
    "num1=45\n",
    "num2=60\n",
    "result=num1+num2\n",
    "print(result)"
   ]
  },
  {
   "cell_type": "code",
   "execution_count": 182,
   "id": "4dad6ab2-9631-4a08-8e38-d8bbbccc5dc7",
   "metadata": {},
   "outputs": [
    {
     "name": "stdin",
     "output_type": "stream",
     "text": [
      "Enter the 1st number 12\n",
      "Enter the 2nd number 12\n"
     ]
    }
   ],
   "source": [
    "num1=int(input('Enter the 1st number'))\n",
    "num2=int(input('Enter the 2nd number'))\n",
    "\n"
   ]
  },
  {
   "cell_type": "code",
   "execution_count": 187,
   "id": "7cbc9ffe-70af-42e9-aeec-00e68bb88944",
   "metadata": {},
   "outputs": [
    {
     "name": "stdout",
     "output_type": "stream",
     "text": [
      "Addition is 24\n"
     ]
    }
   ],
   "source": [
    "Add = num1 + num2\n",
    "print(\"Addition is\" , Add)"
   ]
  },
  {
   "cell_type": "code",
   "execution_count": 188,
   "id": "7a92deb4-ac7f-4e4d-9eb1-be0182c7ca28",
   "metadata": {},
   "outputs": [],
   "source": [
    "#WAP to repeat a string take user input"
   ]
  },
  {
   "cell_type": "code",
   "execution_count": 199,
   "id": "b4cde143-6d46-4c7c-98f0-328686046ed7",
   "metadata": {},
   "outputs": [
    {
     "name": "stdin",
     "output_type": "stream",
     "text": [
      "Enter the string 12\n",
      "Enter the number of repeatation 32\n"
     ]
    }
   ],
   "source": [
    "in1 = int(input(\"Enter the string\"))\n",
    "in2 = int(input(\"Enter the number of repeatation\"))\n",
    "       \n"
   ]
  },
  {
   "cell_type": "code",
   "execution_count": 200,
   "id": "98a3332f-0853-45a5-839d-e3216c104a3e",
   "metadata": {},
   "outputs": [
    {
     "name": "stdout",
     "output_type": "stream",
     "text": [
      "384\n"
     ]
    }
   ],
   "source": [
    "print(in1 * in2)"
   ]
  },
  {
   "cell_type": "code",
   "execution_count": 201,
   "id": "4ed6f0c7-4f20-47ea-b518-cf0b96ed57ab",
   "metadata": {},
   "outputs": [],
   "source": [
    "#take base and height of triangle as input and find area if triangle"
   ]
  },
  {
   "cell_type": "code",
   "execution_count": 203,
   "id": "db1a0ba2-9b81-42d9-9f13-bae8539e311e",
   "metadata": {},
   "outputs": [
    {
     "name": "stdin",
     "output_type": "stream",
     "text": [
      "Enter the base of triangle 12\n",
      "Enter the height of triangle 12\n"
     ]
    },
    {
     "name": "stdout",
     "output_type": "stream",
     "text": [
      "Area of triangle is 72.0\n"
     ]
    }
   ],
   "source": [
    "base = float(input(\"Enter the base of triangle\"))\n",
    "height = float(input(\"Enter the height of triangle\"))\n",
    "\n",
    "print('Area of triangle is',0.5*base*height)"
   ]
  },
  {
   "cell_type": "code",
   "execution_count": 204,
   "id": "14a1cf5e-b516-44d6-a306-accadd54a71a",
   "metadata": {},
   "outputs": [],
   "source": [
    "#Take seconds as user input and covert to hour:min:sec format"
   ]
  },
  {
   "cell_type": "code",
   "execution_count": 207,
   "id": "753d63bb-0f49-479d-928e-0bbd1e96c1df",
   "metadata": {},
   "outputs": [
    {
     "name": "stdin",
     "output_type": "stream",
     "text": [
      "Enter the no of seconds 4000\n"
     ]
    },
    {
     "name": "stdout",
     "output_type": "stream",
     "text": [
      "Conversion is 1 : 6 : 40\n"
     ]
    }
   ],
   "source": [
    "sec= int(input(\"Enter the no of seconds\"))\n",
    "hours=sec//3600\n",
    "rem_sec=sec%3600\n",
    "minutes=rem_sec//60\n",
    "seconds=rem_sec%60\n",
    "print('Conversion is',hours,':',minutes,':',seconds)"
   ]
  },
  {
   "cell_type": "code",
   "execution_count": null,
   "id": "e5f8cc9d-1ee0-4553-b8a9-e900677191f3",
   "metadata": {},
   "outputs": [],
   "source": []
  }
 ],
 "metadata": {
  "kernelspec": {
   "display_name": "Python 3 (ipykernel)",
   "language": "python",
   "name": "python3"
  },
  "language_info": {
   "codemirror_mode": {
    "name": "ipython",
    "version": 3
   },
   "file_extension": ".py",
   "mimetype": "text/x-python",
   "name": "python",
   "nbconvert_exporter": "python",
   "pygments_lexer": "ipython3",
   "version": "3.11.7"
  }
 },
 "nbformat": 4,
 "nbformat_minor": 5
}
