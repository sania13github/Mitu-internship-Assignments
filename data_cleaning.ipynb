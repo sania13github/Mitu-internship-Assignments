{
 "cells": [
  {
   "cell_type": "code",
   "execution_count": 1,
   "id": "0ae83539-f8ad-4d4b-bda1-78bf80a26ce5",
   "metadata": {},
   "outputs": [],
   "source": [
    "import pandas as pd"
   ]
  },
  {
   "cell_type": "code",
   "execution_count": 7,
   "id": "f9356930-d2db-481c-a34c-ad6783ce1d8b",
   "metadata": {},
   "outputs": [],
   "source": [
    "roll = pd.Series([1,2,3,4,5,6,7,8,9,10])\n",
    "name = pd.Series(['sania','akku','sanskruti','kavya','chaitanya','neo','yash','janvi','anish','fareeha'])\n",
    "marks = pd.Series([76,32,45,55,67,92,35,48,63,94])\n",
    "classs = pd.Series(['BE','TE','BE','TE','TE','BE','TE','TE','BE','BE'])\n",
    "age = pd.Series([18,17,16,19,20,18,17,16,19,17])"
   ]
  },
  {
   "cell_type": "code",
   "execution_count": 8,
   "id": "c5aed211-2a46-4fd1-b0a6-dcd50ce91273",
   "metadata": {},
   "outputs": [],
   "source": [
    "df=pd.DataFrame({\n",
    "    'roll':roll,\n",
    "    'name':name,\n",
    "    'marks':marks,\n",
    "    'classs':classs\n",
    "})"
   ]
  },
  {
   "cell_type": "code",
   "execution_count": 9,
   "id": "3c878f76-9e48-4001-8cf7-51fcbcab98a3",
   "metadata": {},
   "outputs": [
    {
     "data": {
      "text/html": [
       "<div>\n",
       "<style scoped>\n",
       "    .dataframe tbody tr th:only-of-type {\n",
       "        vertical-align: middle;\n",
       "    }\n",
       "\n",
       "    .dataframe tbody tr th {\n",
       "        vertical-align: top;\n",
       "    }\n",
       "\n",
       "    .dataframe thead th {\n",
       "        text-align: right;\n",
       "    }\n",
       "</style>\n",
       "<table border=\"1\" class=\"dataframe\">\n",
       "  <thead>\n",
       "    <tr style=\"text-align: right;\">\n",
       "      <th></th>\n",
       "      <th>roll</th>\n",
       "      <th>name</th>\n",
       "      <th>marks</th>\n",
       "      <th>classs</th>\n",
       "    </tr>\n",
       "  </thead>\n",
       "  <tbody>\n",
       "    <tr>\n",
       "      <th>0</th>\n",
       "      <td>1</td>\n",
       "      <td>sania</td>\n",
       "      <td>76</td>\n",
       "      <td>BE</td>\n",
       "    </tr>\n",
       "    <tr>\n",
       "      <th>1</th>\n",
       "      <td>2</td>\n",
       "      <td>akku</td>\n",
       "      <td>32</td>\n",
       "      <td>TE</td>\n",
       "    </tr>\n",
       "    <tr>\n",
       "      <th>2</th>\n",
       "      <td>3</td>\n",
       "      <td>sanskruti</td>\n",
       "      <td>45</td>\n",
       "      <td>BE</td>\n",
       "    </tr>\n",
       "    <tr>\n",
       "      <th>3</th>\n",
       "      <td>4</td>\n",
       "      <td>kavya</td>\n",
       "      <td>55</td>\n",
       "      <td>TE</td>\n",
       "    </tr>\n",
       "    <tr>\n",
       "      <th>4</th>\n",
       "      <td>5</td>\n",
       "      <td>chaitanya</td>\n",
       "      <td>67</td>\n",
       "      <td>TE</td>\n",
       "    </tr>\n",
       "    <tr>\n",
       "      <th>5</th>\n",
       "      <td>6</td>\n",
       "      <td>neo</td>\n",
       "      <td>92</td>\n",
       "      <td>BE</td>\n",
       "    </tr>\n",
       "    <tr>\n",
       "      <th>6</th>\n",
       "      <td>7</td>\n",
       "      <td>yash</td>\n",
       "      <td>35</td>\n",
       "      <td>TE</td>\n",
       "    </tr>\n",
       "    <tr>\n",
       "      <th>7</th>\n",
       "      <td>8</td>\n",
       "      <td>janvi</td>\n",
       "      <td>48</td>\n",
       "      <td>TE</td>\n",
       "    </tr>\n",
       "    <tr>\n",
       "      <th>8</th>\n",
       "      <td>9</td>\n",
       "      <td>anish</td>\n",
       "      <td>63</td>\n",
       "      <td>BE</td>\n",
       "    </tr>\n",
       "    <tr>\n",
       "      <th>9</th>\n",
       "      <td>10</td>\n",
       "      <td>fareeha</td>\n",
       "      <td>94</td>\n",
       "      <td>BE</td>\n",
       "    </tr>\n",
       "  </tbody>\n",
       "</table>\n",
       "</div>"
      ],
      "text/plain": [
       "   roll       name  marks classs\n",
       "0     1      sania     76     BE\n",
       "1     2       akku     32     TE\n",
       "2     3  sanskruti     45     BE\n",
       "3     4      kavya     55     TE\n",
       "4     5  chaitanya     67     TE\n",
       "5     6        neo     92     BE\n",
       "6     7       yash     35     TE\n",
       "7     8      janvi     48     TE\n",
       "8     9      anish     63     BE\n",
       "9    10    fareeha     94     BE"
      ]
     },
     "execution_count": 9,
     "metadata": {},
     "output_type": "execute_result"
    }
   ],
   "source": [
    "df"
   ]
  },
  {
   "cell_type": "code",
   "execution_count": 10,
   "id": "29321c04-e567-4b61-8158-4dbb1177b546",
   "metadata": {},
   "outputs": [
    {
     "data": {
      "text/plain": [
       "Index(['roll', 'name', 'marks', 'classs'], dtype='object')"
      ]
     },
     "execution_count": 10,
     "metadata": {},
     "output_type": "execute_result"
    }
   ],
   "source": [
    "df.columns"
   ]
  },
  {
   "cell_type": "code",
   "execution_count": 11,
   "id": "b5c912f3-de56-4fad-9861-2f8ab2a81682",
   "metadata": {},
   "outputs": [
    {
     "data": {
      "text/plain": [
       "0    76\n",
       "1    32\n",
       "2    45\n",
       "3    55\n",
       "4    67\n",
       "5    92\n",
       "6    35\n",
       "7    48\n",
       "8    63\n",
       "9    94\n",
       "Name: marks, dtype: int64"
      ]
     },
     "execution_count": 11,
     "metadata": {},
     "output_type": "execute_result"
    }
   ],
   "source": [
    "df['marks']"
   ]
  },
  {
   "cell_type": "code",
   "execution_count": null,
   "id": "ee48e1cf-60b9-40ce-9748-84a8592f31cd",
   "metadata": {},
   "outputs": [],
   "source": [
    "df."
   ]
  }
 ],
 "metadata": {
  "kernelspec": {
   "display_name": "Python 3 (ipykernel)",
   "language": "python",
   "name": "python3"
  },
  "language_info": {
   "codemirror_mode": {
    "name": "ipython",
    "version": 3
   },
   "file_extension": ".py",
   "mimetype": "text/x-python",
   "name": "python",
   "nbconvert_exporter": "python",
   "pygments_lexer": "ipython3",
   "version": "3.11.7"
  }
 },
 "nbformat": 4,
 "nbformat_minor": 5
}
