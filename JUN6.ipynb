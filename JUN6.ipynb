{
 "cells": [
  {
   "cell_type": "markdown",
   "id": "0064ac7d-9287-45e0-a08e-6fec934b9508",
   "metadata": {},
   "source": [
    "### List"
   ]
  },
  {
   "cell_type": "code",
   "execution_count": 1,
   "id": "9152e8be-93f0-40d3-bf28-d181ac31e221",
   "metadata": {},
   "outputs": [],
   "source": [
    "l = [12 , 23 , 34 , 45 , 17]"
   ]
  },
  {
   "cell_type": "code",
   "execution_count": 3,
   "id": "7341c8f0-133d-4bb1-ac3c-0aa938169f00",
   "metadata": {},
   "outputs": [
    {
     "name": "stdout",
     "output_type": "stream",
     "text": [
      "[12, 23, 34, 45, 17]\n"
     ]
    }
   ],
   "source": [
    "print(l)"
   ]
  },
  {
   "cell_type": "code",
   "execution_count": 4,
   "id": "1a5d479c-1e92-4c4f-b146-4e955b7555b5",
   "metadata": {},
   "outputs": [
    {
     "data": {
      "text/plain": [
       "list"
      ]
     },
     "execution_count": 4,
     "metadata": {},
     "output_type": "execute_result"
    }
   ],
   "source": [
    "type(l)"
   ]
  },
  {
   "cell_type": "code",
   "execution_count": 5,
   "id": "c784230e-012c-4ce9-809c-63d264b04390",
   "metadata": {},
   "outputs": [],
   "source": [
    "l = [12 , 23 , 34 , 45 , 17 , 12]"
   ]
  },
  {
   "cell_type": "code",
   "execution_count": 6,
   "id": "2b2ae87e-faa8-483a-88cc-c1035ee794a2",
   "metadata": {},
   "outputs": [
    {
     "name": "stdout",
     "output_type": "stream",
     "text": [
      "[12, 23, 34, 45, 17, 12]\n"
     ]
    }
   ],
   "source": [
    "print(l)"
   ]
  },
  {
   "cell_type": "code",
   "execution_count": 7,
   "id": "dd17633c-8f85-4aa6-b8e0-900a84de7926",
   "metadata": {},
   "outputs": [],
   "source": [
    "l = [12 , 23 , 34 , 45 , 17 , 12 , 'SANIKA' , True] "
   ]
  },
  {
   "cell_type": "code",
   "execution_count": 8,
   "id": "c1a06931-ad16-4c95-ac78-7a89094b7f24",
   "metadata": {},
   "outputs": [
    {
     "name": "stdout",
     "output_type": "stream",
     "text": [
      "[12, 23, 34, 45, 17, 12, 'SANIKA', True]\n"
     ]
    }
   ],
   "source": [
    "print(l)"
   ]
  },
  {
   "cell_type": "code",
   "execution_count": 9,
   "id": "a81ba623-610c-4ba8-bc9e-8b738c8bdd65",
   "metadata": {},
   "outputs": [
    {
     "data": {
      "text/plain": [
       "12"
      ]
     },
     "execution_count": 9,
     "metadata": {},
     "output_type": "execute_result"
    }
   ],
   "source": [
    "# Access the data\n",
    "\n",
    "l[0]"
   ]
  },
  {
   "cell_type": "code",
   "execution_count": 10,
   "id": "883ce2d0-eb3a-4671-b4c5-fa65d17a639e",
   "metadata": {},
   "outputs": [
    {
     "data": {
      "text/plain": [
       "12"
      ]
     },
     "execution_count": 10,
     "metadata": {},
     "output_type": "execute_result"
    }
   ],
   "source": [
    "l[5]"
   ]
  },
  {
   "cell_type": "code",
   "execution_count": 11,
   "id": "6bda0b79-6c72-41d0-ac46-eb02a24f82ea",
   "metadata": {},
   "outputs": [
    {
     "data": {
      "text/plain": [
       "True"
      ]
     },
     "execution_count": 11,
     "metadata": {},
     "output_type": "execute_result"
    }
   ],
   "source": [
    "l[-1]"
   ]
  },
  {
   "cell_type": "code",
   "execution_count": 12,
   "id": "f360ca94-c47f-414f-b982-97e686b396b6",
   "metadata": {},
   "outputs": [],
   "source": [
    "l[-1]=False                                 #Changing the values"
   ]
  },
  {
   "cell_type": "code",
   "execution_count": 13,
   "id": "a0654e6f-7939-4608-912c-36916bce2337",
   "metadata": {},
   "outputs": [
    {
     "data": {
      "text/plain": [
       "[12, 23, 34, 45, 17, 12, 'SANIKA', False]"
      ]
     },
     "execution_count": 13,
     "metadata": {},
     "output_type": "execute_result"
    }
   ],
   "source": [
    "l"
   ]
  },
  {
   "cell_type": "code",
   "execution_count": 14,
   "id": "2bde1830-6489-4966-9b46-860c46b37e2f",
   "metadata": {},
   "outputs": [],
   "source": [
    "l[-2] = 102"
   ]
  },
  {
   "cell_type": "code",
   "execution_count": 15,
   "id": "d0711085-9a59-4763-8435-eb1d12a8fed4",
   "metadata": {},
   "outputs": [
    {
     "data": {
      "text/plain": [
       "[12, 23, 34, 45, 17, 12, 102, False]"
      ]
     },
     "execution_count": 15,
     "metadata": {},
     "output_type": "execute_result"
    }
   ],
   "source": [
    "l"
   ]
  },
  {
   "cell_type": "markdown",
   "id": "d43298ce-4906-437e-99dc-bc04b8652def",
   "metadata": {},
   "source": [
    "### List Slicing"
   ]
  },
  {
   "cell_type": "code",
   "execution_count": 17,
   "id": "4742c1de-e309-4a93-9136-e140ad9e70e2",
   "metadata": {},
   "outputs": [
    {
     "data": {
      "text/plain": [
       "[12, 23, 34, 45, 17, 12, 102, False]"
      ]
     },
     "execution_count": 17,
     "metadata": {},
     "output_type": "execute_result"
    }
   ],
   "source": [
    "l"
   ]
  },
  {
   "cell_type": "code",
   "execution_count": 18,
   "id": "4860a43e-ea3b-427c-bb56-7b1899f1fb1b",
   "metadata": {},
   "outputs": [
    {
     "data": {
      "text/plain": [
       "[34, 45, 17, 12]"
      ]
     },
     "execution_count": 18,
     "metadata": {},
     "output_type": "execute_result"
    }
   ],
   "source": [
    "l[2 : 6]"
   ]
  },
  {
   "cell_type": "code",
   "execution_count": 22,
   "id": "c9064e1c-dd03-47f4-85aa-fb426872752c",
   "metadata": {},
   "outputs": [
    {
     "data": {
      "text/plain": [
       "[34, 45, 17, 12]"
      ]
     },
     "execution_count": 22,
     "metadata": {},
     "output_type": "execute_result"
    }
   ],
   "source": [
    "x = l[2:6]\n",
    "x"
   ]
  },
  {
   "cell_type": "code",
   "execution_count": 23,
   "id": "26e19f92-ea8f-43e1-bcc3-9767bfad1eac",
   "metadata": {},
   "outputs": [
    {
     "data": {
      "text/plain": [
       "[34, 45, 17, 12, 102, False]"
      ]
     },
     "execution_count": 23,
     "metadata": {},
     "output_type": "execute_result"
    }
   ],
   "source": [
    "l[2:]"
   ]
  },
  {
   "cell_type": "code",
   "execution_count": 24,
   "id": "5b8ff5a2-3ef2-4b2a-85ce-84d31295df0d",
   "metadata": {},
   "outputs": [
    {
     "data": {
      "text/plain": [
       "[12, 23, 34, 45, 17, 12]"
      ]
     },
     "execution_count": 24,
     "metadata": {},
     "output_type": "execute_result"
    }
   ],
   "source": [
    "l[:-2]"
   ]
  },
  {
   "cell_type": "code",
   "execution_count": 28,
   "id": "1cffcffa-2b2a-4d56-8971-af38ce8a50a9",
   "metadata": {},
   "outputs": [
    {
     "data": {
      "text/plain": [
       "[23, 45]"
      ]
     },
     "execution_count": 28,
     "metadata": {},
     "output_type": "execute_result"
    }
   ],
   "source": [
    "l[1:-3:2]"
   ]
  },
  {
   "cell_type": "code",
   "execution_count": 30,
   "id": "d40d22c3-c709-4000-8b43-f65e62361bdc",
   "metadata": {},
   "outputs": [
    {
     "data": {
      "text/plain": [
       "[12, 34, 17, 102]"
      ]
     },
     "execution_count": 30,
     "metadata": {},
     "output_type": "execute_result"
    }
   ],
   "source": [
    "l[::2]"
   ]
  },
  {
   "cell_type": "code",
   "execution_count": 31,
   "id": "3dca5b04-9be9-40df-9f74-87e608aa0b0e",
   "metadata": {},
   "outputs": [
    {
     "data": {
      "text/plain": [
       "[12, 23, 34, 45, 17, 12, 102, False]"
      ]
     },
     "execution_count": 31,
     "metadata": {},
     "output_type": "execute_result"
    }
   ],
   "source": [
    "l"
   ]
  },
  {
   "cell_type": "code",
   "execution_count": 32,
   "id": "cf4b67e3-6698-4dfb-9059-f3ff6e8afbca",
   "metadata": {},
   "outputs": [
    {
     "data": {
      "text/plain": [
       "[12, 23, 34, 45, 17, 12, 102, 101]"
      ]
     },
     "execution_count": 32,
     "metadata": {},
     "output_type": "execute_result"
    }
   ],
   "source": [
    "l[-1] = 101\n",
    "l"
   ]
  },
  {
   "cell_type": "code",
   "execution_count": 34,
   "id": "62e3ad82-0112-473b-acb1-b9b18e1fa4a9",
   "metadata": {},
   "outputs": [
    {
     "data": {
      "text/plain": [
       "[12, 20, 30, 40, 17, 12, 102, 101]"
      ]
     },
     "execution_count": 34,
     "metadata": {},
     "output_type": "execute_result"
    }
   ],
   "source": [
    "l[1:4] = [20 , 30 , 40]\n",
    "l"
   ]
  },
  {
   "cell_type": "code",
   "execution_count": 35,
   "id": "60f5540c-e9d3-43bf-83fe-847e9b38cf4f",
   "metadata": {},
   "outputs": [],
   "source": [
    "# delete the data"
   ]
  },
  {
   "cell_type": "code",
   "execution_count": 36,
   "id": "f874ef21-8c86-4d47-8825-38698106ed3a",
   "metadata": {},
   "outputs": [],
   "source": [
    "del l[2]"
   ]
  },
  {
   "cell_type": "code",
   "execution_count": 37,
   "id": "20f701ea-283f-4cf7-8454-a854c711dbb6",
   "metadata": {},
   "outputs": [
    {
     "data": {
      "text/plain": [
       "[12, 20, 40, 17, 12, 102, 101]"
      ]
     },
     "execution_count": 37,
     "metadata": {},
     "output_type": "execute_result"
    }
   ],
   "source": [
    "l"
   ]
  },
  {
   "cell_type": "code",
   "execution_count": 38,
   "id": "936aa47c-aba4-49ef-aef6-75853eb91d91",
   "metadata": {},
   "outputs": [],
   "source": [
    "new = [20 , 30 , 40 ,50]"
   ]
  },
  {
   "cell_type": "code",
   "execution_count": 39,
   "id": "fa4c9bb3-0ee3-48e9-895f-861c18319d15",
   "metadata": {},
   "outputs": [
    {
     "data": {
      "text/plain": [
       "[20, 30, 40, 50]"
      ]
     },
     "execution_count": 39,
     "metadata": {},
     "output_type": "execute_result"
    }
   ],
   "source": [
    "new"
   ]
  },
  {
   "cell_type": "code",
   "execution_count": 40,
   "id": "04ad4afe-e023-416b-ad83-bb6f6dbef5b2",
   "metadata": {},
   "outputs": [],
   "source": [
    "del new"
   ]
  },
  {
   "cell_type": "code",
   "execution_count": 41,
   "id": "c7317302-bf3e-48b6-acab-1b9d48fdd05d",
   "metadata": {},
   "outputs": [
    {
     "ename": "NameError",
     "evalue": "name 'new' is not defined",
     "output_type": "error",
     "traceback": [
      "\u001b[1;31m---------------------------------------------------------------------------\u001b[0m",
      "\u001b[1;31mNameError\u001b[0m                                 Traceback (most recent call last)",
      "Cell \u001b[1;32mIn[41], line 1\u001b[0m\n\u001b[1;32m----> 1\u001b[0m new\n",
      "\u001b[1;31mNameError\u001b[0m: name 'new' is not defined"
     ]
    }
   ],
   "source": [
    "new"
   ]
  },
  {
   "cell_type": "code",
   "execution_count": 42,
   "id": "35f2bb86-a33c-4a0e-bf0e-82be127f5945",
   "metadata": {},
   "outputs": [],
   "source": [
    "# in operator"
   ]
  },
  {
   "cell_type": "code",
   "execution_count": 43,
   "id": "6aee60be-5dfd-4536-ac90-ef94d1824c61",
   "metadata": {},
   "outputs": [
    {
     "data": {
      "text/plain": [
       "[12, 20, 40, 17, 12, 102, 101]"
      ]
     },
     "execution_count": 43,
     "metadata": {},
     "output_type": "execute_result"
    }
   ],
   "source": [
    "l"
   ]
  },
  {
   "cell_type": "code",
   "execution_count": 44,
   "id": "59dd4f68-3949-4494-b8b0-beb658070f56",
   "metadata": {},
   "outputs": [
    {
     "data": {
      "text/plain": [
       "True"
      ]
     },
     "execution_count": 44,
     "metadata": {},
     "output_type": "execute_result"
    }
   ],
   "source": [
    "102 in l"
   ]
  },
  {
   "cell_type": "code",
   "execution_count": 45,
   "id": "434d6e0c-76f9-42e1-bc3b-d9a4076f530a",
   "metadata": {},
   "outputs": [
    {
     "data": {
      "text/plain": [
       "True"
      ]
     },
     "execution_count": 45,
     "metadata": {},
     "output_type": "execute_result"
    }
   ],
   "source": [
    "20 in l"
   ]
  },
  {
   "cell_type": "code",
   "execution_count": 46,
   "id": "a5a7e6dc-8cdd-4f1a-8917-9095cbe27c0f",
   "metadata": {},
   "outputs": [
    {
     "data": {
      "text/plain": [
       "False"
      ]
     },
     "execution_count": 46,
     "metadata": {},
     "output_type": "execute_result"
    }
   ],
   "source": [
    "32 in l"
   ]
  },
  {
   "cell_type": "code",
   "execution_count": 48,
   "id": "aae17647-3d90-4d6e-9174-33e6cdfca659",
   "metadata": {},
   "outputs": [],
   "source": [
    "#Arithematic operator"
   ]
  },
  {
   "cell_type": "code",
   "execution_count": 49,
   "id": "13060acf-b2bf-4f72-9dc9-5717acf47e9d",
   "metadata": {},
   "outputs": [
    {
     "data": {
      "text/plain": [
       "[12, 20, 40, 17, 12, 102, 101]"
      ]
     },
     "execution_count": 49,
     "metadata": {},
     "output_type": "execute_result"
    }
   ],
   "source": [
    "l"
   ]
  },
  {
   "cell_type": "code",
   "execution_count": 50,
   "id": "cc388cf9-6a69-4f73-bcde-d3f9ba6c7bb8",
   "metadata": {},
   "outputs": [
    {
     "data": {
      "text/plain": [
       "[12, 20, 40, 17, 12, 102, 101, 12, 20, 40, 17, 12, 102, 101]"
      ]
     },
     "execution_count": 50,
     "metadata": {},
     "output_type": "execute_result"
    }
   ],
   "source": [
    "l * 2"
   ]
  },
  {
   "cell_type": "code",
   "execution_count": 51,
   "id": "337dfb4e-ea2c-49d1-b655-06ac9c1b2553",
   "metadata": {},
   "outputs": [
    {
     "data": {
      "text/plain": [
       "[12, 20, 40, 17, 12, 102, 101, 60, 70]"
      ]
     },
     "execution_count": 51,
     "metadata": {},
     "output_type": "execute_result"
    }
   ],
   "source": [
    "l + [60 , 70]"
   ]
  },
  {
   "cell_type": "code",
   "execution_count": 52,
   "id": "7bbabdbc-9efd-41d6-9232-0c8e576e3da5",
   "metadata": {},
   "outputs": [
    {
     "data": {
      "text/plain": [
       "[12, 20, 40, 17, 12, 102, 101]"
      ]
     },
     "execution_count": 52,
     "metadata": {},
     "output_type": "execute_result"
    }
   ],
   "source": [
    "l"
   ]
  },
  {
   "cell_type": "code",
   "execution_count": 53,
   "id": "1d7b21ca-527d-4908-8d17-8895b4dfa1a3",
   "metadata": {},
   "outputs": [],
   "source": [
    "l1 = [ 56 , True , 40.5]"
   ]
  },
  {
   "cell_type": "code",
   "execution_count": 54,
   "id": "f2768c9b-7d71-4518-bb26-cf6fdb4c6f1e",
   "metadata": {},
   "outputs": [
    {
     "data": {
      "text/plain": [
       "[56, True, 40.5]"
      ]
     },
     "execution_count": 54,
     "metadata": {},
     "output_type": "execute_result"
    }
   ],
   "source": [
    "l1"
   ]
  },
  {
   "cell_type": "code",
   "execution_count": 55,
   "id": "ab370e62-8147-498e-963b-fa46bcf1ab40",
   "metadata": {},
   "outputs": [
    {
     "data": {
      "text/plain": [
       "[12, 20, 40, 17, 12, 102, 101, 56, True, 40.5]"
      ]
     },
     "execution_count": 55,
     "metadata": {},
     "output_type": "execute_result"
    }
   ],
   "source": [
    "l + l1"
   ]
  },
  {
   "cell_type": "markdown",
   "id": "d8795a64-c756-4d1e-9f3b-c822bc21f46e",
   "metadata": {},
   "source": [
    "### iterating over the list"
   ]
  },
  {
   "cell_type": "code",
   "execution_count": 56,
   "id": "d11a127a-e3df-4109-b1f8-62e67dc1baed",
   "metadata": {},
   "outputs": [
    {
     "data": {
      "text/plain": [
       "[12, 20, 40, 17, 12, 102, 101]"
      ]
     },
     "execution_count": 56,
     "metadata": {},
     "output_type": "execute_result"
    }
   ],
   "source": [
    "l"
   ]
  },
  {
   "cell_type": "code",
   "execution_count": 57,
   "id": "72f97b01-17b1-490c-a062-ac21a6963e25",
   "metadata": {},
   "outputs": [
    {
     "name": "stdout",
     "output_type": "stream",
     "text": [
      "144 400 1600 289 144 10404 10201 "
     ]
    }
   ],
   "source": [
    "for n in l:\n",
    "    print(n * n , end = ' ')"
   ]
  },
  {
   "cell_type": "code",
   "execution_count": 59,
   "id": "d987a98f-1707-45be-acde-e1114424ad11",
   "metadata": {},
   "outputs": [
    {
     "name": "stdout",
     "output_type": "stream",
     "text": [
      "17 101 "
     ]
    }
   ],
   "source": [
    "# WAP to print odd numbers from this list\n",
    "\n",
    "for n in l:\n",
    "    if n % 2 != 0:\n",
    "        print(n, end = ' ')"
   ]
  },
  {
   "cell_type": "markdown",
   "id": "d9b6039f-d41c-481a-b3b7-b7c231996f6b",
   "metadata": {},
   "source": [
    "##### List Comprehension"
   ]
  },
  {
   "cell_type": "code",
   "execution_count": 60,
   "id": "d19721ab-ee95-4eb7-aa1a-f4a523f49fe7",
   "metadata": {},
   "outputs": [
    {
     "data": {
      "text/plain": [
       "[12, 20, 40, 17, 12, 102, 101]"
      ]
     },
     "execution_count": 60,
     "metadata": {},
     "output_type": "execute_result"
    }
   ],
   "source": [
    "l"
   ]
  },
  {
   "cell_type": "code",
   "execution_count": 61,
   "id": "fabcc2d8-d4f7-438e-8178-88d2761cf17c",
   "metadata": {},
   "outputs": [],
   "source": [
    "# map"
   ]
  },
  {
   "cell_type": "code",
   "execution_count": 62,
   "id": "b8aabcf5-c922-46ea-bca4-4236cbea50a4",
   "metadata": {},
   "outputs": [],
   "source": [
    "a = [n/2 for n in l]"
   ]
  },
  {
   "cell_type": "code",
   "execution_count": 63,
   "id": "7d23e4f3-6a6f-4ac3-97c6-e3a68c584990",
   "metadata": {},
   "outputs": [
    {
     "data": {
      "text/plain": [
       "[6.0, 10.0, 20.0, 8.5, 6.0, 51.0, 50.5]"
      ]
     },
     "execution_count": 63,
     "metadata": {},
     "output_type": "execute_result"
    }
   ],
   "source": [
    "a"
   ]
  },
  {
   "cell_type": "code",
   "execution_count": 64,
   "id": "32a85686-1c66-4d27-9101-f31f22868c4b",
   "metadata": {},
   "outputs": [
    {
     "data": {
      "text/plain": [
       "list"
      ]
     },
     "execution_count": 64,
     "metadata": {},
     "output_type": "execute_result"
    }
   ],
   "source": [
    "type(a)"
   ]
  },
  {
   "cell_type": "code",
   "execution_count": 65,
   "id": "cd025351-90bb-4610-87ed-4efbde04fb54",
   "metadata": {},
   "outputs": [],
   "source": [
    "a = [n * n for n in l]"
   ]
  },
  {
   "cell_type": "code",
   "execution_count": 66,
   "id": "ec557475-2603-488a-afe2-e9f409376937",
   "metadata": {},
   "outputs": [
    {
     "data": {
      "text/plain": [
       "[144, 400, 1600, 289, 144, 10404, 10201]"
      ]
     },
     "execution_count": 66,
     "metadata": {},
     "output_type": "execute_result"
    }
   ],
   "source": [
    "a"
   ]
  },
  {
   "cell_type": "code",
   "execution_count": 67,
   "id": "fa69e490-ccf6-45ea-8716-768a43766c9e",
   "metadata": {},
   "outputs": [],
   "source": [
    "# filter"
   ]
  },
  {
   "cell_type": "code",
   "execution_count": 68,
   "id": "24005960-8689-4b78-bc64-1ba10591a87b",
   "metadata": {},
   "outputs": [
    {
     "data": {
      "text/plain": [
       "[12, 20, 40, 17, 12, 102, 101]"
      ]
     },
     "execution_count": 68,
     "metadata": {},
     "output_type": "execute_result"
    }
   ],
   "source": [
    "l"
   ]
  },
  {
   "cell_type": "code",
   "execution_count": 71,
   "id": "a0afa94d-52c3-4b14-a70c-78eac6733d06",
   "metadata": {},
   "outputs": [],
   "source": [
    "b = [n for n in l if n >= 40] "
   ]
  },
  {
   "cell_type": "code",
   "execution_count": 72,
   "id": "b9f59bf1-bae1-494f-8734-5cfbab049572",
   "metadata": {},
   "outputs": [
    {
     "data": {
      "text/plain": [
       "[40, 102, 101]"
      ]
     },
     "execution_count": 72,
     "metadata": {},
     "output_type": "execute_result"
    }
   ],
   "source": [
    "b"
   ]
  },
  {
   "cell_type": "code",
   "execution_count": 73,
   "id": "6d8d5075-51b9-4853-b508-63a927ddd4af",
   "metadata": {},
   "outputs": [],
   "source": [
    "b = [n for n in l if n % 2 == 0] "
   ]
  },
  {
   "cell_type": "code",
   "execution_count": 74,
   "id": "5df56c3c-e53d-42b3-8453-9bc15b25834c",
   "metadata": {},
   "outputs": [
    {
     "data": {
      "text/plain": [
       "[12, 20, 40, 12, 102]"
      ]
     },
     "execution_count": 74,
     "metadata": {},
     "output_type": "execute_result"
    }
   ],
   "source": [
    "b"
   ]
  },
  {
   "cell_type": "code",
   "execution_count": 75,
   "id": "57cb92e7-aa45-487a-a2ad-3857d65db99c",
   "metadata": {},
   "outputs": [],
   "source": [
    "b = [n for n in l if n % 2 != 0] "
   ]
  },
  {
   "cell_type": "code",
   "execution_count": 76,
   "id": "3a7a0ae0-2030-42b2-8779-3c2099702383",
   "metadata": {},
   "outputs": [
    {
     "data": {
      "text/plain": [
       "[17, 101]"
      ]
     },
     "execution_count": 76,
     "metadata": {},
     "output_type": "execute_result"
    }
   ],
   "source": [
    "b"
   ]
  },
  {
   "cell_type": "code",
   "execution_count": 77,
   "id": "29096c6c-e852-4973-bc0a-32a8f1c3c466",
   "metadata": {},
   "outputs": [],
   "source": [
    "names = ['Sanika' , 'Shrutika' , 'TejasHree' , 'Neha' , 'Mital' , 'Shrunali' , 'Riddhi' ]"
   ]
  },
  {
   "cell_type": "code",
   "execution_count": 78,
   "id": "2ca2f76d-c7ac-48bf-9976-09562b90f207",
   "metadata": {},
   "outputs": [
    {
     "data": {
      "text/plain": [
       "['Sanika', 'Shrutika', 'TejasHree', 'Neha', 'Mital', 'Shrunali', 'Riddhi']"
      ]
     },
     "execution_count": 78,
     "metadata": {},
     "output_type": "execute_result"
    }
   ],
   "source": [
    "names"
   ]
  },
  {
   "cell_type": "code",
   "execution_count": 79,
   "id": "3454ae0e-1ae6-4df5-989f-22054e0fa9f2",
   "metadata": {},
   "outputs": [
    {
     "data": {
      "text/plain": [
       "['Sanika', 'Shrutika', 'Shrunali']"
      ]
     },
     "execution_count": 79,
     "metadata": {},
     "output_type": "execute_result"
    }
   ],
   "source": [
    "#List containing names starts with 'S'\n",
    "\n",
    "[n for n in names if n.startswith('S')]\n",
    "\n"
   ]
  },
  {
   "cell_type": "code",
   "execution_count": 82,
   "id": "e64a9299-a385-4c41-bf3e-c237bcd82376",
   "metadata": {},
   "outputs": [
    {
     "data": {
      "text/plain": [
       "['SANIKA', 'SHRUTIKA', 'TEJASHREE', 'NEHA', 'MITAL', 'SHRUNALI', 'RIDDHI']"
      ]
     },
     "execution_count": 82,
     "metadata": {},
     "output_type": "execute_result"
    }
   ],
   "source": [
    "#Get a new list with all the names in uppercase\n",
    "\n",
    "[n.upper() for n in names]"
   ]
  },
  {
   "cell_type": "code",
   "execution_count": 83,
   "id": "702007c5-0af7-4afb-843b-c1b008b87a14",
   "metadata": {},
   "outputs": [
    {
     "data": {
      "text/plain": [
       "['sanika', 'shrutika', 'tejashree', 'neha', 'mital', 'shrunali', 'riddhi']"
      ]
     },
     "execution_count": 83,
     "metadata": {},
     "output_type": "execute_result"
    }
   ],
   "source": [
    "[n.lower() for n in names]"
   ]
  },
  {
   "cell_type": "markdown",
   "id": "5ebe9abc-fd62-45dc-a92d-b1406b150cbc",
   "metadata": {},
   "source": [
    "#### empty list"
   ]
  },
  {
   "cell_type": "code",
   "execution_count": 84,
   "id": "a0c225da-4826-4858-9ea8-04f46b524916",
   "metadata": {},
   "outputs": [],
   "source": [
    "e = []"
   ]
  },
  {
   "cell_type": "code",
   "execution_count": 85,
   "id": "a38ab66b-a378-4def-871f-229edd452e3c",
   "metadata": {},
   "outputs": [
    {
     "data": {
      "text/plain": [
       "[]"
      ]
     },
     "execution_count": 85,
     "metadata": {},
     "output_type": "execute_result"
    }
   ],
   "source": [
    "e"
   ]
  },
  {
   "cell_type": "code",
   "execution_count": 86,
   "id": "bc4c57aa-6eb8-4d2f-a27b-e3e2172c55bb",
   "metadata": {},
   "outputs": [
    {
     "data": {
      "text/plain": [
       "list"
      ]
     },
     "execution_count": 86,
     "metadata": {},
     "output_type": "execute_result"
    }
   ],
   "source": [
    "type(e)"
   ]
  },
  {
   "cell_type": "code",
   "execution_count": 87,
   "id": "280d3db5-f9a7-46ed-8f06-c5649bfed7b4",
   "metadata": {},
   "outputs": [
    {
     "ename": "IndexError",
     "evalue": "list index out of range",
     "output_type": "error",
     "traceback": [
      "\u001b[1;31m---------------------------------------------------------------------------\u001b[0m",
      "\u001b[1;31mIndexError\u001b[0m                                Traceback (most recent call last)",
      "Cell \u001b[1;32mIn[87], line 1\u001b[0m\n\u001b[1;32m----> 1\u001b[0m e[\u001b[38;5;241m0\u001b[39m]\n",
      "\u001b[1;31mIndexError\u001b[0m: list index out of range"
     ]
    }
   ],
   "source": [
    "e[0]"
   ]
  },
  {
   "cell_type": "code",
   "execution_count": 90,
   "id": "164e4a5b-d31a-4af6-a6a0-d3b5d4084992",
   "metadata": {},
   "outputs": [],
   "source": [
    "e = e + [4]"
   ]
  },
  {
   "cell_type": "code",
   "execution_count": 91,
   "id": "afdf5739-784c-4b59-95b6-8d0e54b68040",
   "metadata": {},
   "outputs": [
    {
     "data": {
      "text/plain": [
       "[4, 4]"
      ]
     },
     "execution_count": 91,
     "metadata": {},
     "output_type": "execute_result"
    }
   ],
   "source": [
    "e"
   ]
  },
  {
   "cell_type": "markdown",
   "id": "bebb4001-bfe9-4e4e-8117-5e0252d13307",
   "metadata": {},
   "source": [
    "#### List Decomposition"
   ]
  },
  {
   "cell_type": "code",
   "execution_count": 92,
   "id": "b39b9831-1a4f-4f62-9a2c-09aeca2ac901",
   "metadata": {},
   "outputs": [],
   "source": [
    "l1 = [36 , 45 ,56]"
   ]
  },
  {
   "cell_type": "code",
   "execution_count": 93,
   "id": "999914bb-70b4-44e4-a70c-073fefec2031",
   "metadata": {},
   "outputs": [],
   "source": [
    "x , y , z = l1"
   ]
  },
  {
   "cell_type": "code",
   "execution_count": 94,
   "id": "8972f57f-ca1f-4c39-81d5-957dfa2bfa9c",
   "metadata": {},
   "outputs": [
    {
     "data": {
      "text/plain": [
       "36"
      ]
     },
     "execution_count": 94,
     "metadata": {},
     "output_type": "execute_result"
    }
   ],
   "source": [
    "x"
   ]
  },
  {
   "cell_type": "code",
   "execution_count": 95,
   "id": "707c26f4-e0c9-4fb6-a51c-36525e26d38a",
   "metadata": {},
   "outputs": [
    {
     "data": {
      "text/plain": [
       "45"
      ]
     },
     "execution_count": 95,
     "metadata": {},
     "output_type": "execute_result"
    }
   ],
   "source": [
    "y"
   ]
  },
  {
   "cell_type": "code",
   "execution_count": 96,
   "id": "03bf493c-80c8-4447-ab33-5b72f5c1aedd",
   "metadata": {},
   "outputs": [
    {
     "data": {
      "text/plain": [
       "56"
      ]
     },
     "execution_count": 96,
     "metadata": {},
     "output_type": "execute_result"
    }
   ],
   "source": [
    "z"
   ]
  },
  {
   "cell_type": "code",
   "execution_count": 97,
   "id": "29f4f604-73fe-4f64-a1d6-734a0d4d7cd0",
   "metadata": {},
   "outputs": [
    {
     "ename": "NameError",
     "evalue": "name 'Z' is not defined",
     "output_type": "error",
     "traceback": [
      "\u001b[1;31m---------------------------------------------------------------------------\u001b[0m",
      "\u001b[1;31mNameError\u001b[0m                                 Traceback (most recent call last)",
      "Cell \u001b[1;32mIn[97], line 1\u001b[0m\n\u001b[1;32m----> 1\u001b[0m Z\n",
      "\u001b[1;31mNameError\u001b[0m: name 'Z' is not defined"
     ]
    }
   ],
   "source": [
    "Z"
   ]
  },
  {
   "cell_type": "markdown",
   "id": "ff989d71-ffab-4252-96e7-cdae8c1c69c0",
   "metadata": {},
   "source": [
    "#### Functions"
   ]
  },
  {
   "cell_type": "code",
   "execution_count": 98,
   "id": "2cf89ffa-1a07-42bd-b6cf-3052f262d7f3",
   "metadata": {},
   "outputs": [
    {
     "data": {
      "text/plain": [
       "[12, 20, 40, 17, 12, 102, 101]"
      ]
     },
     "execution_count": 98,
     "metadata": {},
     "output_type": "execute_result"
    }
   ],
   "source": [
    "l"
   ]
  },
  {
   "cell_type": "code",
   "execution_count": 99,
   "id": "2c8eb7ee-3f2b-455b-b6b0-647c93c76292",
   "metadata": {},
   "outputs": [
    {
     "data": {
      "text/plain": [
       "7"
      ]
     },
     "execution_count": 99,
     "metadata": {},
     "output_type": "execute_result"
    }
   ],
   "source": [
    "len(l)"
   ]
  },
  {
   "cell_type": "code",
   "execution_count": 100,
   "id": "b4e275ae-4dd9-41eb-8080-43af282b0e12",
   "metadata": {},
   "outputs": [
    {
     "data": {
      "text/plain": [
       "12"
      ]
     },
     "execution_count": 100,
     "metadata": {},
     "output_type": "execute_result"
    }
   ],
   "source": [
    "min(l)"
   ]
  },
  {
   "cell_type": "code",
   "execution_count": 101,
   "id": "4750af05-35e5-4e49-aefb-b389c6aedb82",
   "metadata": {},
   "outputs": [
    {
     "data": {
      "text/plain": [
       "102"
      ]
     },
     "execution_count": 101,
     "metadata": {},
     "output_type": "execute_result"
    }
   ],
   "source": [
    "max(l)"
   ]
  },
  {
   "cell_type": "code",
   "execution_count": 102,
   "id": "89bd14cf-70c1-4208-b644-dcc07323b2b5",
   "metadata": {},
   "outputs": [
    {
     "data": {
      "text/plain": [
       "304"
      ]
     },
     "execution_count": 102,
     "metadata": {},
     "output_type": "execute_result"
    }
   ],
   "source": [
    "sum(l)"
   ]
  },
  {
   "cell_type": "code",
   "execution_count": 103,
   "id": "15f2aadd-90d7-4a6f-9e1a-da32ac29027e",
   "metadata": {},
   "outputs": [
    {
     "data": {
      "text/plain": [
       "[12, 12, 17, 20, 40, 101, 102]"
      ]
     },
     "execution_count": 103,
     "metadata": {},
     "output_type": "execute_result"
    }
   ],
   "source": [
    "sorted(l)                                      #Ascending order"
   ]
  },
  {
   "cell_type": "code",
   "execution_count": 104,
   "id": "b43b3d32-eb50-4dfe-896b-a39e07562bd7",
   "metadata": {},
   "outputs": [
    {
     "data": {
      "text/plain": [
       "[102, 101, 40, 20, 17, 12, 12]"
      ]
     },
     "execution_count": 104,
     "metadata": {},
     "output_type": "execute_result"
    }
   ],
   "source": [
    "sorted(l , reverse=True)                        #Decesnding order"
   ]
  },
  {
   "cell_type": "code",
   "execution_count": 105,
   "id": "cdd8172b-5552-4acc-b44c-25d226a4dece",
   "metadata": {},
   "outputs": [],
   "source": [
    "name = 'Samiksha'"
   ]
  },
  {
   "cell_type": "code",
   "execution_count": 106,
   "id": "96797c8d-5824-43f8-8d0b-db14c7dd8fb4",
   "metadata": {},
   "outputs": [
    {
     "data": {
      "text/plain": [
       "['S', 'a', 'm', 'i', 'k', 's', 'h', 'a']"
      ]
     },
     "execution_count": 106,
     "metadata": {},
     "output_type": "execute_result"
    }
   ],
   "source": [
    "list(name)"
   ]
  },
  {
   "cell_type": "markdown",
   "id": "ee1d9cd4-cbe9-4a53-b19b-3f2e7c51046c",
   "metadata": {},
   "source": [
    "#### Methods on list"
   ]
  },
  {
   "cell_type": "code",
   "execution_count": 107,
   "id": "2cbb344a-003d-47b3-bed2-1b570b531a5e",
   "metadata": {},
   "outputs": [
    {
     "data": {
      "text/plain": [
       "[12, 20, 40, 17, 12, 102, 101]"
      ]
     },
     "execution_count": 107,
     "metadata": {},
     "output_type": "execute_result"
    }
   ],
   "source": [
    "l"
   ]
  },
  {
   "cell_type": "code",
   "execution_count": 108,
   "id": "68e61b5c-432a-43c6-bc15-14b9eff24429",
   "metadata": {},
   "outputs": [],
   "source": [
    "l.append(100)          # adding element at the end and making changes in the list"
   ]
  },
  {
   "cell_type": "code",
   "execution_count": 109,
   "id": "d030bf79-6d6b-423d-94e8-4f16050b07e1",
   "metadata": {},
   "outputs": [
    {
     "data": {
      "text/plain": [
       "[12, 20, 40, 17, 12, 102, 101, 100]"
      ]
     },
     "execution_count": 109,
     "metadata": {},
     "output_type": "execute_result"
    }
   ],
   "source": [
    "l"
   ]
  },
  {
   "cell_type": "code",
   "execution_count": 127,
   "id": "57f7cb90-fc01-4df1-9edd-f13ac36e9d3d",
   "metadata": {},
   "outputs": [],
   "source": [
    "# Append and Extend"
   ]
  },
  {
   "cell_type": "code",
   "execution_count": 128,
   "id": "53293092-d04e-4ab4-843f-8a2ae4b926bb",
   "metadata": {},
   "outputs": [],
   "source": [
    "x = [36 , 12]\n",
    "y = [45 , 13]"
   ]
  },
  {
   "cell_type": "code",
   "execution_count": 129,
   "id": "becd1fdf-5462-4d48-a301-d4b48426a4d6",
   "metadata": {},
   "outputs": [],
   "source": [
    "x.append([11, 22])\n",
    "y.extend([11, 22])\n"
   ]
  },
  {
   "cell_type": "code",
   "execution_count": 130,
   "id": "656db42b-8ef1-4f7a-92c1-54e734c4ab28",
   "metadata": {},
   "outputs": [
    {
     "name": "stdout",
     "output_type": "stream",
     "text": [
      "[36, 12, [11, 22]]\n",
      "[45, 13, 11, 22]\n"
     ]
    }
   ],
   "source": [
    "print(x)\n",
    "print(y)\n"
   ]
  },
  {
   "cell_type": "code",
   "execution_count": 119,
   "id": "c06e565a-1384-4d87-aec9-6a8123b4ceaa",
   "metadata": {},
   "outputs": [
    {
     "data": {
      "text/plain": [
       "[12, 20, 40, 17, 12, 102, 101, 100]"
      ]
     },
     "execution_count": 119,
     "metadata": {},
     "output_type": "execute_result"
    }
   ],
   "source": [
    "# insert\n",
    "l"
   ]
  },
  {
   "cell_type": "code",
   "execution_count": 121,
   "id": "c18323a4-ff89-466b-8649-689611624e29",
   "metadata": {},
   "outputs": [],
   "source": [
    "l.remove(17)"
   ]
  },
  {
   "cell_type": "code",
   "execution_count": 122,
   "id": "902aec7a-4cee-4e44-b2ca-de3cdc3132b1",
   "metadata": {},
   "outputs": [
    {
     "data": {
      "text/plain": [
       "[12, 20, 40, 12, 102, 101, 100]"
      ]
     },
     "execution_count": 122,
     "metadata": {},
     "output_type": "execute_result"
    }
   ],
   "source": [
    "l"
   ]
  },
  {
   "cell_type": "code",
   "execution_count": 125,
   "id": "7249915c-d7e4-4fa4-95c5-aaaabc3f8e8b",
   "metadata": {},
   "outputs": [
    {
     "data": {
      "text/plain": [
       "6"
      ]
     },
     "execution_count": 125,
     "metadata": {},
     "output_type": "execute_result"
    }
   ],
   "source": [
    "l.index(100)"
   ]
  },
  {
   "cell_type": "code",
   "execution_count": 124,
   "id": "cac477c1-b96f-496a-a77d-395ce68a4d13",
   "metadata": {},
   "outputs": [
    {
     "data": {
      "text/plain": [
       "2"
      ]
     },
     "execution_count": 124,
     "metadata": {},
     "output_type": "execute_result"
    }
   ],
   "source": [
    "l.count(12)"
   ]
  },
  {
   "cell_type": "code",
   "execution_count": 131,
   "id": "710d7c78-56da-47c2-9dcc-9fe171bb4fc4",
   "metadata": {},
   "outputs": [
    {
     "data": {
      "text/plain": [
       "100"
      ]
     },
     "execution_count": 131,
     "metadata": {},
     "output_type": "execute_result"
    }
   ],
   "source": [
    "# delete/pop\n",
    "\n",
    "l.pop()"
   ]
  },
  {
   "cell_type": "code",
   "execution_count": 132,
   "id": "d38b2020-54c3-4de4-89d2-7dfa7ac02379",
   "metadata": {},
   "outputs": [
    {
     "data": {
      "text/plain": [
       "102"
      ]
     },
     "execution_count": 132,
     "metadata": {},
     "output_type": "execute_result"
    }
   ],
   "source": [
    "l.pop(-2)"
   ]
  },
  {
   "cell_type": "code",
   "execution_count": 133,
   "id": "f64877cd-90fe-4098-9126-1c02b350360b",
   "metadata": {},
   "outputs": [
    {
     "data": {
      "text/plain": [
       "[12, 20, 40, 12, 101]"
      ]
     },
     "execution_count": 133,
     "metadata": {},
     "output_type": "execute_result"
    }
   ],
   "source": [
    "l"
   ]
  },
  {
   "cell_type": "code",
   "execution_count": 136,
   "id": "ac473a46-787a-4336-8ee8-f7c40c7d81fb",
   "metadata": {},
   "outputs": [],
   "source": [
    "l.reverse()"
   ]
  },
  {
   "cell_type": "code",
   "execution_count": 137,
   "id": "f53e4198-70f5-422b-a33b-d09e289c3d7c",
   "metadata": {},
   "outputs": [
    {
     "data": {
      "text/plain": [
       "[12, 20, 40, 12, 101]"
      ]
     },
     "execution_count": 137,
     "metadata": {},
     "output_type": "execute_result"
    }
   ],
   "source": [
    "l"
   ]
  },
  {
   "cell_type": "code",
   "execution_count": 138,
   "id": "76dcba42-4426-49e0-8e18-46f4986399b7",
   "metadata": {},
   "outputs": [],
   "source": [
    "l.sort()"
   ]
  },
  {
   "cell_type": "code",
   "execution_count": 139,
   "id": "65e32d5d-41b3-4d6d-9cd2-847f385ae6ce",
   "metadata": {},
   "outputs": [
    {
     "data": {
      "text/plain": [
       "[12, 12, 20, 40, 101]"
      ]
     },
     "execution_count": 139,
     "metadata": {},
     "output_type": "execute_result"
    }
   ],
   "source": [
    "l"
   ]
  },
  {
   "cell_type": "code",
   "execution_count": 140,
   "id": "810a4197-792f-47fa-9e4e-12c04598f645",
   "metadata": {},
   "outputs": [
    {
     "data": {
      "text/plain": [
       "[12, 12, 20, 40, 101]"
      ]
     },
     "execution_count": 140,
     "metadata": {},
     "output_type": "execute_result"
    }
   ],
   "source": [
    "l"
   ]
  },
  {
   "cell_type": "code",
   "execution_count": 141,
   "id": "891f130b-5803-4cc6-939e-87801dc29c27",
   "metadata": {},
   "outputs": [],
   "source": [
    "l.sort(reverse = True)                      #sort in decending order"
   ]
  },
  {
   "cell_type": "code",
   "execution_count": 142,
   "id": "9d0ada1f-6c84-4eb4-9ea5-da5bdcdc0154",
   "metadata": {},
   "outputs": [
    {
     "data": {
      "text/plain": [
       "[101, 40, 20, 12, 12]"
      ]
     },
     "execution_count": 142,
     "metadata": {},
     "output_type": "execute_result"
    }
   ],
   "source": [
    "l"
   ]
  },
  {
   "cell_type": "code",
   "execution_count": 143,
   "id": "6b55ecb7-ca11-4ed7-856c-d8157b2216a9",
   "metadata": {},
   "outputs": [
    {
     "name": "stdout",
     "output_type": "stream",
     "text": [
      "0 101\n",
      "1 40\n",
      "2 20\n",
      "3 12\n",
      "3 12\n"
     ]
    }
   ],
   "source": [
    "# Iterate over a list and print index and the value assigned to it\n",
    "\n",
    "for n in l:\n",
    "    print(l.index(n), n)"
   ]
  },
  {
   "cell_type": "code",
   "execution_count": 144,
   "id": "abd26f72-66a8-4e29-9d75-bcf16bfad160",
   "metadata": {},
   "outputs": [],
   "source": [
    "# enumerate"
   ]
  },
  {
   "cell_type": "code",
   "execution_count": 149,
   "id": "05d84fb7-8dbb-4301-be7b-f338d745c00b",
   "metadata": {},
   "outputs": [
    {
     "name": "stdout",
     "output_type": "stream",
     "text": [
      "0 101\n",
      "1 40\n",
      "2 20\n",
      "3 12\n",
      "4 12\n"
     ]
    }
   ],
   "source": [
    "for index , n in enumerate(l):\n",
    "    print(index, n)"
   ]
  },
  {
   "cell_type": "code",
   "execution_count": 150,
   "id": "95fd532d-6ab4-4cdb-8bc2-8912430e1c4c",
   "metadata": {},
   "outputs": [
    {
     "name": "stdout",
     "output_type": "stream",
     "text": [
      "0 101\n",
      "1 40\n",
      "2 20\n",
      "3 12\n",
      "4 12\n"
     ]
    },
    {
     "ename": "IndexError",
     "evalue": "list index out of range",
     "output_type": "error",
     "traceback": [
      "\u001b[1;31m---------------------------------------------------------------------------\u001b[0m",
      "\u001b[1;31mIndexError\u001b[0m                                Traceback (most recent call last)",
      "Cell \u001b[1;32mIn[150], line 3\u001b[0m\n\u001b[0;32m      1\u001b[0m i \u001b[38;5;241m=\u001b[39m \u001b[38;5;241m0\u001b[39m\n\u001b[0;32m      2\u001b[0m \u001b[38;5;28;01mwhile\u001b[39;00m i \u001b[38;5;241m<\u001b[39m\u001b[38;5;241m=\u001b[39m l[\u001b[38;5;241m-\u001b[39m\u001b[38;5;241m1\u001b[39m]:\n\u001b[1;32m----> 3\u001b[0m     \u001b[38;5;28mprint\u001b[39m(i, l[i])\n\u001b[0;32m      4\u001b[0m     i \u001b[38;5;241m+\u001b[39m\u001b[38;5;241m=\u001b[39m\u001b[38;5;241m1\u001b[39m\n",
      "\u001b[1;31mIndexError\u001b[0m: list index out of range"
     ]
    }
   ],
   "source": [
    "i = 0\n",
    "while i <= l[-1]:\n",
    "    print(i, l[i])\n",
    "    i +=1"
   ]
  },
  {
   "cell_type": "markdown",
   "id": "29794582-05ae-43dd-9254-99ee6b8246c3",
   "metadata": {},
   "source": [
    "#### Shalow Copy"
   ]
  },
  {
   "cell_type": "code",
   "execution_count": 151,
   "id": "2801232e-3a37-40d6-b528-817cfd99c3db",
   "metadata": {},
   "outputs": [],
   "source": [
    "l1 = [32 , 45 , 56]"
   ]
  },
  {
   "cell_type": "code",
   "execution_count": 152,
   "id": "7a295c20-241f-405e-a4a5-ef21d6ab6720",
   "metadata": {},
   "outputs": [
    {
     "data": {
      "text/plain": [
       "[32, 45, 56]"
      ]
     },
     "execution_count": 152,
     "metadata": {},
     "output_type": "execute_result"
    }
   ],
   "source": [
    "l1"
   ]
  },
  {
   "cell_type": "code",
   "execution_count": 153,
   "id": "fba00c3e-180c-4e72-a7ae-5e333aa63b97",
   "metadata": {},
   "outputs": [],
   "source": [
    "l2 = l1"
   ]
  },
  {
   "cell_type": "code",
   "execution_count": 154,
   "id": "49b7a3a7-5451-4f04-9806-84c55fa3f992",
   "metadata": {},
   "outputs": [
    {
     "data": {
      "text/plain": [
       "[32, 45, 56]"
      ]
     },
     "execution_count": 154,
     "metadata": {},
     "output_type": "execute_result"
    }
   ],
   "source": [
    "l2"
   ]
  },
  {
   "cell_type": "code",
   "execution_count": 155,
   "id": "0e0f5762-9163-4807-a553-5d74589c2bf5",
   "metadata": {},
   "outputs": [],
   "source": [
    "l1.append(2)"
   ]
  },
  {
   "cell_type": "code",
   "execution_count": 156,
   "id": "4494889d-bb6c-4a58-a2a6-463ca059ffe7",
   "metadata": {},
   "outputs": [
    {
     "data": {
      "text/plain": [
       "[32, 45, 56, 2]"
      ]
     },
     "execution_count": 156,
     "metadata": {},
     "output_type": "execute_result"
    }
   ],
   "source": [
    "l2"
   ]
  },
  {
   "cell_type": "code",
   "execution_count": 157,
   "id": "aa63ca30-d289-41ee-9939-1c7b49fe3aaf",
   "metadata": {},
   "outputs": [],
   "source": [
    "l3 = l1.copy()"
   ]
  },
  {
   "cell_type": "code",
   "execution_count": 158,
   "id": "1cc4586f-c503-476d-b1c6-129ef5036b42",
   "metadata": {},
   "outputs": [
    {
     "data": {
      "text/plain": [
       "[32, 45, 56, 2]"
      ]
     },
     "execution_count": 158,
     "metadata": {},
     "output_type": "execute_result"
    }
   ],
   "source": [
    "l3"
   ]
  },
  {
   "cell_type": "code",
   "execution_count": 159,
   "id": "e0c86dfd-3af5-406d-9389-745fa0ee1b76",
   "metadata": {},
   "outputs": [],
   "source": [
    "l1.append(100)"
   ]
  },
  {
   "cell_type": "code",
   "execution_count": 160,
   "id": "652ed20b-49d3-4288-8022-b03064f603d4",
   "metadata": {},
   "outputs": [
    {
     "data": {
      "text/plain": [
       "[32, 45, 56, 2, 100]"
      ]
     },
     "execution_count": 160,
     "metadata": {},
     "output_type": "execute_result"
    }
   ],
   "source": [
    "l1"
   ]
  },
  {
   "cell_type": "code",
   "execution_count": 161,
   "id": "5449c96d-f711-48ab-83df-de343d5f6ec1",
   "metadata": {},
   "outputs": [
    {
     "data": {
      "text/plain": [
       "[32, 45, 56, 2, 100]"
      ]
     },
     "execution_count": 161,
     "metadata": {},
     "output_type": "execute_result"
    }
   ],
   "source": [
    "l2"
   ]
  },
  {
   "cell_type": "code",
   "execution_count": 162,
   "id": "b068993e-292f-4083-bc23-d78f45dd5023",
   "metadata": {},
   "outputs": [
    {
     "data": {
      "text/plain": [
       "[32, 45, 56, 2]"
      ]
     },
     "execution_count": 162,
     "metadata": {},
     "output_type": "execute_result"
    }
   ],
   "source": [
    "l3"
   ]
  },
  {
   "cell_type": "code",
   "execution_count": 163,
   "id": "e24f2c87-6e3e-4ddf-b778-86492c07c8d4",
   "metadata": {},
   "outputs": [],
   "source": [
    "l1.append([70 , 80 , 90])"
   ]
  },
  {
   "cell_type": "code",
   "execution_count": 164,
   "id": "5198e4c2-ce87-4e13-b16a-93e51ce9446e",
   "metadata": {},
   "outputs": [
    {
     "data": {
      "text/plain": [
       "[32, 45, 56, 2, 100, [70, 80, 90]]"
      ]
     },
     "execution_count": 164,
     "metadata": {},
     "output_type": "execute_result"
    }
   ],
   "source": [
    "l1"
   ]
  },
  {
   "cell_type": "code",
   "execution_count": 165,
   "id": "b0af71ee-98bd-4a90-bb5f-f57038cde4dd",
   "metadata": {},
   "outputs": [],
   "source": [
    "l3 = l1.copy()"
   ]
  },
  {
   "cell_type": "code",
   "execution_count": 166,
   "id": "e01f9853-70de-4aaa-913b-b24e8473c414",
   "metadata": {},
   "outputs": [
    {
     "data": {
      "text/plain": [
       "[32, 45, 56, 2, 100, [70, 80, 90]]"
      ]
     },
     "execution_count": 166,
     "metadata": {},
     "output_type": "execute_result"
    }
   ],
   "source": [
    "l3"
   ]
  },
  {
   "cell_type": "code",
   "execution_count": 169,
   "id": "68ff8a64-3af9-423e-8f7f-1ae5cbf8e605",
   "metadata": {},
   "outputs": [],
   "source": [
    "l1.append(200)"
   ]
  },
  {
   "cell_type": "code",
   "execution_count": 170,
   "id": "da6f1efc-1004-4684-b179-10ff798cdfcb",
   "metadata": {},
   "outputs": [
    {
     "data": {
      "text/plain": [
       "[32, 45, 56, 2, 100, [70, 80, 90], 200]"
      ]
     },
     "execution_count": 170,
     "metadata": {},
     "output_type": "execute_result"
    }
   ],
   "source": [
    "l1"
   ]
  },
  {
   "cell_type": "code",
   "execution_count": 171,
   "id": "a399ddcc-dd5a-42b3-a06c-aeee1d014d12",
   "metadata": {},
   "outputs": [
    {
     "data": {
      "text/plain": [
       "[32, 45, 56, 2, 100, [70, 80, 90]]"
      ]
     },
     "execution_count": 171,
     "metadata": {},
     "output_type": "execute_result"
    }
   ],
   "source": [
    "l3"
   ]
  },
  {
   "cell_type": "code",
   "execution_count": 172,
   "id": "702363b1-31f0-47ec-9f94-abdd5b7c0c33",
   "metadata": {},
   "outputs": [],
   "source": [
    "l1[-2].append(1000)"
   ]
  },
  {
   "cell_type": "code",
   "execution_count": 173,
   "id": "55750a66-143d-4b7d-8e76-4a1d7334c54f",
   "metadata": {},
   "outputs": [
    {
     "data": {
      "text/plain": [
       "[32, 45, 56, 2, 100, [70, 80, 90, 1000], 200]"
      ]
     },
     "execution_count": 173,
     "metadata": {},
     "output_type": "execute_result"
    }
   ],
   "source": [
    "l1"
   ]
  },
  {
   "cell_type": "code",
   "execution_count": 174,
   "id": "f145415e-76d8-4f1e-9f11-d0febddba516",
   "metadata": {},
   "outputs": [
    {
     "data": {
      "text/plain": [
       "[32, 45, 56, 2, 100, [70, 80, 90, 1000]]"
      ]
     },
     "execution_count": 174,
     "metadata": {},
     "output_type": "execute_result"
    }
   ],
   "source": [
    "l3"
   ]
  },
  {
   "cell_type": "code",
   "execution_count": 175,
   "id": "d9cf8070-5af1-430e-857f-227de47d0088",
   "metadata": {},
   "outputs": [
    {
     "data": {
      "text/plain": [
       "['__add__',\n",
       " '__class__',\n",
       " '__class_getitem__',\n",
       " '__contains__',\n",
       " '__delattr__',\n",
       " '__delitem__',\n",
       " '__dir__',\n",
       " '__doc__',\n",
       " '__eq__',\n",
       " '__format__',\n",
       " '__ge__',\n",
       " '__getattribute__',\n",
       " '__getitem__',\n",
       " '__getstate__',\n",
       " '__gt__',\n",
       " '__hash__',\n",
       " '__iadd__',\n",
       " '__imul__',\n",
       " '__init__',\n",
       " '__init_subclass__',\n",
       " '__iter__',\n",
       " '__le__',\n",
       " '__len__',\n",
       " '__lt__',\n",
       " '__mul__',\n",
       " '__ne__',\n",
       " '__new__',\n",
       " '__reduce__',\n",
       " '__reduce_ex__',\n",
       " '__repr__',\n",
       " '__reversed__',\n",
       " '__rmul__',\n",
       " '__setattr__',\n",
       " '__setitem__',\n",
       " '__sizeof__',\n",
       " '__str__',\n",
       " '__subclasshook__',\n",
       " 'append',\n",
       " 'clear',\n",
       " 'copy',\n",
       " 'count',\n",
       " 'extend',\n",
       " 'index',\n",
       " 'insert',\n",
       " 'pop',\n",
       " 'remove',\n",
       " 'reverse',\n",
       " 'sort']"
      ]
     },
     "execution_count": 175,
     "metadata": {},
     "output_type": "execute_result"
    }
   ],
   "source": [
    "dir(l)\n"
   ]
  },
  {
   "cell_type": "code",
   "execution_count": 176,
   "id": "02f1bf0c-23c9-4e7d-bdfc-db78afe8cd1c",
   "metadata": {},
   "outputs": [
    {
     "data": {
      "text/plain": [
       "[32, 45, 56, 2, 100, [70, 80, 90, 1000], 200]"
      ]
     },
     "execution_count": 176,
     "metadata": {},
     "output_type": "execute_result"
    }
   ],
   "source": [
    "l1"
   ]
  },
  {
   "cell_type": "code",
   "execution_count": 179,
   "id": "f95e01a4-6783-4bc1-8e7e-fcaf690c783d",
   "metadata": {},
   "outputs": [],
   "source": [
    "l1.clear()"
   ]
  },
  {
   "cell_type": "code",
   "execution_count": 180,
   "id": "97107aea-4c95-4649-a497-fba0aada2efc",
   "metadata": {},
   "outputs": [
    {
     "data": {
      "text/plain": [
       "[]"
      ]
     },
     "execution_count": 180,
     "metadata": {},
     "output_type": "execute_result"
    }
   ],
   "source": [
    "l1"
   ]
  },
  {
   "cell_type": "markdown",
   "id": "77e3d21d-3de6-4bc2-a9aa-35f512cbdf42",
   "metadata": {},
   "source": [
    "### Tuple"
   ]
  },
  {
   "cell_type": "code",
   "execution_count": 184,
   "id": "54afb532-a9e2-4ed6-930a-93bb87724437",
   "metadata": {},
   "outputs": [],
   "source": [
    "t = (23 , 36 , 48 ,56 , 64 , 12 , 24 , 23)"
   ]
  },
  {
   "cell_type": "code",
   "execution_count": 185,
   "id": "c2db160f-c6f1-4611-9b88-b9e8594503f0",
   "metadata": {},
   "outputs": [
    {
     "data": {
      "text/plain": [
       "(23, 36, 48, 56, 64, 12, 24, 23)"
      ]
     },
     "execution_count": 185,
     "metadata": {},
     "output_type": "execute_result"
    }
   ],
   "source": [
    "t"
   ]
  },
  {
   "cell_type": "code",
   "execution_count": 186,
   "id": "a88f5972-ac73-4bc9-956e-73ae0f783ef5",
   "metadata": {},
   "outputs": [
    {
     "data": {
      "text/plain": [
       "tuple"
      ]
     },
     "execution_count": 186,
     "metadata": {},
     "output_type": "execute_result"
    }
   ],
   "source": [
    "type(t)"
   ]
  },
  {
   "cell_type": "code",
   "execution_count": 187,
   "id": "fd10ccd4-a8b2-4daa-b5fe-5bf144864569",
   "metadata": {},
   "outputs": [],
   "source": [
    "t1 = (64 , 53 , 'Soumya' )"
   ]
  },
  {
   "cell_type": "code",
   "execution_count": 188,
   "id": "676da54d-65d9-481e-af54-d460dda711e4",
   "metadata": {},
   "outputs": [
    {
     "data": {
      "text/plain": [
       "(64, 53, 'Soumya')"
      ]
     },
     "execution_count": 188,
     "metadata": {},
     "output_type": "execute_result"
    }
   ],
   "source": [
    "t1\n"
   ]
  },
  {
   "cell_type": "code",
   "execution_count": 190,
   "id": "f03f2dd9-753d-4640-8c4d-4c974b743a58",
   "metadata": {},
   "outputs": [
    {
     "data": {
      "text/plain": [
       "53"
      ]
     },
     "execution_count": 190,
     "metadata": {},
     "output_type": "execute_result"
    }
   ],
   "source": [
    "t1[1]"
   ]
  },
  {
   "cell_type": "code",
   "execution_count": 191,
   "id": "762c23d0-d4ff-4cfa-acca-1458fba88f32",
   "metadata": {},
   "outputs": [
    {
     "ename": "TypeError",
     "evalue": "'tuple' object does not support item assignment",
     "output_type": "error",
     "traceback": [
      "\u001b[1;31m---------------------------------------------------------------------------\u001b[0m",
      "\u001b[1;31mTypeError\u001b[0m                                 Traceback (most recent call last)",
      "Cell \u001b[1;32mIn[191], line 1\u001b[0m\n\u001b[1;32m----> 1\u001b[0m t[\u001b[38;5;241m1\u001b[39m] \u001b[38;5;241m=\u001b[39m \u001b[38;5;241m30\u001b[39m\n",
      "\u001b[1;31mTypeError\u001b[0m: 'tuple' object does not support item assignment"
     ]
    }
   ],
   "source": [
    "t[1] = 30"
   ]
  },
  {
   "cell_type": "code",
   "execution_count": 192,
   "id": "6e931dd4-ccf8-4160-832e-6c25809269a1",
   "metadata": {},
   "outputs": [
    {
     "name": "stdout",
     "output_type": "stream",
     "text": [
      "Help on class tuple in module builtins:\n",
      "\n",
      "class tuple(object)\n",
      " |  tuple(iterable=(), /)\n",
      " |  \n",
      " |  Built-in immutable sequence.\n",
      " |  \n",
      " |  If no argument is given, the constructor returns an empty tuple.\n",
      " |  If iterable is specified the tuple is initialized from iterable's items.\n",
      " |  \n",
      " |  If the argument is a tuple, the return value is the same object.\n",
      " |  \n",
      " |  Built-in subclasses:\n",
      " |      asyncgen_hooks\n",
      " |      UnraisableHookArgs\n",
      " |  \n",
      " |  Methods defined here:\n",
      " |  \n",
      " |  __add__(self, value, /)\n",
      " |      Return self+value.\n",
      " |  \n",
      " |  __contains__(self, key, /)\n",
      " |      Return key in self.\n",
      " |  \n",
      " |  __eq__(self, value, /)\n",
      " |      Return self==value.\n",
      " |  \n",
      " |  __ge__(self, value, /)\n",
      " |      Return self>=value.\n",
      " |  \n",
      " |  __getattribute__(self, name, /)\n",
      " |      Return getattr(self, name).\n",
      " |  \n",
      " |  __getitem__(self, key, /)\n",
      " |      Return self[key].\n",
      " |  \n",
      " |  __getnewargs__(self, /)\n",
      " |  \n",
      " |  __gt__(self, value, /)\n",
      " |      Return self>value.\n",
      " |  \n",
      " |  __hash__(self, /)\n",
      " |      Return hash(self).\n",
      " |  \n",
      " |  __iter__(self, /)\n",
      " |      Implement iter(self).\n",
      " |  \n",
      " |  __le__(self, value, /)\n",
      " |      Return self<=value.\n",
      " |  \n",
      " |  __len__(self, /)\n",
      " |      Return len(self).\n",
      " |  \n",
      " |  __lt__(self, value, /)\n",
      " |      Return self<value.\n",
      " |  \n",
      " |  __mul__(self, value, /)\n",
      " |      Return self*value.\n",
      " |  \n",
      " |  __ne__(self, value, /)\n",
      " |      Return self!=value.\n",
      " |  \n",
      " |  __repr__(self, /)\n",
      " |      Return repr(self).\n",
      " |  \n",
      " |  __rmul__(self, value, /)\n",
      " |      Return value*self.\n",
      " |  \n",
      " |  count(self, value, /)\n",
      " |      Return number of occurrences of value.\n",
      " |  \n",
      " |  index(self, value, start=0, stop=9223372036854775807, /)\n",
      " |      Return first index of value.\n",
      " |      \n",
      " |      Raises ValueError if the value is not present.\n",
      " |  \n",
      " |  ----------------------------------------------------------------------\n",
      " |  Class methods defined here:\n",
      " |  \n",
      " |  __class_getitem__(...) from builtins.type\n",
      " |      See PEP 585\n",
      " |  \n",
      " |  ----------------------------------------------------------------------\n",
      " |  Static methods defined here:\n",
      " |  \n",
      " |  __new__(*args, **kwargs) from builtins.type\n",
      " |      Create and return a new object.  See help(type) for accurate signature.\n",
      "\n"
     ]
    }
   ],
   "source": [
    "help(tuple)"
   ]
  },
  {
   "cell_type": "code",
   "execution_count": 193,
   "id": "2737a3df-3d4a-46a8-a326-65eb87e44601",
   "metadata": {},
   "outputs": [
    {
     "data": {
      "text/plain": [
       "[64, 53, 'Soumya']"
      ]
     },
     "execution_count": 193,
     "metadata": {},
     "output_type": "execute_result"
    }
   ],
   "source": [
    "m = list(t1)\n",
    "m"
   ]
  },
  {
   "cell_type": "code",
   "execution_count": 194,
   "id": "83e025a0-58ba-4bdb-aede-d775a601d832",
   "metadata": {},
   "outputs": [
    {
     "data": {
      "text/plain": [
       "(64, 53, 'Soumya')"
      ]
     },
     "execution_count": 194,
     "metadata": {},
     "output_type": "execute_result"
    }
   ],
   "source": [
    "z1 = tuple(t1)\n",
    "z1"
   ]
  },
  {
   "cell_type": "code",
   "execution_count": 195,
   "id": "0a24e039-540e-4d64-9187-10313aa2f53e",
   "metadata": {},
   "outputs": [
    {
     "ename": "TypeError",
     "evalue": "'tuple' object doesn't support item deletion",
     "output_type": "error",
     "traceback": [
      "\u001b[1;31m---------------------------------------------------------------------------\u001b[0m",
      "\u001b[1;31mTypeError\u001b[0m                                 Traceback (most recent call last)",
      "Cell \u001b[1;32mIn[195], line 1\u001b[0m\n\u001b[1;32m----> 1\u001b[0m \u001b[38;5;28;01mdel\u001b[39;00m z1[\u001b[38;5;241m1\u001b[39m]\n",
      "\u001b[1;31mTypeError\u001b[0m: 'tuple' object doesn't support item deletion"
     ]
    }
   ],
   "source": [
    "del z1[1]"
   ]
  },
  {
   "cell_type": "markdown",
   "id": "8bc0fb88-2b0f-4948-89f5-ad7db5249820",
   "metadata": {},
   "source": [
    "#### Set"
   ]
  },
  {
   "cell_type": "code",
   "execution_count": 200,
   "id": "1baacca0-feca-4aad-8cd0-a63ba93bce8a",
   "metadata": {},
   "outputs": [],
   "source": [
    "s = {12 , 24, 36 , 48, 56 ,12}       #duplicates not allowed"
   ]
  },
  {
   "cell_type": "code",
   "execution_count": 201,
   "id": "aa215014-ed30-43d7-b705-71a1b05fba83",
   "metadata": {},
   "outputs": [
    {
     "data": {
      "text/plain": [
       "{12, 24, 36, 48, 56}"
      ]
     },
     "execution_count": 201,
     "metadata": {},
     "output_type": "execute_result"
    }
   ],
   "source": [
    "s"
   ]
  },
  {
   "cell_type": "code",
   "execution_count": 199,
   "id": "b7c9c8fd-0c9e-4f9a-a4b7-2a0ebe7d558a",
   "metadata": {},
   "outputs": [
    {
     "data": {
      "text/plain": [
       "set"
      ]
     },
     "execution_count": 199,
     "metadata": {},
     "output_type": "execute_result"
    }
   ],
   "source": [
    "type(s)"
   ]
  },
  {
   "cell_type": "code",
   "execution_count": 202,
   "id": "35b23e17-e6ce-4192-b82b-4aad1d185765",
   "metadata": {},
   "outputs": [
    {
     "ename": "TypeError",
     "evalue": "'set' object is not subscriptable",
     "output_type": "error",
     "traceback": [
      "\u001b[1;31m---------------------------------------------------------------------------\u001b[0m",
      "\u001b[1;31mTypeError\u001b[0m                                 Traceback (most recent call last)",
      "Cell \u001b[1;32mIn[202], line 1\u001b[0m\n\u001b[1;32m----> 1\u001b[0m s[\u001b[38;5;241m2\u001b[39m]\n",
      "\u001b[1;31mTypeError\u001b[0m: 'set' object is not subscriptable"
     ]
    }
   ],
   "source": [
    "s[2]       #unordered"
   ]
  },
  {
   "cell_type": "code",
   "execution_count": 203,
   "id": "0abbfb10-89ce-456b-9e89-5a65c4484f33",
   "metadata": {},
   "outputs": [],
   "source": [
    "s.add(100)"
   ]
  },
  {
   "cell_type": "code",
   "execution_count": 204,
   "id": "6c043184-5626-4b00-84e3-013c38bce7dd",
   "metadata": {},
   "outputs": [
    {
     "data": {
      "text/plain": [
       "{12, 24, 36, 48, 56, 100}"
      ]
     },
     "execution_count": 204,
     "metadata": {},
     "output_type": "execute_result"
    }
   ],
   "source": [
    "s"
   ]
  },
  {
   "cell_type": "code",
   "execution_count": 206,
   "id": "1fcd3205-9a97-4c2e-91e2-8ed8d76975bd",
   "metadata": {},
   "outputs": [],
   "source": [
    "s1 = frozenset(s)"
   ]
  },
  {
   "cell_type": "code",
   "execution_count": 208,
   "id": "cc109b6b-1309-4d59-8337-033c11a89cd8",
   "metadata": {},
   "outputs": [
    {
     "data": {
      "text/plain": [
       "frozenset({12, 24, 36, 48, 56, 100})"
      ]
     },
     "execution_count": 208,
     "metadata": {},
     "output_type": "execute_result"
    }
   ],
   "source": [
    "s1"
   ]
  },
  {
   "cell_type": "markdown",
   "id": "92c971aa-a05e-4050-b9fa-596af4a06cb7",
   "metadata": {},
   "source": [
    "### Dictionary"
   ]
  },
  {
   "cell_type": "code",
   "execution_count": 209,
   "id": "3223a119-e264-414b-85b7-5d8a23bc262a",
   "metadata": {},
   "outputs": [],
   "source": [
    "d = {1: 67, 2: 89, 3: 75, 4: 72, 7: 67 }"
   ]
  },
  {
   "cell_type": "code",
   "execution_count": 210,
   "id": "4c9a1837-a398-430c-a472-d52a56238f28",
   "metadata": {},
   "outputs": [
    {
     "data": {
      "text/plain": [
       "{1: 67, 2: 89, 3: 75, 4: 72, 7: 67}"
      ]
     },
     "execution_count": 210,
     "metadata": {},
     "output_type": "execute_result"
    }
   ],
   "source": [
    "d"
   ]
  },
  {
   "cell_type": "code",
   "execution_count": 211,
   "id": "17ec8eeb-5e4a-48d5-a0df-a09a71f52609",
   "metadata": {},
   "outputs": [
    {
     "data": {
      "text/plain": [
       "67"
      ]
     },
     "execution_count": 211,
     "metadata": {},
     "output_type": "execute_result"
    }
   ],
   "source": [
    "d[7]"
   ]
  },
  {
   "cell_type": "code",
   "execution_count": 212,
   "id": "bc6827bc-798c-4f17-8d12-0b3b06c89672",
   "metadata": {},
   "outputs": [],
   "source": [
    "d = {1: 67, 2: 89, 3: 75, 4: 72, 7: 67, 1: 37 }"
   ]
  },
  {
   "cell_type": "code",
   "execution_count": 214,
   "id": "26728e4b-7236-488a-8938-4316eca20b71",
   "metadata": {},
   "outputs": [
    {
     "data": {
      "text/plain": [
       "{1: 37, 2: 89, 3: 75, 4: 72, 7: 67}"
      ]
     },
     "execution_count": 214,
     "metadata": {},
     "output_type": "execute_result"
    }
   ],
   "source": [
    "d       # key must be unique\n"
   ]
  },
  {
   "cell_type": "code",
   "execution_count": 215,
   "id": "c1ff737a-0bab-4591-870b-87649dde4a6e",
   "metadata": {},
   "outputs": [],
   "source": [
    "d[3] = 22"
   ]
  },
  {
   "cell_type": "code",
   "execution_count": 216,
   "id": "3f565bfd-ce6a-4436-8175-088bd30b0d49",
   "metadata": {},
   "outputs": [
    {
     "data": {
      "text/plain": [
       "{1: 37, 2: 89, 3: 22, 4: 72, 7: 67}"
      ]
     },
     "execution_count": 216,
     "metadata": {},
     "output_type": "execute_result"
    }
   ],
   "source": [
    "d"
   ]
  },
  {
   "cell_type": "code",
   "execution_count": 217,
   "id": "771c6a11-e600-4575-81cd-bbe202659cab",
   "metadata": {},
   "outputs": [],
   "source": [
    "d[10] = 100"
   ]
  },
  {
   "cell_type": "code",
   "execution_count": 218,
   "id": "97c5dfdc-c286-4cf2-9824-be0e58aa9e7d",
   "metadata": {},
   "outputs": [
    {
     "data": {
      "text/plain": [
       "{1: 37, 2: 89, 3: 22, 4: 72, 7: 67, 10: 100}"
      ]
     },
     "execution_count": 218,
     "metadata": {},
     "output_type": "execute_result"
    }
   ],
   "source": [
    "d"
   ]
  },
  {
   "cell_type": "code",
   "execution_count": 219,
   "id": "a5c75e08-91ec-48db-a675-305f346332e2",
   "metadata": {},
   "outputs": [
    {
     "data": {
      "text/plain": [
       "dict_keys([1, 2, 3, 4, 7, 10])"
      ]
     },
     "execution_count": 219,
     "metadata": {},
     "output_type": "execute_result"
    }
   ],
   "source": [
    "d.keys()"
   ]
  },
  {
   "cell_type": "code",
   "execution_count": 220,
   "id": "867b91d7-838b-4c46-8df9-c26ee8917d4c",
   "metadata": {},
   "outputs": [
    {
     "data": {
      "text/plain": [
       "dict_values([37, 89, 22, 72, 67, 100])"
      ]
     },
     "execution_count": 220,
     "metadata": {},
     "output_type": "execute_result"
    }
   ],
   "source": [
    "d.values()"
   ]
  },
  {
   "cell_type": "code",
   "execution_count": null,
   "id": "81113c2d-ba12-419a-bd16-27ca4aeecd76",
   "metadata": {},
   "outputs": [],
   "source": []
  }
 ],
 "metadata": {
  "kernelspec": {
   "display_name": "Python 3 (ipykernel)",
   "language": "python",
   "name": "python3"
  },
  "language_info": {
   "codemirror_mode": {
    "name": "ipython",
    "version": 3
   },
   "file_extension": ".py",
   "mimetype": "text/x-python",
   "name": "python",
   "nbconvert_exporter": "python",
   "pygments_lexer": "ipython3",
   "version": "3.11.7"
  }
 },
 "nbformat": 4,
 "nbformat_minor": 5
}