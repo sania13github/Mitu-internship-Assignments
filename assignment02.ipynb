{
 "cells": [
  {
   "cell_type": "markdown",
   "id": "7e735a4e-b339-4461-b162-4b7aceb10b62",
   "metadata": {},
   "source": [
    "# Q1 Create a package named ‘cricket’ which will contain modules named batsman and bowler. Create following functions in respective modules.Import the package and call all these functions in your program batsman: findaverage(runs,matches), strikerate(runs,balls) bowler: findavg(runs,wickets), economyrate(overs, runs)"
   ]
  },
  {
   "cell_type": "code",
   "execution_count": 1,
   "id": "dfe699ce-e956-4eec-a67c-cf8219df71ea",
   "metadata": {},
   "outputs": [
    {
     "name": "stdout",
     "output_type": "stream",
     "text": [
      "FOR BATSMAN\n"
     ]
    },
    {
     "name": "stdin",
     "output_type": "stream",
     "text": [
      "Enter runs: 100\n",
      "Enter matches: 3\n",
      "Enter balls: 56\n"
     ]
    },
    {
     "name": "stdout",
     "output_type": "stream",
     "text": [
      "Batsman average= 33.333333333333336\n",
      "Batsman strikerate= 178.57142857142858\n",
      "\n",
      "FOR BOWLER\n"
     ]
    },
    {
     "name": "stdin",
     "output_type": "stream",
     "text": [
      "Enter runs: 89\n",
      "Enter wickets: 4\n",
      "Enter overs: 3\n"
     ]
    },
    {
     "name": "stdout",
     "output_type": "stream",
     "text": [
      "Bowler average= 22.25\n",
      "Bowler economyrate= 29.666666666666668\n"
     ]
    }
   ],
   "source": [
    "from cricket import batsman,bowler\n",
    "\n",
    "print('FOR BATSMAN')\n",
    "\n",
    "runs = int(input('Enter runs:'))\n",
    "matches = int(input('Enter matches:'))\n",
    "balls = int(input('Enter balls:'))\n",
    "\n",
    "print('Batsman average=' , batsman.findaverage(runs,matches))\n",
    "\n",
    "print('Batsman strikerate=' , batsman.strikerate(runs,balls))\n",
    "\n",
    "print('')\n",
    "\n",
    "print('FOR BOWLER')\n",
    "\n",
    "runs = int(input('Enter runs:'))\n",
    "wickets = int(input('Enter wickets:'))\n",
    "overs = int(input('Enter overs:'))\n",
    "\n",
    "print('Bowler average=' , bowler.findavg(runs,wickets))\n",
    "\n",
    "print('Bowler economyrate=' , bowler.economyrate(overs,runs))"
   ]
  },
  {
   "cell_type": "markdown",
   "id": "d69a7369-5a42-4182-b407-64b402642edd",
   "metadata": {},
   "source": [
    "# Q2 Write a Python function to find whether the number if prime or not def isPrime(num)"
   ]
  },
  {
   "cell_type": "code",
   "execution_count": 2,
   "id": "cb60f536-75bf-4235-a033-07ff6fde5df0",
   "metadata": {},
   "outputs": [],
   "source": [
    "def isPrime(num):\n",
    "    if num > 1:\n",
    "        for i in range(2, (num // 2)+1):\n",
    "            if(num % i) == 0:\n",
    "                print('not a prime number')\n",
    "                break\n",
    "            else:\n",
    "                print('prime number')\n",
    "    else:\n",
    "        print('not a prime number')"
   ]
  },
  {
   "cell_type": "code",
   "execution_count": 3,
   "id": "d6fbe71c-01cb-4076-8e91-e797a19d82d8",
   "metadata": {},
   "outputs": [
    {
     "name": "stdout",
     "output_type": "stream",
     "text": [
      "prime number\n"
     ]
    }
   ],
   "source": [
    "isPrime(5)"
   ]
  },
  {
   "cell_type": "code",
   "execution_count": 4,
   "id": "e28cb807-86d2-453a-a716-b3f811791871",
   "metadata": {},
   "outputs": [
    {
     "name": "stdout",
     "output_type": "stream",
     "text": [
      "not a prime number\n"
     ]
    }
   ],
   "source": [
    "isPrime(4)"
   ]
  },
  {
   "cell_type": "markdown",
   "id": "b1c08426-6d28-4c74-8bb9-0242596c8cf1",
   "metadata": {},
   "source": [
    "# Q3 Write a function is_palindrome(string) that takes a string as input and returns True if the string reads the same backward as forward (e.g., \"racecar\" is a palindrome)."
   ]
  },
  {
   "cell_type": "code",
   "execution_count": 5,
   "id": "a8ee69b7-5720-4df5-8a6c-2b2f91f6f962",
   "metadata": {},
   "outputs": [],
   "source": [
    "def is_palindrome(string):\n",
    "    if string == string[::-1]:\n",
    "        print(string, 'is pallindrome')\n",
    "    else:\n",
    "        print(string, 'is not pallindrome')"
   ]
  },
  {
   "cell_type": "code",
   "execution_count": 6,
   "id": "496c5456-1004-402c-a483-a197d77990fe",
   "metadata": {},
   "outputs": [
    {
     "name": "stdout",
     "output_type": "stream",
     "text": [
      "racecar is pallindrome\n"
     ]
    }
   ],
   "source": [
    "is_palindrome('racecar')"
   ]
  },
  {
   "cell_type": "code",
   "execution_count": 7,
   "id": "b6d638ed-aceb-471d-bcca-5066c26b995b",
   "metadata": {},
   "outputs": [
    {
     "name": "stdout",
     "output_type": "stream",
     "text": [
      "hello is not pallindrome\n"
     ]
    }
   ],
   "source": [
    "is_palindrome('hello')"
   ]
  },
  {
   "cell_type": "markdown",
   "id": "baab04ee-1e34-4da6-adcf-3d15d0cb343f",
   "metadata": {},
   "source": [
    "# Q4 Write a function reverse_list(data) that takes a list as input and returns a new list with the elements in reverse order (e.g., reverse_list([1, 2, 3]) returns [3, 2, 1]).\n"
   ]
  },
  {
   "cell_type": "code",
   "execution_count": 8,
   "id": "910b489d-b847-4eba-b3d9-d1123693e539",
   "metadata": {},
   "outputs": [],
   "source": [
    "data = [12,23,34,45,56,67]\n",
    "\n",
    "def reverse_list(data):\n",
    "    print(data[::-1])"
   ]
  },
  {
   "cell_type": "code",
   "execution_count": 9,
   "id": "47e327f8-a841-45e0-acd3-937ff0475e24",
   "metadata": {},
   "outputs": [
    {
     "name": "stdout",
     "output_type": "stream",
     "text": [
      "[67, 56, 45, 34, 23, 12]\n"
     ]
    }
   ],
   "source": [
    "reverse_list(data)"
   ]
  },
  {
   "cell_type": "markdown",
   "id": "dd925050-1a59-44ac-bd21-13d2d019ebb3",
   "metadata": {},
   "source": [
    "# Q5 Write a function write_file(filename, content) that takes a filename and content as input and writes the content to the specified file."
   ]
  },
  {
   "cell_type": "code",
   "execution_count": 8,
   "id": "9473a20b-ea7f-4318-8dd0-d5bd34e88dd5",
   "metadata": {},
   "outputs": [
    {
     "name": "stdout",
     "output_type": "stream",
     "text": [
      "Successfully wrote content to {'test.txt'}\n"
     ]
    }
   ],
   "source": [
    "def write_file(filename, content):\n",
    "    try:\n",
    "        with open(filename, 'w') as file:\n",
    "            file.write(content)\n",
    "        print(\"Successfully wrote content to\", {filename})\n",
    "    except IOError:\n",
    "        print(\"Error: Could not write to\", {filename})\n",
    "\n",
    "# Example usage:\n",
    "filename = \"test.txt\"\n",
    "content = \"\"\" Helloo This is a sample text.\n",
    "It will be written to a file.\n",
    "Goodbye!\"\"\"\n",
    "write_file(filename, content)\n"
   ]
  },
  {
   "cell_type": "markdown",
   "id": "b768ee57-e63d-4e97-8405-9c11837ebbc2",
   "metadata": {},
   "source": [
    "# Q6 Write a function copy_file(source_filename, destination_filename) that takes the source and destination filenames as input and copies the content of the source file to the destination file. Handle cases where the source file doesn't exist."
   ]
  },
  {
   "cell_type": "code",
   "execution_count": 5,
   "id": "b118f7c1-ec55-4a62-accb-59a668f1ef48",
   "metadata": {},
   "outputs": [],
   "source": [
    "def copy_file(source_filename,destination_filename):\n",
    "    with open('source.txt','r') as s,open('destiantion.txt','w') as d:\n",
    "        for line in s:\n",
    "            d.write(line)"
   ]
  },
  {
   "cell_type": "code",
   "execution_count": 7,
   "id": "5066b205-da0d-4bf4-996a-538676814118",
   "metadata": {},
   "outputs": [],
   "source": [
    "copy_file('source.txt','destination.txt')"
   ]
  },
  {
   "cell_type": "markdown",
   "id": "42c5fdf3-7b0d-4ae2-8197-71d51113d96b",
   "metadata": {},
   "source": [
    "# Q7 Implement a function to calculate the dot product of two NumPy arrays.\n"
   ]
  },
  {
   "cell_type": "code",
   "execution_count": 3,
   "id": "41a5ddcd-82f7-4e54-a624-ba0e115dae68",
   "metadata": {},
   "outputs": [
    {
     "name": "stdout",
     "output_type": "stream",
     "text": [
      "[[  23  136  270]\n",
      " [ 225   56 5226]\n",
      " [  46  504  360]]\n"
     ]
    }
   ],
   "source": [
    "import numpy as np\n",
    "def calculate_dot_product(arr1, arr2):\n",
    "    return (arr1*arr2)\n",
    "arr1=np.array([[1,4,6],[5,1,78],[23,56,90]])\n",
    "arr2=np.array([[23,34,45],[45,56,67],[2,9,4]])\n",
    "result = calculate_dot_product(arr1, arr2)\n",
    "print(result) "
   ]
  },
  {
   "cell_type": "markdown",
   "id": "49749ae9-e0a7-494d-882e-6e7c653c80b5",
   "metadata": {},
   "source": [
    "# Q8 Implement a GUI with a radio button selection for choosing a favorite color (e.g., red,green, blue). Change the background color of the window based on the selected radio button.\n"
   ]
  },
  {
   "cell_type": "code",
   "execution_count": 2,
   "id": "4bac427b-66e1-40e4-80c1-9df89f68f905",
   "metadata": {},
   "outputs": [],
   "source": [
    "import tkinter as tk\n",
    "from tkinter import ttk\n",
    "\n",
    "\n",
    "def change_color():\n",
    "    selected_color = color_var.get()\n",
    "    top.configure(bg=selected_color)\n",
    "\n",
    "top=tk.Tk()\n",
    "top.title('background color')\n",
    "top.geometry('550x400') \n",
    "\n",
    "color_var=tk.StringVar()\n",
    "\n",
    "colors=['red','green','blue','lavender','skyblue','pink','black']\n",
    "for color in colors:\n",
    "    radio_button=ttk.Radiobutton(top,text=color,value=color,variable=color_var\n",
    "                                ,command=change_color)\n",
    "    radio_button.pack(anchor=tk.W)\n",
    "\n",
    "\n",
    "top.mainloop()\n",
    " "
   ]
  },
  {
   "cell_type": "markdown",
   "id": "323754db-44b5-4342-9764-b55f1a0ca638",
   "metadata": {},
   "source": [
    "# Q9 Design a currency converter GUI. Allow users to enter an amount and select the currencies they want to convert between (e.g., USD, EUR). Display the converted amount in the selected currency."
   ]
  },
  {
   "cell_type": "code",
   "execution_count": 3,
   "id": "8da292a2-4cd8-406f-89e3-92927e9280a6",
   "metadata": {},
   "outputs": [],
   "source": [
    "import tkinter as tk\n",
    "from tkinter import ttk, messagebox\n",
    "import requests\n",
    "\n",
    "class CurrencyConverter(tk.Tk):\n",
    "    def __init__(self):\n",
    "        super().__init__()\n",
    "\n",
    "        self.title(\"Currency Converter\")\n",
    "        self.geometry(\"400x200\")\n",
    "\n",
    "        self.amount_label = tk.Label(self, text=\"Amount:\")\n",
    "        self.amount_label.grid(row=0, column=0, padx=10, pady=10)\n",
    "        \n",
    "        self.amount_entry = tk.Entry(self)\n",
    "        self.amount_entry.grid(row=0, column=1, padx=10, pady=10)\n",
    "\n",
    "        self.from_currency_label = tk.Label(self, text=\"From:\")\n",
    "        self.from_currency_label.grid(row=1, column=0, padx=10, pady=10)\n",
    "        \n",
    "        self.from_currency_combobox = ttk.Combobox(self, values=self.get_currency_list())\n",
    "        self.from_currency_combobox.grid(row=1, column=1, padx=10, pady=10)\n",
    "\n",
    "        self.to_currency_label = tk.Label(self, text=\"To:\")\n",
    "        self.to_currency_label.grid(row=2, column=0, padx=10, pady=10)\n",
    "        \n",
    "        self.to_currency_combobox = ttk.Combobox(self, values=self.get_currency_list())\n",
    "        self.to_currency_combobox.grid(row=2, column=1, padx=10, pady=10)\n",
    "\n",
    "        self.convert_button = tk.Button(self, text=\"Convert\", command=self.convert_currency)\n",
    "        self.convert_button.grid(row=3, column=1, padx=10, pady=10)\n",
    "\n",
    "        self.result_label = tk.Label(self, text=\"Converted Amount:\")\n",
    "        self.result_label.grid(row=4, column=0, padx=10, pady=10)\n",
    "        \n",
    "        self.result_value = tk.Label(self, text=\"\")\n",
    "        self.result_value.grid(row=4, column=1, padx=10, pady=10)\n",
    "\n",
    "    def get_currency_list(self):\n",
    "        response = requests.get('https://api.exchangerate-api.com/v4/latest/USD')\n",
    "        if response.status_code == 200:\n",
    "            data = response.json()\n",
    "            return list(data['rates'].keys())\n",
    "        else:\n",
    "            messagebox.showerror(\"Error\", \"Failed to fetch currency list\")\n",
    "            return []\n",
    "\n",
    "    def convert_currency(self):\n",
    "        try:\n",
    "            amount = float(self.amount_entry.get())\n",
    "            from_currency = self.from_currency_combobox.get()\n",
    "            to_currency = self.to_currency_combobox.get()\n",
    "\n",
    "            response = requests.get(f'https://api.exchangerate-api.com/v4/latest/{from_currency}')\n",
    "            if response.status_code == 200:\n",
    "                data = response.json()\n",
    "                rate = data['rates'][to_currency]\n",
    "                converted_amount = amount * rate\n",
    "                self.result_value.config(text=f\"{converted_amount:.2f}\")\n",
    "            else:\n",
    "                messagebox.showerror(\"Error\", \"Failed to fetch conversion rate\")\n",
    "        except ValueError:\n",
    "            messagebox.showerror(\"Error\", \"Invalid amount entered\")\n",
    "        except Exception as e:\n",
    "            messagebox.showerror(\"Error\", str(e))\n",
    "\n",
    "if __name__ == \"__main__\":\n",
    "    app = CurrencyConverter()\n",
    "    app.mainloop()"
   ]
  },
  {
   "cell_type": "code",
   "execution_count": null,
   "id": "fb648543-1a0b-44a2-bc3b-31ce132da469",
   "metadata": {},
   "outputs": [],
   "source": []
  }
 ],
 "metadata": {
  "kernelspec": {
   "display_name": "Python 3 (ipykernel)",
   "language": "python",
   "name": "python3"
  },
  "language_info": {
   "codemirror_mode": {
    "name": "ipython",
    "version": 3
   },
   "file_extension": ".py",
   "mimetype": "text/x-python",
   "name": "python",
   "nbconvert_exporter": "python",
   "pygments_lexer": "ipython3",
   "version": "3.11.7"
  }
 },
 "nbformat": 4,
 "nbformat_minor": 5
}