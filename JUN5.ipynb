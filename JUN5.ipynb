{
 "cells": [
  {
   "cell_type": "code",
   "execution_count": 2,
   "id": "a13c10f2-c753-4ad2-820f-e9a32786e25b",
   "metadata": {},
   "outputs": [
    {
     "name": "stdout",
     "output_type": "stream",
     "text": [
      "SANIKA\n",
      "SANIKA\n",
      "SANIKA\n",
      "SANIKA\n",
      "SANIKA\n"
     ]
    }
   ],
   "source": [
    "count = 1\n",
    "while count <= 5:\n",
    "    print('SANIKA')\n",
    "    count=count+1"
   ]
  },
  {
   "cell_type": "code",
   "execution_count": 3,
   "id": "e1554c20-a9b1-42fd-831c-cc7a7d58f9b6",
   "metadata": {},
   "outputs": [],
   "source": [
    "#Print number from 5 to 15"
   ]
  },
  {
   "cell_type": "code",
   "execution_count": 14,
   "id": "3e83f1ba-5dfe-48c2-a319-e3f8e30d5da1",
   "metadata": {},
   "outputs": [
    {
     "name": "stdout",
     "output_type": "stream",
     "text": [
      "5 6 7 8 9 10 11 12 13 14 15 Goodbyee!!\n"
     ]
    }
   ],
   "source": [
    "count = 5\n",
    "\n",
    "while count <= 15:\n",
    "    print(count, end= ' ')\n",
    "    count += 1\n",
    "\n",
    "print('Goodbyee!!')"
   ]
  },
  {
   "cell_type": "code",
   "execution_count": 15,
   "id": "0252c592-c152-4c9b-a2e9-2d01420f3211",
   "metadata": {},
   "outputs": [
    {
     "name": "stdout",
     "output_type": "stream",
     "text": [
      "16\n"
     ]
    }
   ],
   "source": [
    "print(count)"
   ]
  },
  {
   "cell_type": "code",
   "execution_count": 20,
   "id": "e71f23d9-ac09-44d1-a824-90be27daf246",
   "metadata": {},
   "outputs": [
    {
     "name": "stdout",
     "output_type": "stream",
     "text": [
      "Addition is 55\n"
     ]
    }
   ],
   "source": [
    "#Print the addition of numbers from 1 to 10\n",
    "\n",
    "count = 1\n",
    "add = 0\n",
    "\n",
    "while count <= 10:\n",
    "    add = add + count \n",
    "    count += 1\n",
    "\n",
    "print(\"Addition is\" , add)"
   ]
  },
  {
   "cell_type": "code",
   "execution_count": 21,
   "id": "aa31b918-b582-4e86-8713-99658ff2a3da",
   "metadata": {},
   "outputs": [
    {
     "name": "stdout",
     "output_type": "stream",
     "text": [
      "11\n"
     ]
    }
   ],
   "source": [
    "print(count)"
   ]
  },
  {
   "cell_type": "code",
   "execution_count": 23,
   "id": "c9745911-e0fb-4178-ae67-e435af418da0",
   "metadata": {},
   "outputs": [
    {
     "name": "stdout",
     "output_type": "stream",
     "text": [
      "Addition is 1\n",
      "Addition is 4\n",
      "Addition is 9\n",
      "Addition is 16\n",
      "Addition is 25\n",
      "Addition is 36\n",
      "Addition is 49\n",
      "Addition is 64\n",
      "Addition is 81\n",
      "Addition is 100\n"
     ]
    }
   ],
   "source": [
    "#print addition of all odd numbers from 1 to 20\n",
    "\n",
    "count = 1\n",
    "add = 0\n",
    "\n",
    "while count <= 20:\n",
    "    add = add + count \n",
    "    count += 2\n",
    "    print(\"Addition is\" , add)\n",
    "\n",
    "###we can also use if condition"
   ]
  },
  {
   "cell_type": "code",
   "execution_count": 25,
   "id": "cdb98106-75e7-4bd0-b260-766257df351b",
   "metadata": {},
   "outputs": [
    {
     "name": "stdout",
     "output_type": "stream",
     "text": [
      "Factorial is 120\n"
     ]
    }
   ],
   "source": [
    "# Factorial => 5! => 5 * 4 * 3 * 2 * 1 = 120\n",
    "\n",
    "num = 1\n",
    "\n",
    "fact = 1\n",
    "\n",
    "while num <= 5:\n",
    "    fact = fact * num\n",
    "    num += 1\n",
    "\n",
    "print('Factorial is' , fact)\n"
   ]
  },
  {
   "cell_type": "code",
   "execution_count": 27,
   "id": "898c0a35-c846-41d7-b801-d8e364416ddd",
   "metadata": {},
   "outputs": [
    {
     "name": "stdout",
     "output_type": "stream",
     "text": [
      "Factorial is 5\n",
      "Factorial is 20\n",
      "Factorial is 60\n",
      "Factorial is 120\n"
     ]
    }
   ],
   "source": [
    "num = 5\n",
    "fact = 1\n",
    "\n",
    "while num > 1:\n",
    "    fact = fact * num\n",
    "    num -= 1\n",
    "    print('Factorial is' , fact)"
   ]
  },
  {
   "cell_type": "code",
   "execution_count": 29,
   "id": "d5670fbd-bfed-4c6e-bc0f-bab6268a86d3",
   "metadata": {},
   "outputs": [
    {
     "name": "stdin",
     "output_type": "stream",
     "text": [
      "enter the number 5\n"
     ]
    },
    {
     "name": "stdout",
     "output_type": "stream",
     "text": [
      "Factorial is 5\n",
      "Factorial is 20\n",
      "Factorial is 60\n",
      "Factorial is 120\n"
     ]
    }
   ],
   "source": [
    "num = int(input('enter the number'))\n",
    "fact = 1\n",
    "\n",
    "while num > 1:\n",
    "    fact = fact * num\n",
    "    num -= 1\n",
    "    print('Factorial is' , fact)"
   ]
  },
  {
   "cell_type": "code",
   "execution_count": 35,
   "id": "48af59ed-e4b2-4708-8593-380dede3dac6",
   "metadata": {},
   "outputs": [
    {
     "name": "stdin",
     "output_type": "stream",
     "text": [
      "Enter the number 100\n"
     ]
    },
    {
     "name": "stdout",
     "output_type": "stream",
     "text": [
      "Addition of digits is 0\n",
      "Addition of digits is 0\n",
      "Addition of digits is 1\n"
     ]
    }
   ],
   "source": [
    "#Find the sum of digits in a number\n",
    "#12345 => 1 + 2 + 3 + 4 + 5 = 15\n",
    "\n",
    "num = int(input('Enter the number'))\n",
    "\n",
    "add = 0\n",
    "\n",
    "while num > 0:\n",
    "    rem = num % 10\n",
    "    add = add + rem\n",
    "    num = num // 10\n",
    "    print('Addition of digits is' , add)"
   ]
  },
  {
   "cell_type": "code",
   "execution_count": 31,
   "id": "b90f2916-d97f-439c-94a4-0037fc2050ec",
   "metadata": {},
   "outputs": [
    {
     "data": {
      "text/plain": [
       "4"
      ]
     },
     "execution_count": 31,
     "metadata": {},
     "output_type": "execute_result"
    }
   ],
   "source": [
    "num = 12345\n",
    "\n",
    "num % 10\n",
    "a = num // 10\n",
    "a % 10"
   ]
  },
  {
   "cell_type": "markdown",
   "id": "665a67e6-0c90-46aa-909f-fbef4d743b2d",
   "metadata": {},
   "source": [
    "## For Loop"
   ]
  },
  {
   "cell_type": "code",
   "execution_count": 36,
   "id": "14d5d685-e083-4d50-911a-3b13f867cf08",
   "metadata": {},
   "outputs": [
    {
     "name": "stdout",
     "output_type": "stream",
     "text": [
      "12\n",
      "34\n",
      "45\n",
      "21\n"
     ]
    }
   ],
   "source": [
    "for n in 12 , 34 , 45 , 21:\n",
    "    print(n)"
   ]
  },
  {
   "cell_type": "code",
   "execution_count": 38,
   "id": "9b7d64e7-0426-49f4-a0e3-887d28b01d96",
   "metadata": {},
   "outputs": [
    {
     "name": "stdout",
     "output_type": "stream",
     "text": [
      "12\n",
      "34\n",
      "45\n",
      "21\n",
      "SANIKA\n",
      "True\n"
     ]
    }
   ],
   "source": [
    "for n in 12 , 34, 45, 21, 'SANIKA' , True:\n",
    "    print(n)"
   ]
  },
  {
   "cell_type": "code",
   "execution_count": 39,
   "id": "5b38a44a-080c-4e91-b948-6b0d4dd6ac0b",
   "metadata": {},
   "outputs": [
    {
     "name": "stdout",
     "output_type": "stream",
     "text": [
      "6.0\n",
      "17.0\n",
      "22.5\n",
      "10.5\n"
     ]
    }
   ],
   "source": [
    "for n in 12 , 34 , 45 , 21:\n",
    "    print(n/2)"
   ]
  },
  {
   "cell_type": "markdown",
   "id": "64280ed3-04fe-4961-8222-a6ce81c8ce6e",
   "metadata": {},
   "source": [
    "# range function\n"
   ]
  },
  {
   "cell_type": "code",
   "execution_count": 40,
   "id": "5b270e77-07b7-4a17-a5ed-4da4e7efb5d7",
   "metadata": {},
   "outputs": [
    {
     "data": {
      "text/plain": [
       "[0, 1, 2, 3, 4]"
      ]
     },
     "execution_count": 40,
     "metadata": {},
     "output_type": "execute_result"
    }
   ],
   "source": [
    "list(range(5))"
   ]
  },
  {
   "cell_type": "code",
   "execution_count": 41,
   "id": "47fc2b67-e3fc-4bba-8450-36c445e198ec",
   "metadata": {},
   "outputs": [
    {
     "data": {
      "text/plain": [
       "[5, 6, 7, 8, 9, 10, 11, 12, 13, 14, 15, 16, 17, 18, 19]"
      ]
     },
     "execution_count": 41,
     "metadata": {},
     "output_type": "execute_result"
    }
   ],
   "source": [
    "list(range(5 , 20))"
   ]
  },
  {
   "cell_type": "code",
   "execution_count": 42,
   "id": "7a9e2c6a-dd65-4108-98c3-37b5108d2846",
   "metadata": {},
   "outputs": [
    {
     "data": {
      "text/plain": [
       "[5, 7, 9, 11, 13, 15, 17, 19]"
      ]
     },
     "execution_count": 42,
     "metadata": {},
     "output_type": "execute_result"
    }
   ],
   "source": [
    "list(range(5 , 20 , 2))"
   ]
  },
  {
   "cell_type": "code",
   "execution_count": 43,
   "id": "efbbad01-9704-406a-ae4b-b583b501b8c7",
   "metadata": {},
   "outputs": [],
   "source": [
    "# range(start , end + 1, step)"
   ]
  },
  {
   "cell_type": "code",
   "execution_count": 45,
   "id": "50346f51-930d-4d74-a31f-e890e12e507f",
   "metadata": {},
   "outputs": [
    {
     "name": "stdout",
     "output_type": "stream",
     "text": [
      "1 2 3 4 5 6 7 8 9 10 "
     ]
    }
   ],
   "source": [
    "for n in range(1,11):\n",
    "    print(n, end = ' ')"
   ]
  },
  {
   "cell_type": "code",
   "execution_count": 46,
   "id": "9ee90638-c9de-4619-9cde-4fd2b63e5a07",
   "metadata": {},
   "outputs": [
    {
     "name": "stdout",
     "output_type": "stream",
     "text": [
      "Addition 100\n"
     ]
    }
   ],
   "source": [
    "#Addition of odd numbers from 1 to 20\n",
    "\n",
    "add = 0\n",
    "\n",
    "for n in range(1,21,2):\n",
    "    add = add + n\n",
    "\n",
    "print('Addition' , add)"
   ]
  },
  {
   "cell_type": "code",
   "execution_count": 49,
   "id": "68938999-20f0-4310-92d4-de5029bcf663",
   "metadata": {},
   "outputs": [
    {
     "name": "stdout",
     "output_type": "stream",
     "text": [
      "SANIKA SANIKA SANIKA SANIKA SANIKA SANIKA SANIKA SANIKA SANIKA SANIKA "
     ]
    }
   ],
   "source": [
    "for n in range(10):\n",
    "    print('SANIKA' , end = ' ')"
   ]
  },
  {
   "cell_type": "code",
   "execution_count": 50,
   "id": "f957ed17-be14-495a-8599-0f6d9ef0ad32",
   "metadata": {},
   "outputs": [
    {
     "name": "stdout",
     "output_type": "stream",
     "text": [
      "S\n",
      "A\n",
      "N\n",
      "I\n",
      "K\n",
      "A\n"
     ]
    }
   ],
   "source": [
    "for n in 'SANIKA':\n",
    "    print(n)"
   ]
  },
  {
   "cell_type": "code",
   "execution_count": 51,
   "id": "ed525e05-9fef-4f64-984b-704cbb48e43c",
   "metadata": {},
   "outputs": [
    {
     "name": "stdout",
     "output_type": "stream",
     "text": [
      "SANIKA\n",
      "SHRUTIKA\n"
     ]
    }
   ],
   "source": [
    "for n in 'SANIKA' , 'SHRUTIKA':\n",
    "    print(n)"
   ]
  },
  {
   "cell_type": "code",
   "execution_count": 52,
   "id": "706fbf07-0b3b-4881-bc87-1d78f9e01aa6",
   "metadata": {},
   "outputs": [
    {
     "name": "stdout",
     "output_type": "stream",
     "text": [
      "23\n",
      "45\n",
      "32\n",
      "21\n",
      "67\n",
      "Loop ended\n"
     ]
    }
   ],
   "source": [
    "l = [23 , 45 , 32 , 21 , 67]\n",
    "\n",
    "for n in l:\n",
    "    print(n)\n",
    "else:\n",
    "    print('Loop ended')"
   ]
  },
  {
   "cell_type": "code",
   "execution_count": 54,
   "id": "b1b38f76-4551-4b4b-9e65-43a826e82212",
   "metadata": {},
   "outputs": [
    {
     "name": "stdin",
     "output_type": "stream",
     "text": [
      "Enter the number 5\n"
     ]
    },
    {
     "name": "stdout",
     "output_type": "stream",
     "text": [
      "Factorial is 120\n"
     ]
    }
   ],
   "source": [
    "#Find factorial of a number...take user input\n",
    "\n",
    "num = int(input('Enter the number'))\n",
    "fact = 1\n",
    "\n",
    "for n in range(1 , num + 1):\n",
    "    fact = fact * n\n",
    "\n",
    "print('Factorial is' , fact)\n",
    "\n"
   ]
  },
  {
   "cell_type": "markdown",
   "id": "487376e9-bb37-483b-ba6a-18ccc9899f36",
   "metadata": {},
   "source": [
    "# Break statement"
   ]
  },
  {
   "cell_type": "code",
   "execution_count": 64,
   "id": "c21db4f5-ed7e-4528-898c-72245ca59429",
   "metadata": {},
   "outputs": [
    {
     "name": "stdout",
     "output_type": "stream",
     "text": [
      "1\n",
      "2\n",
      "3\n",
      "4\n"
     ]
    }
   ],
   "source": [
    "for n in range(1,10):\n",
    "    if n == 5:\n",
    "        break\n",
    "    print(n)"
   ]
  },
  {
   "cell_type": "code",
   "execution_count": 66,
   "id": "050ee46e-5898-4252-8972-f0c2d861ac10",
   "metadata": {},
   "outputs": [
    {
     "name": "stdout",
     "output_type": "stream",
     "text": [
      "0\n",
      "1\n",
      "2\n",
      "3\n",
      "4\n",
      "5\n"
     ]
    }
   ],
   "source": [
    "count = 0\n",
    "while count < 10:\n",
    "    print(count)\n",
    "    if count == 5:\n",
    "        break\n",
    "    count += 1"
   ]
  },
  {
   "cell_type": "code",
   "execution_count": 65,
   "id": "2493555a-bd61-4259-8e9e-403a841859b2",
   "metadata": {},
   "outputs": [
    {
     "name": "stdout",
     "output_type": "stream",
     "text": [
      "1\n",
      "2\n",
      "3\n",
      "4\n",
      "6\n",
      "7\n",
      "8\n",
      "9\n"
     ]
    }
   ],
   "source": [
    "for n in range(1 ,10):\n",
    "    if n == 5:\n",
    "        continue\n",
    "    print(n)"
   ]
  },
  {
   "cell_type": "code",
   "execution_count": 68,
   "id": "cb554175-c0c0-44ac-b002-22acd9c14327",
   "metadata": {},
   "outputs": [
    {
     "name": "stdout",
     "output_type": "stream",
     "text": [
      "1\n",
      "3\n",
      "5\n",
      "7\n",
      "9\n",
      "11\n"
     ]
    }
   ],
   "source": [
    "#Print odd numbers from 1 to 12 using continue statement\n",
    "\n",
    "for i in range(1,13):\n",
    "    if i % 2 ==0 :\n",
    "        continue\n",
    "    print(i)\n",
    "        "
   ]
  },
  {
   "cell_type": "markdown",
   "id": "6855bc51-5fb1-4ff0-bf94-a9206c54753b",
   "metadata": {},
   "source": [
    "# ##pass"
   ]
  },
  {
   "cell_type": "code",
   "execution_count": 74,
   "id": "357b3353-1066-4cb7-ba9f-0f053edb2f20",
   "metadata": {},
   "outputs": [],
   "source": [
    "num = 5\n",
    "\n",
    "if num > 1:\n",
    "     pass"
   ]
  },
  {
   "cell_type": "code",
   "execution_count": null,
   "id": "d3a65f79-fb56-4e40-bcda-48a79687e3ee",
   "metadata": {},
   "outputs": [],
   "source": [
    "'''\n",
    "*\n",
    "**\n",
    "***\n",
    "'''"
   ]
  },
  {
   "cell_type": "code",
   "execution_count": 80,
   "id": "27d7bbec-5f12-4386-8852-b554b12461b0",
   "metadata": {},
   "outputs": [
    {
     "name": "stdin",
     "output_type": "stream",
     "text": [
      "Enter the number of rows 3\n"
     ]
    },
    {
     "name": "stdout",
     "output_type": "stream",
     "text": [
      "* \n",
      "* * \n",
      "* * * \n"
     ]
    }
   ],
   "source": [
    "row = int(input('Enter the number of rows'))\n",
    "\n",
    "for i in range(1 , row + 1):\n",
    "    for j in range(i):\n",
    "        print('*' , end = ' ')\n",
    "    print()\n",
    "        "
   ]
  },
  {
   "cell_type": "code",
   "execution_count": null,
   "id": "a9adc91d-0ca4-4c46-b3a5-e292aed9e40b",
   "metadata": {},
   "outputs": [],
   "source": []
  }
 ],
 "metadata": {
  "kernelspec": {
   "display_name": "Python 3 (ipykernel)",
   "language": "python",
   "name": "python3"
  },
  "language_info": {
   "codemirror_mode": {
    "name": "ipython",
    "version": 3
   },
   "file_extension": ".py",
   "mimetype": "text/x-python",
   "name": "python",
   "nbconvert_exporter": "python",
   "pygments_lexer": "ipython3",
   "version": "3.11.7"
  }
 },
 "nbformat": 4,
 "nbformat_minor": 5
}