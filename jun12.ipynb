@@ -0,0 +1,168 @@
{
 "cells": [
  {
   "cell_type": "code",
   "execution_count": 2,
   "id": "cb3c7c0c-c7ea-4ab8-8d1d-957668039cf0",
   "metadata": {},
   "outputs": [],
   "source": [
    "import tkinter as tk\n",
    "from tkinter import BooleanVar\n",
    "from tkinter.ttk import *\n",
    "from tkinter import scrolledtext\n",
    "from tkinter.ttk import *\n",
    "from tkinter import messagebox"
   ]
  },
  {
   "cell_type": "code",
   "execution_count": 20,
   "id": "dbd5a4fb-ff7d-4e1b-b8fc-c25b35171525",
   "metadata": {},
   "outputs": [],
   "source": [
    "top = tk.Tk()\n",
    "\n",
    "top.title('My Application')\n",
    "top.geometry('500x400')\n",
    "\n",
    "b1 = tk.Button(top, text = 'Click mee!' , bg = 'pink').grid(column = 0 , row = 2)\n",
    "e1 = tk.Entry(top).grid(column = 1 , row = 1)\n",
    "t1 = tk.Entry(top).grid(column = 2 , row = 2)\n",
    "tk.Label(top , text = 'Welcome' , font = ('Ariel Bold' , 50)).grid(column = 3 , row = 2)\n",
    "\n",
    "# combo box\n",
    "\n",
    "combo = Combobox(top)\n",
    "combo['values'] = [1,2,3,4, 'next']\n",
    "combo.current(2)\n",
    "combo.grid(column = 0, row = 0)\n",
    "\n",
    "# check button\n",
    "ch = BooleanVar()\n",
    "ch.set(True)\n",
    "cb = Checkbutton(top , text = 'Done', var = ch, width = 30).grid(column = 0 , row = 0)\n",
    "\n",
    "# scrolled text\n",
    "st = scrolledtext.ScrolledText(top , width = 40, height = 10).grid(column = 3 , row = 3)\n",
    "\n",
    "top.mainloop()"
   ]
  },
  {
   "cell_type": "code",
   "execution_count": 35,
   "id": "74d4c1a3-6509-41b5-9cb9-b8051c303da0",
   "metadata": {},
   "outputs": [],
   "source": [
    "# square of a number\n",
    "\n",
    "top = tk.Tk()\n",
    "\n",
    "top.title('Square')\n",
    "top.geometry('500x400')\n",
    "\n",
    "a = tk.IntVar()\n",
    "\n",
    "def square():\n",
    "    num = a.get()\n",
    "    sq = num * num\n",
    "    result = tk.Label(top, text = 'Square is % i' % sq).place(x = 120, y = 200)\n",
    "    messagebox.showinfo(\"result\" ,'Square is % i' % sq )\n",
    "\n",
    "l = Label(top, text = 'INPUT').place(x = 20, y = 100)\n",
    "e = Entry(top, textvariable = a).place(x = 100, y = 100)\n",
    "b = tk.Button(top, text = 'Submit', bg = 'Orange', command = square).place(x = 120, y = 150)\n",
    "\n",
    "top.mainloop()"
   ]
  },
  {
   "cell_type": "code",
   "execution_count": 3,
   "id": "fb423f37-7192-45f6-b6e0-960f58384d57",
   "metadata": {},
   "outputs": [],
   "source": [
    "# create for Add, Sub , Mult , div of 2 numbers\n",
    "\n",
    "top=tk.Tk()\n",
    "\n",
    "top.title('Arithmetic operations')\n",
    "top.geometry('500x400')\n",
    "a1=tk.IntVar()\n",
    "a2=tk.IntVar()\n",
    "\n",
    "def addition():\n",
    "    add=a1.get()+a2.get()\n",
    "    messagebox.showinfo('Result','addition is %i'%add)\n",
    "    \n",
    "def subtraction():\n",
    "    sub=a1.get()-a2.get()\n",
    "    messagebox.showinfo('Result','subtraction is %i'%sub)\n",
    "    \n",
    "def multiplication():\n",
    "    mul=a1.get()*a2.get()\n",
    "    messagebox.showinfo('Result','multiplication is %i'%mul)\n",
    "    \n",
    "def division():\n",
    "    div=a1.get()/a2.get()\n",
    "    messagebox.showinfo('Result','division  is %i'%div)\n",
    "\n",
    "\n",
    "\n",
    "        \n",
    "        \n",
    "        \n",
    "l=tk.Label(top,text='INPUT').place(x=20,y=100)\n",
    "l1=tk.Label(top,text='INPUT').place(x=20,y=130)\n",
    "\n",
    "e=tk.Entry(top,textvariable=a1).place(x=100,y=100)\n",
    "e1=tk.Entry(top,textvariable=a2).place(x=100,y=130)\n",
    "\n",
    "\n",
    "b=tk.Button(top,text='submit',bg='orange',command=addition,cursor='hand2').place(x=50,y=150)\n",
    "b1=tk.Button(top,text='submit',bg='red',command=subtraction,cursor='hand2').place(x=50,y=170)\n",
    "b2=tk.Button(top,text='submit',bg='yellow',command=multiplication,cursor='hand2').place(x=50,y=190)\n",
    "b3=tk.Button(top,text='submit',bg='pink',command=division,cursor='hand2').place(x=50,y=200)\n",
    "\n",
    "\n",
    "top.mainloop()\n",
    "    \n",
    "\n",
    "    "
   ]
  },
  {
   "cell_type": "code",
   "execution_count": null,
   "id": "2c4d4aca-5327-4574-8c59-a910766b3e53",
   "metadata": {},
   "outputs": [],
   "source": []
  }
 ],
 "metadata": {
  "kernelspec": {
   "display_name": "Python 3 (ipykernel)",
   "language": "python",
   "name": "python3"
  },
  "language_info": {
   "codemirror_mode": {
    "name": "ipython",
    "version": 3
   },
   "file_extension": ".py",
   "mimetype": "text/x-python",
   "name": "python",
   "nbconvert_exporter": "python",
   "pygments_lexer": "ipython3",
   "version": "3.11.7"
  }
 },
 "nbformat": 4,
 "nbformat_minor": 5
}
0 comments on commit 1b497d2
@piyush439
Comment
 
Leave a comment
 
