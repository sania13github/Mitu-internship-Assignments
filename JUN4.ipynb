{
 "cells": [
  {
   "cell_type": "markdown",
   "id": "d0faaf08-b1f8-4f56-83db-c8a407719891",
   "metadata": {},
   "source": [
    "# Decision Making\n"
   ]
  },
  {
   "cell_type": "code",
   "execution_count": 1,
   "id": "6b88d36b-ae5e-494a-a9aa-3d92b6343614",
   "metadata": {},
   "outputs": [],
   "source": [
    "#Check if a number is greater than 50"
   ]
  },
  {
   "cell_type": "code",
   "execution_count": 6,
   "id": "f4d5250b-c5ad-4ad1-bc4b-7961e01bccce",
   "metadata": {},
   "outputs": [
    {
     "name": "stdout",
     "output_type": "stream",
     "text": [
      "ok\n"
     ]
    }
   ],
   "source": [
    "num=78\n",
    "if num > 50:\n",
    "    print( 'ok' )"
   ]
  },
  {
   "cell_type": "code",
   "execution_count": 10,
   "id": "4b4944da-4c51-4363-a5dc-8b412a6dd76b",
   "metadata": {},
   "outputs": [
    {
     "name": "stdout",
     "output_type": "stream",
     "text": [
      "not ok \n"
     ]
    }
   ],
   "source": [
    "num=40\n",
    "if num > 50:\n",
    "    print( 'ok' )\n",
    "else:\n",
    "    print( 'not ok ' ) "
   ]
  },
  {
   "cell_type": "code",
   "execution_count": 12,
   "id": "74c00c8f-89d0-4a0a-bf5f-950ac124c9b1",
   "metadata": {},
   "outputs": [
    {
     "name": "stdin",
     "output_type": "stream",
     "text": [
      "Enter the number 56\n"
     ]
    },
    {
     "name": "stdout",
     "output_type": "stream",
     "text": [
      "ok\n"
     ]
    }
   ],
   "source": [
    "num = int(input('Enter the number'))\n",
    "\n",
    "if num > 50:\n",
    "    print( 'ok' )\n",
    " \n"
   ]
  },
  {
   "cell_type": "code",
   "execution_count": 15,
   "id": "c847f980-23ba-455d-b835-358c370f435c",
   "metadata": {},
   "outputs": [
    {
     "name": "stdin",
     "output_type": "stream",
     "text": [
      "Enter the number 2\n"
     ]
    },
    {
     "name": "stdout",
     "output_type": "stream",
     "text": [
      "Positive\n",
      "ok\n"
     ]
    }
   ],
   "source": [
    "#Check the given number is negative or positive\n",
    "num = int(input('Enter the number'))\n",
    "if num > 0:\n",
    "    print( 'Positive' )\n",
    "    print( 'ok' )\n",
    "else:\n",
    "        print( 'Negative' )\n",
    "        print( 'GoodBYeee!!' )"
   ]
  },
  {
   "cell_type": "code",
   "execution_count": 17,
   "id": "419b6949-1294-470b-9caa-9d82b1c72d14",
   "metadata": {},
   "outputs": [
    {
     "name": "stdin",
     "output_type": "stream",
     "text": [
      "Enter the number 0\n"
     ]
    },
    {
     "name": "stdout",
     "output_type": "stream",
     "text": [
      "ZERO\n"
     ]
    }
   ],
   "source": [
    "num = int(input('Enter the number'))\n",
    "if num > 0:\n",
    "    print( 'Positive' )\n",
    "elif num == 0 :\n",
    "    print( 'ZERO' )\n",
    "\n",
    "else:\n",
    "        print( 'Negative' )\n",
    "       "
   ]
  },
  {
   "cell_type": "code",
   "execution_count": 18,
   "id": "0eed3083-f986-4547-a0f9-4e167b010333",
   "metadata": {},
   "outputs": [],
   "source": [
    "#Even or Odd"
   ]
  },
  {
   "cell_type": "code",
   "execution_count": 19,
   "id": "d993d025-bb6c-451d-ad13-b946b75f40a3",
   "metadata": {},
   "outputs": [
    {
     "name": "stdin",
     "output_type": "stream",
     "text": [
      "Enter the number 3\n"
     ]
    },
    {
     "name": "stdout",
     "output_type": "stream",
     "text": [
      "Odd\n"
     ]
    }
   ],
   "source": [
    "num = int(input('Enter the number'))\n",
    "if num % 2== 0:\n",
    "    print( 'Even' )\n",
    "else:\n",
    "        print( 'Odd' ) "
   ]
  },
  {
   "cell_type": "code",
   "execution_count": 21,
   "id": "e980f33a-216d-4f95-bcc0-f06475bb7bba",
   "metadata": {},
   "outputs": [
    {
     "data": {
      "text/plain": [
       "0"
      ]
     },
     "execution_count": 21,
     "metadata": {},
     "output_type": "execute_result"
    }
   ],
   "source": [
    "int(False)"
   ]
  },
  {
   "cell_type": "code",
   "execution_count": 22,
   "id": "4632e201-d380-4242-a685-79dc1f530cca",
   "metadata": {},
   "outputs": [
    {
     "data": {
      "text/plain": [
       "1"
      ]
     },
     "execution_count": 22,
     "metadata": {},
     "output_type": "execute_result"
    }
   ],
   "source": [
    "int(True)"
   ]
  },
  {
   "cell_type": "code",
   "execution_count": 23,
   "id": "944b25bb-650e-4d41-a94e-85bd8b5e5230",
   "metadata": {},
   "outputs": [
    {
     "data": {
      "text/plain": [
       "2"
      ]
     },
     "execution_count": 23,
     "metadata": {},
     "output_type": "execute_result"
    }
   ],
   "source": [
    "True+True+False"
   ]
  },
  {
   "cell_type": "code",
   "execution_count": 24,
   "id": "1f52151f-d9eb-4c65-90ed-e5ad6bfc2548",
   "metadata": {},
   "outputs": [
    {
     "name": "stdout",
     "output_type": "stream",
     "text": [
      "OK\n"
     ]
    }
   ],
   "source": [
    "a=56\n",
    "if a:\n",
    "    print('OK')"
   ]
  },
  {
   "cell_type": "code",
   "execution_count": 25,
   "id": "e7142aae-f5a2-438e-baae-4b078cfec8a2",
   "metadata": {},
   "outputs": [],
   "source": [
    "#Check if the no is in between 50 and 150"
   ]
  },
  {
   "cell_type": "code",
   "execution_count": 32,
   "id": "0c0126d3-eff2-498d-a46b-c23612c6e3a1",
   "metadata": {},
   "outputs": [
    {
     "name": "stdin",
     "output_type": "stream",
     "text": [
      "Enter the number 158\n"
     ]
    },
    {
     "name": "stdout",
     "output_type": "stream",
     "text": [
      "Greater than 150\n"
     ]
    }
   ],
   "source": [
    "num = int(input('Enter the number'))\n",
    "\n",
    "if num > 50:\n",
    "    if num < 150:\n",
    "       print( 'Correct' )\n",
    "    else:\n",
    "        print( 'Greater than 150' ) \n",
    "else:\n",
    "        print( 'Not Correct' ) \n",
    "    \n"
   ]
  },
  {
   "cell_type": "code",
   "execution_count": 35,
   "id": "43688c79-a0f3-4ec0-ae58-7356792447d6",
   "metadata": {},
   "outputs": [
    {
     "name": "stdin",
     "output_type": "stream",
     "text": [
      "Enter the number 157\n"
     ]
    },
    {
     "name": "stdout",
     "output_type": "stream",
     "text": [
      "Not Correct\n"
     ]
    }
   ],
   "source": [
    "num = int(input('Enter the number'))\n",
    "\n",
    "if num > 50 and num < 150:\n",
    "       print( 'Correct' )\n",
    "    \n",
    "else:\n",
    "        print( 'Not Correct' ) \n"
   ]
  },
  {
   "cell_type": "code",
   "execution_count": 36,
   "id": "6c4c59e6-037c-427a-a763-480acd0b9806",
   "metadata": {},
   "outputs": [],
   "source": [
    "#Read the purchase cost  and selling cost\n",
    "#State profit or loss how much"
   ]
  },
  {
   "cell_type": "code",
   "execution_count": 40,
   "id": "2d6dceca-8e2b-4e3a-98ab-20327839f793",
   "metadata": {},
   "outputs": [
    {
     "name": "stdin",
     "output_type": "stream",
     "text": [
      "Enter the selling cost 120\n",
      "Enter the purchase cost 100\n"
     ]
    },
    {
     "name": "stdout",
     "output_type": "stream",
     "text": [
      "Profit: 20\n"
     ]
    }
   ],
   "source": [
    "selling_cost = int(input('Enter the selling cost'))\n",
    "purchase_cost = int(input('Enter the purchase cost'))\n",
    "if selling_cost > purchase_cost:\n",
    "    print('Profit:',selling_cost-purchase_cost)\n",
    "else:\n",
    "        print('Loss:',purchase_cost-selling_cost)"
   ]
  },
  {
   "cell_type": "code",
   "execution_count": 41,
   "id": "b8c9866d-07ba-4b4c-bac9-6198eccd47ef",
   "metadata": {},
   "outputs": [],
   "source": [
    "#Take 3 numbers find the largest of them\n",
    "#Not allowed to use 'and' or 'or'\n"
   ]
  },
  {
   "cell_type": "code",
   "execution_count": 21,
   "id": "cc3b0b2d-90b7-4dbf-b559-f64194504b85",
   "metadata": {},
   "outputs": [
    {
     "name": "stdin",
     "output_type": "stream",
     "text": [
      "Enter the Num1 1\n",
      "Enter the Num2 23\n",
      "Enter the Num3 3\n"
     ]
    },
    {
     "name": "stdout",
     "output_type": "stream",
     "text": [
      "num2 is greater\n"
     ]
    }
   ],
   "source": [
    "num1 = int(input(\"Enter the Num1\"))\n",
    "num2 = int(input(\"Enter the Num2\"))\n",
    "num3 = int(input(\"Enter the Num3\"))\n",
    "\n",
    "if num1 > num2:\n",
    "    if num1 > num3:\n",
    "        print(\"num1 is greater\")\n",
    "    else:\n",
    "        print(\"num3 is greater\")\n",
    "else:\n",
    "    if num2 > num3 :\n",
    "        print(\"num2 is greater\")\n",
    "    else:\n",
    "         print(\"num3 is greater\")"
   ]
  },
  {
   "cell_type": "code",
   "execution_count": 38,
   "id": "1fba0a72-7f75-423a-8cb3-f0a3acf5aebf",
   "metadata": {},
   "outputs": [
    {
     "name": "stdin",
     "output_type": "stream",
     "text": [
      "Enter year :  2000\n"
     ]
    },
    {
     "name": "stdout",
     "output_type": "stream",
     "text": [
      "The year is a leap year!\n"
     ]
    }
   ],
   "source": [
    "#WAP to find if an year is leap year or not\n",
    "\n",
    "year = int(input(\"Enter year : \"))\n",
    " \n",
    "if year % 4 == 0:\n",
    "    if year % 100 == 0:\n",
    "        if year % 400 == 0:\n",
    "            print(\"The year is a leap year!\")\n",
    "        else:\n",
    "            print(\"The year is not a leap year!\")\n",
    "    else:\n",
    "        print(\"The year is a leap year!\")\n",
    "else:\n",
    "    print(\"The year is not a leap year!\")"
   ]
  },
  {
   "cell_type": "code",
   "execution_count": 39,
   "id": "e6c70750-842b-4d18-9e29-633bf1091652",
   "metadata": {},
   "outputs": [
    {
     "name": "stdin",
     "output_type": "stream",
     "text": [
      "Enter the marks 78\n"
     ]
    },
    {
     "name": "stdout",
     "output_type": "stream",
     "text": [
      "First Class\n"
     ]
    }
   ],
   "source": [
    "marks = float(input(\"Enter the marks\"))\n",
    "\n",
    "if marks >= 60:\n",
    "    print(\"First Class\")\n",
    "elif marks >= 50:\n",
    "    print(\"Second Class\")\n",
    "elif marks >= 40:\n",
    "    print(\"Third Class\")\n",
    "elif marks >= 35:\n",
    "    print(\"PASS\")\n",
    "else:\n",
    "    print(\"FAIL\")"
   ]
  },
  {
   "cell_type": "code",
   "execution_count": 41,
   "id": "c3a34ab2-e436-4bbb-bb89-b5f592361777",
   "metadata": {},
   "outputs": [
    {
     "name": "stdin",
     "output_type": "stream",
     "text": [
      "Enter the number 2\n"
     ]
    },
    {
     "name": "stdout",
     "output_type": "stream",
     "text": [
      "MENU:\n",
      "1.Square\n",
      "2.Cube\n",
      "3.Positive or Negative\n"
     ]
    },
    {
     "name": "stdin",
     "output_type": "stream",
     "text": [
      "Enter your choice 1\n"
     ]
    },
    {
     "name": "stdout",
     "output_type": "stream",
     "text": [
      "Square is: 4\n"
     ]
    }
   ],
   "source": [
    "#Menu driven program\n",
    "\n",
    "''' based on the choice it will do square,cube or check +ve or -ve'''\n",
    "\n",
    "num = int(input(\"Enter the number\"))\n",
    "print(\"MENU:\\n1.Square\\n2.Cube\\n3.Positive or Negative\")\n",
    "choice = int(input(\"Enter your choice\"))\n",
    "\n",
    "if choice == 1:\n",
    "    print(\"Square is:\" , num * num)\n",
    "elif choice == 2:\n",
    "    print(\"Cube is:\" , num ** 3)\n",
    "elif choice == 3:\n",
    "    if num > 0:\n",
    "        print(\"Positive\")\n",
    "    else:\n",
    "        print(\"Negative\")\n",
    "else:\n",
    "    print(\"You must have forgotten your specs\")\n",
    "    "
   ]
  },
  {
   "cell_type": "code",
   "execution_count": 44,
   "id": "ae48c795-edb9-4883-948c-d111ac897c85",
   "metadata": {},
   "outputs": [],
   "source": [
    "#Read 2 numbers and perform addition,subtraction, division\n",
    "#wgich one is greater based on choice\n",
    "\n"
   ]
  },
  {
   "cell_type": "code",
   "execution_count": 1,
   "id": "28e0dbf6-7f1c-4a8b-ab81-d02f0489e35f",
   "metadata": {},
   "outputs": [
    {
     "ename": "SyntaxError",
     "evalue": "invalid non-printable character U+00A0 (3209370344.py, line 17)",
     "output_type": "error",
     "traceback": [
      "\u001b[1;36m  Cell \u001b[1;32mIn[1], line 17\u001b[1;36m\u001b[0m\n\u001b[1;33m    print(num1, ch , num2, \":\", result)\u001b[0m\n\u001b[1;37m                          ^\u001b[0m\n\u001b[1;31mSyntaxError\u001b[0m\u001b[1;31m:\u001b[0m invalid non-printable character U+00A0\n"
     ]
    }
   ],
   "source": [
    "num1 = int(input(\"Enter First Number: \"))\n",
    "num2 = int(input(\"Enter Second Number: \"))\n",
    "\n",
    "print(\"Enter which operation would you like to perform?\")\n",
    "ch = input(\"Enter any of these char for specific operation +,-,/: \")\n",
    "\n",
    "result = 0\n",
    "if ch == '+':\n",
    "    result = num1 + num2\n",
    "elif ch == '-':\n",
    "    result = num1 - num2\n",
    "elif ch == '/':\n",
    "    result = num1 / num2\n",
    "else:\n",
    "    print(\"Input character is not recognized!\")\n",
    "\n",
    "print(num1, ch , num2, \":\", result)"
   ]
  },
  {
   "cell_type": "code",
   "execution_count": null,
   "id": "c5369562-c619-43c2-b70d-bab90a1ec8df",
   "metadata": {},
   "outputs": [],
   "source": []
  }
 ],
 "metadata": {
  "kernelspec": {
   "display_name": "Python 3 (ipykernel)",
   "language": "python",
   "name": "python3"
  },
  "language_info": {
   "codemirror_mode": {
    "name": "ipython",
    "version": 3
   },
   "file_extension": ".py",
   "mimetype": "text/x-python",
   "name": "python",
   "nbconvert_exporter": "python",
   "pygments_lexer": "ipython3",
   "version": "3.11.7"
  }
 },
 "nbformat": 4,
 "nbformat_minor": 5
}