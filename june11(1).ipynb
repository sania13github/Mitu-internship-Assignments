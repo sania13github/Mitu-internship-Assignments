@@ -0,0 +1,220 @@
{
 "cells": [
  {
   "cell_type": "code",
   "execution_count": 1,
   "id": "32409038-7e6f-4afd-b4fe-af754d635962",
   "metadata": {},
   "outputs": [
    {
     "ename": "FileNotFoundError",
     "evalue": "[Errno 2] No such file or directory: 'all.txt'",
     "output_type": "error",
     "traceback": [
      "\u001b[1;31m---------------------------------------------------------------------------\u001b[0m",
      "\u001b[1;31mFileNotFoundError\u001b[0m                         Traceback (most recent call last)",
      "Cell \u001b[1;32mIn[1], line 1\u001b[0m\n\u001b[1;32m----> 1\u001b[0m \u001b[38;5;28mopen\u001b[39m(\u001b[38;5;124m'\u001b[39m\u001b[38;5;124mall.txt\u001b[39m\u001b[38;5;124m'\u001b[39m)\n",
      "File \u001b[1;32m~\\anaconda3\\Lib\\site-packages\\IPython\\core\\interactiveshell.py:310\u001b[0m, in \u001b[0;36m_modified_open\u001b[1;34m(file, *args, **kwargs)\u001b[0m\n\u001b[0;32m    303\u001b[0m \u001b[38;5;28;01mif\u001b[39;00m file \u001b[38;5;129;01min\u001b[39;00m {\u001b[38;5;241m0\u001b[39m, \u001b[38;5;241m1\u001b[39m, \u001b[38;5;241m2\u001b[39m}:\n\u001b[0;32m    304\u001b[0m     \u001b[38;5;28;01mraise\u001b[39;00m \u001b[38;5;167;01mValueError\u001b[39;00m(\n\u001b[0;32m    305\u001b[0m         \u001b[38;5;124mf\u001b[39m\u001b[38;5;124m\"\u001b[39m\u001b[38;5;124mIPython won\u001b[39m\u001b[38;5;124m'\u001b[39m\u001b[38;5;124mt let you open fd=\u001b[39m\u001b[38;5;132;01m{\u001b[39;00mfile\u001b[38;5;132;01m}\u001b[39;00m\u001b[38;5;124m by default \u001b[39m\u001b[38;5;124m\"\u001b[39m\n\u001b[0;32m    306\u001b[0m         \u001b[38;5;124m\"\u001b[39m\u001b[38;5;124mas it is likely to crash IPython. If you know what you are doing, \u001b[39m\u001b[38;5;124m\"\u001b[39m\n\u001b[0;32m    307\u001b[0m         \u001b[38;5;124m\"\u001b[39m\u001b[38;5;124myou can use builtins\u001b[39m\u001b[38;5;124m'\u001b[39m\u001b[38;5;124m open.\u001b[39m\u001b[38;5;124m\"\u001b[39m\n\u001b[0;32m    308\u001b[0m     )\n\u001b[1;32m--> 310\u001b[0m \u001b[38;5;28;01mreturn\u001b[39;00m io_open(file, \u001b[38;5;241m*\u001b[39margs, \u001b[38;5;241m*\u001b[39m\u001b[38;5;241m*\u001b[39mkwargs)\n",
      "\u001b[1;31mFileNotFoundError\u001b[0m: [Errno 2] No such file or directory: 'all.txt'"
     ]
    }
   ],
   "source": [
    "    open('all.txt')"
   ]
  },
  {
   "cell_type": "code",
   "execution_count": 1,
   "id": "25380150-8048-4640-aa21-eb03531cabaf",
   "metadata": {},
   "outputs": [
    {
     "name": "stdout",
     "output_type": "stream",
     "text": [
      "file is not there\n"
     ]
    }
   ],
   "source": [
    "try:\n",
    "    f = open('all.txt')\n",
    "    \n",
    "except Exception:\n",
    "    print('file is not there')"
   ]
  },
  {
   "cell_type": "code",
   "execution_count": 2,
   "id": "fd2b193b-a521-4fab-ae7f-c72a6f22588e",
   "metadata": {},
   "outputs": [
    {
     "name": "stdout",
     "output_type": "stream",
     "text": [
      "file is not there\n"
     ]
    }
   ],
   "source": [
    "try:\n",
    "    f = open('all.txt')\n",
    "    var = var1\n",
    "except Exception:\n",
    "    print('file is not there')"
   ]
  },
  {
   "cell_type": "code",
   "execution_count": 3,
   "id": "d3d2f739-33d4-4e5e-b6b4-e6e60480fdff",
   "metadata": {},
   "outputs": [
    {
     "name": "stdout",
     "output_type": "stream",
     "text": [
      "there is no such file\n"
     ]
    }
   ],
   "source": [
    "try:\n",
    "    f=open('abc.txt')\n",
    "    var=var1\n",
    "except FileNotFoundError:\n",
    "    print('there is no such file')"
   ]
  },
  {
   "cell_type": "code",
   "execution_count": 4,
   "id": "b7f0f13c-f0dd-4ed4-93cf-1f770f3d22e1",
   "metadata": {},
   "outputs": [
    {
     "name": "stdout",
     "output_type": "stream",
     "text": [
      "there is no such file\n"
     ]
    }
   ],
   "source": [
    "try:\n",
    "    f=open('abc.txt')\n",
    "    var=var1\n",
    "except FileNotFoundError:\n",
    "    print('there is no such file')\n",
    "except NameError:\n",
    "    print('invalid')"
   ]
  },
  {
   "cell_type": "code",
   "execution_count": 5,
   "id": "4d98582b-0473-4c12-ac96-166a865ad53c",
   "metadata": {},
   "outputs": [
    {
     "name": "stdout",
     "output_type": "stream",
     "text": [
      "there is no such file\n"
     ]
    }
   ],
   "source": [
    "try:\n",
    "    f=open('abc.txt')\n",
    "    var=var1\n",
    "except FileNotFoundError:\n",
    "    print('there is no such file')\n",
    "except Exeception as e:\n",
    "    print(e)"
   ]
  },
  {
   "cell_type": "code",
   "execution_count": 6,
   "id": "e22cc687-3684-4ce3-9f8d-229a0b9a190e",
   "metadata": {},
   "outputs": [
    {
     "name": "stdout",
     "output_type": "stream",
     "text": [
      "Life comprises individuals, living beings, assignable to groups (taxa). Each individual is composed of one or more minimal living units, called cells, and is capable of transformation of carbon-based and other compounds (metabolism), growth, and participation in reproductive acts.\n"
     ]
    }
   ],
   "source": [
    "try:\n",
    "    f=open('maha.txt')\n",
    "except FileNotFoundError:\n",
    "    print('there is no such file')\n",
    "else:\n",
    "    print(f.read())\n",
    "    f.close()"
   ]
  },
  {
   "cell_type": "code",
   "execution_count": 7,
   "id": "740807b8-d5cc-43e4-a557-d83c66c756b8",
   "metadata": {},
   "outputs": [
    {
     "name": "stdout",
     "output_type": "stream",
     "text": [
      "there is no such file\n",
      "Finally\n"
     ]
    }
   ],
   "source": [
    "try:\n",
    "    f=open('file.txt')\n",
    "except FileNotFoundError:\n",
    "    print('there is no such file')\n",
    "else:\n",
    "    print('ok')\n",
    "finally:\n",
    "    print('Finally')"
   ]
  },
  {
   "cell_type": "code",
   "execution_count": null,
   "id": "a2b29d25-8693-4c1f-b4e5-bc3914d8b73b",
   "metadata": {},
   "outputs": [],
   "source": []
  }
 ],
 "metadata": {
  "kernelspec": {
   "display_name": "Python 3 (ipykernel)",
   "language": "python",
   "name": "python3"
  },
  "language_info": {
   "codemirror_mode": {
    "name": "ipython",
    "version": 3
   },
   "file_extension": ".py",
   "mimetype": "text/x-python",
   "name": "python",
   "nbconvert_exporter": "python",
   "pygments_lexer": "ipython3",
   "version": "3.11.7"
  }
 },
 "nbformat": 4,
 "nbformat_minor": 5
}
0 comments on commit c8ea0d4
@piyush439
Comment
 
Leave a comment
 
 You’re not receiving notifications from this thread.